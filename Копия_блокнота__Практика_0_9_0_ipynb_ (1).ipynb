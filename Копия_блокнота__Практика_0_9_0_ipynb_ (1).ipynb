{
  "nbformat": 4,
  "nbformat_minor": 0,
  "metadata": {
    "colab": {
      "provenance": []
    },
    "kernelspec": {
      "name": "python3",
      "display_name": "Python 3"
    },
    "language_info": {
      "name": "python"
    }
  },
  "cells": [
    {
      "cell_type": "markdown",
      "source": [
        "ФИО"
      ],
      "metadata": {
        "id": "8hJfL9b2l439"
      }
    },
    {
      "cell_type": "code",
      "source": [
        "Гаврилова Мария"
      ],
      "metadata": {
        "id": "wRnqvYOkl6EX"
      },
      "execution_count": null,
      "outputs": []
    },
    {
      "cell_type": "markdown",
      "source": [
        "# Дисклеймер"
      ],
      "metadata": {
        "id": "weOtPwPQmgpD"
      }
    },
    {
      "cell_type": "markdown",
      "source": [
        "В данной практике вам необходимо применить все ваши знания по темам:\n",
        "\n",
        "- Функции\n",
        "- Словари\n",
        "- Списки\n",
        "- Множества\n",
        "- Условные конструкции\n",
        "- Запросы\n",
        "\n",
        "и все что было изучено на прошлых практических занятиях\n",
        "\n",
        "В каждом задании кратко описаны функции, которые необходимо реализовать, детали реализации вы должны продумать самостоятельно"
      ],
      "metadata": {
        "id": "LznB3uscmjDa"
      }
    },
    {
      "cell_type": "markdown",
      "source": [
        "# Задание 0"
      ],
      "metadata": {
        "id": "7nSJIqkTvC_C"
      }
    },
    {
      "cell_type": "markdown",
      "source": [
        "Создайте функцию по нахождению уникальных элементов из двух списков\n",
        "\n",
        "\n",
        "\n",
        "```\n",
        "a = [1, 2, 3, 4]\n",
        "b = [3, 4, 5, 6]\n",
        "```\n",
        "\n"
      ],
      "metadata": {
        "id": "exACjTiVvGUe"
      }
    },
    {
      "cell_type": "code",
      "source": [
        "def unique(a, b):\n",
        "    set_a = set(a)\n",
        "    set_b = set(b)\n",
        "    unique_a = set_a - set_b\n",
        "    unique_b = set_b - set_a\n",
        "    return list(unique_a.union(unique_b))\n",
        "\n",
        "a = [1, 2, 3, 4]\n",
        "b = [3, 4, 5, 6]\n",
        "result = unique(a, b)\n",
        "print(result)\n"
      ],
      "metadata": {
        "id": "zilqjZ6wa7QY"
      },
      "execution_count": null,
      "outputs": []
    },
    {
      "cell_type": "markdown",
      "source": [
        "# Задание 1"
      ],
      "metadata": {
        "id": "SVWNlBALpCNo"
      }
    },
    {
      "cell_type": "markdown",
      "source": [
        "Симулятор виртуального питомца\n",
        "\n",
        "Цель: создать виртуальный симулятор домашних животных, в котором пользователи смогут заводить питомцев и ухаживать за ними.\n",
        "\n",
        "Требования:\n",
        "\n",
        "- Функция для усыновления питомца (имя, тип, возраст).\n",
        "- Функция для того, чтобы покормить питомца, поиграть с ним или уложить его спать.\n",
        "- Функция для отображения состояния питомца (голод, радость, энергия)."
      ],
      "metadata": {
        "id": "RcKA-VEqpC7f"
      }
    },
    {
      "cell_type": "code",
      "source": [
        "import random\n",
        "\n",
        "\n",
        "def shelter(n, t, v): #усыновление\n",
        "  print('Привет! У нас для вас есть один питомец! его зовут: ',r_name, ', его тип: ',r_tip, ', его возраст: ', r_vozrast, 'г.')\n",
        "  otvet1 = input('Хотите усыновить этого питомца? Ответьте (yes) или (no) =>')\n",
        "  if otvet1 == 'yes':\n",
        "    print(gg)\n",
        "  else:\n",
        "    print(bb)\n",
        "\n",
        "\n",
        "\n",
        "def interaction(eat,play,sleep): #действия над питомцем\n",
        "  print('Что бы вы хотели поделать вместе с питомцем: покушат, поиграт, поспат?')\n",
        "  otvet2 = input('Впишите вариант ответа =>')\n",
        "  if otvet2 == eat:\n",
        "    print('Ваш питомец сыт!клас!')\n",
        "    return ('Ваш питомец сыт!клас!')\n",
        "  elif otvet2 == play:\n",
        "    print('Ваш питомец поигал!клас!')\n",
        "    return('Ваш питомец поигал!клас!')\n",
        "  else:\n",
        "    print('Ваш питомец поcпал!клас!')\n",
        "    return('Ваш питомец поcпал!клас!')\n",
        "\n",
        "\n",
        "def mood(s1): #отображение состояния\n",
        "  if s1 == 'Ваш питомец сыт!клас!':\n",
        "    print(f'Состояние питомца:{golod + 10}% {radost}% {anergi}%')\n",
        "  elif s1 ==  'Ваш питомец поигал!клас!':\n",
        "    print(f'Состояние питомца:{golod }% {radost + 10}% {anergi}%')\n",
        "  else:\n",
        "    print(f'Состояние питомца:{golod}% {radost}% {anergi + 10}%')\n",
        "\n",
        "\n",
        "golod = 50\n",
        "radost = 50\n",
        "anergi = 50\n",
        "\n",
        "name = ['Bob', 'Max', 'Angelica', '@#$%%$#@@#', 'pol', 'tamara']\n",
        "tip = ['krolik', 'cat', 'dog', 'korova', 'jaba_skript', 'abobik']\n",
        "vozrast = ['1', '2', '0.5', '30', '666', '10']\n",
        "\n",
        "r_name = random.choices(name)\n",
        "r_tip = random.choices(tip)\n",
        "r_vozrast = random.choices(vozrast)\n",
        "\n",
        "gg = 'Поздравляем!!! Вы усыновили питомца!!!'\n",
        "bb = 'Приходите еще!'\n",
        "\n",
        "\n",
        "shelter(r_name, r_tip, r_vozrast)#усыновление\n",
        "message = interaction('покушат','поиграт','поспат')#действия над питомцем\n",
        "mood(message) #отображение состояния\n",
        "\n",
        "\n",
        "\n",
        "\n"
      ],
      "metadata": {
        "id": "hE7mF-HXpJLO",
        "colab": {
          "base_uri": "https://localhost:8080/"
        },
        "outputId": "fc2f3a74-0437-4224-e862-2e16756404d8"
      },
      "execution_count": null,
      "outputs": [
        {
          "output_type": "stream",
          "name": "stdout",
          "text": [
            "Привет! У нас для вас есть один питомец! его зовут:  ['@#$%%$#@@#'] , его тип:  ['jaba_skript'] , его возраст:  ['30'] г.\n",
            "Хотите усыновить этого питомца? Ответьте (yes) или (no) =>yes\n",
            "Поздравляем!!! Вы усыновили питомца!!!\n",
            "Что бы вы хотели поделать вместе с питомцем: покушат, поиграт, поспат?\n",
            "Впишите вариант ответа =>покушат\n",
            "Ваш питомец сыт!клас!\n",
            "Message: Ваш питомец сыт!клас!\n"
          ]
        }
      ]
    },
    {
      "cell_type": "markdown",
      "source": [
        "# Задание 2"
      ],
      "metadata": {
        "id": "qZ7qFQnmssNd"
      }
    },
    {
      "cell_type": "markdown",
      "source": [
        "Рыцарь и дракон\n",
        "\n",
        "Цель: создать небольшую игру, в которой вам необходимо играть за рыцаря и сразиться с драконом\n",
        "\n",
        "Требования:\n",
        "\n",
        "- Создание персонажа (имя, информация о доспехах, оружии, урон, здоровье)\n",
        "- Управление персонажем и мини сюжет\n",
        "- Создание дракона (Имя, информация о здоровье и уроне)\n",
        "- Боевая система (нанесение и получение урона, урон должен быть случайным в заданном диапазоне)\n",
        "- Реализовать бой между драконом и рыцарем"
      ],
      "metadata": {
        "id": "UaccTe7ltNvg"
      }
    },
    {
      "cell_type": "code",
      "source": [
        "import random\n",
        "\n",
        "def create_character():\n",
        "    name = input(\"Введите имя рыцаря: \")\n",
        "    armor = input(\"Введите информацию о доспехах: \")\n",
        "    weapon = input(\"Введите название оружия: \")\n",
        "    damage = random.randint(5, 15)\n",
        "    health = 100\n",
        "    return name, armor, weapon, damage, health\n",
        "\n",
        "def create_dragon():\n",
        "    name = \"Дракон\"\n",
        "    health = 100\n",
        "    damage = random.randint(10, 20)\n",
        "    return name, health, damage\n",
        "\n",
        "def battle(knight, dragon):\n",
        "    knight_health = knight[4]\n",
        "    dragon_health = dragon[1]\n",
        "\n",
        "    while knight_health > 0 and dragon_health > 0:\n",
        "        knight_attack = random.randint(0, knight[3])\n",
        "        dragon_attack = random.randint(0, dragon[2])\n",
        "\n",
        "        dragon_health -= knight_attack\n",
        "        knight_health -= dragon_attack\n",
        "\n",
        "        print(f\"{knight[0]} атакует дракона на {knight_attack} урона.\")\n",
        "        print(f\"{dragon[0]} атакует {knight[0]} на {dragon_attack} урона.\")\n",
        "        print(f\"Здоровье {knight[0]}: {knight_health}, Здоровье {dragon[0]}: {dragon_health}\")\n",
        "\n",
        "    if knight_health > 0:\n",
        "        print(f\"{knight[0]} победил дракона!\")\n",
        "    else:\n",
        "        print(f\"{dragon[0]} победил {knight[0]}.\")\n",
        "\n",
        "def main():\n",
        "    knight = create_character()\n",
        "    dragon = create_dragon()\n",
        "    battle(knight, dragon)\n",
        "\n",
        "main()\n"
      ],
      "metadata": {
        "id": "LCcxp5Q0srjY",
        "colab": {
          "base_uri": "https://localhost:8080/"
        },
        "outputId": "1e0b4fa8-b5c2-4433-f0cc-6bac1a90b82b"
      },
      "execution_count": null,
      "outputs": [
        {
          "output_type": "stream",
          "name": "stdout",
          "text": [
            "Введите имя рыцаря: аа\n",
            "Введите информацию о доспехах: ааа\n",
            "Введите название оружия: вв\n",
            "аа атакует дракона на 6 урона.\n",
            "Дракон атакует аа на 10 урона.\n",
            "Здоровье аа: 90, Здоровье Дракон: 94\n",
            "аа атакует дракона на 8 урона.\n",
            "Дракон атакует аа на 7 урона.\n",
            "Здоровье аа: 83, Здоровье Дракон: 86\n",
            "аа атакует дракона на 8 урона.\n",
            "Дракон атакует аа на 5 урона.\n",
            "Здоровье аа: 78, Здоровье Дракон: 78\n",
            "аа атакует дракона на 7 урона.\n",
            "Дракон атакует аа на 11 урона.\n",
            "Здоровье аа: 67, Здоровье Дракон: 71\n",
            "аа атакует дракона на 8 урона.\n",
            "Дракон атакует аа на 9 урона.\n",
            "Здоровье аа: 58, Здоровье Дракон: 63\n",
            "аа атакует дракона на 1 урона.\n",
            "Дракон атакует аа на 7 урона.\n",
            "Здоровье аа: 51, Здоровье Дракон: 62\n",
            "аа атакует дракона на 1 урона.\n",
            "Дракон атакует аа на 8 урона.\n",
            "Здоровье аа: 43, Здоровье Дракон: 61\n",
            "аа атакует дракона на 1 урона.\n",
            "Дракон атакует аа на 0 урона.\n",
            "Здоровье аа: 43, Здоровье Дракон: 60\n",
            "аа атакует дракона на 8 урона.\n",
            "Дракон атакует аа на 6 урона.\n",
            "Здоровье аа: 37, Здоровье Дракон: 52\n",
            "аа атакует дракона на 9 урона.\n",
            "Дракон атакует аа на 10 урона.\n",
            "Здоровье аа: 27, Здоровье Дракон: 43\n",
            "аа атакует дракона на 7 урона.\n",
            "Дракон атакует аа на 7 урона.\n",
            "Здоровье аа: 20, Здоровье Дракон: 36\n",
            "аа атакует дракона на 10 урона.\n",
            "Дракон атакует аа на 9 урона.\n",
            "Здоровье аа: 11, Здоровье Дракон: 26\n",
            "аа атакует дракона на 0 урона.\n",
            "Дракон атакует аа на 4 урона.\n",
            "Здоровье аа: 7, Здоровье Дракон: 26\n",
            "аа атакует дракона на 7 урона.\n",
            "Дракон атакует аа на 11 урона.\n",
            "Здоровье аа: -4, Здоровье Дракон: 19\n",
            "Дракон победил аа.\n"
          ]
        }
      ]
    },
    {
      "cell_type": "markdown",
      "source": [
        "# Задание 3\n"
      ],
      "metadata": {
        "id": "N8oFiEXol3e2"
      }
    },
    {
      "cell_type": "markdown",
      "source": [
        "Цель - создать менеджера команды Pokémon, который позволит пользователям:\n",
        "\n",
        "- Добавлять покемонов в свою команду. (если такого покемона еще нет в команде)\n",
        "- Удалять покемонов из их команды.\n",
        "- Просматривать подробную информацию обо всех покемонах в команде.\n",
        "- Находить покемона по имени.\n",
        "- Устраивать тренировочный бой между двумя покемонами\n",
        "\n",
        "Для данной задачи используйте: https://pokeapi.co/\n"
      ],
      "metadata": {
        "id": "9p4WQG_Vl7wB"
      }
    },
    {
      "cell_type": "code",
      "source": [
        "#можно не делать"
      ],
      "metadata": {
        "id": "NnGYp1MTqi5k"
      },
      "execution_count": null,
      "outputs": []
    }
  ]
}