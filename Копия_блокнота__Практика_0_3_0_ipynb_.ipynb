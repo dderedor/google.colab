{
  "nbformat": 4,
  "nbformat_minor": 0,
  "metadata": {
    "colab": {
      "provenance": []
    },
    "kernelspec": {
      "name": "python3",
      "display_name": "Python 3"
    },
    "language_info": {
      "name": "python"
    }
  },
  "cells": [
    {
      "cell_type": "markdown",
      "source": [
        "ФИО"
      ],
      "metadata": {
        "id": "phMKaFq3DN13"
      }
    },
    {
      "cell_type": "markdown",
      "source": [
        "**Во всей практике нельзя применять библиотеки предоставляющие готовые решения!**"
      ],
      "metadata": {
        "id": "jyIy3GOgFOCe"
      }
    },
    {
      "cell_type": "markdown",
      "source": [
        "# **Задача 1.**\n"
      ],
      "metadata": {
        "id": "XizmlL1RK2t3"
      }
    },
    {
      "cell_type": "markdown",
      "source": [
        "\n",
        "\n",
        "Типы данных Напишите программу на Python, которая принимает список чисел в качестве входных данных от пользователя, а затем выводит сумму, среднее значение и максимальное значение из списка.\n",
        "\n",
        "Дано:\n",
        "```\n",
        "1 2 3 4 5 6 7\n",
        "```\n",
        "Вывод:\n",
        "\n",
        "```\n",
        "Сумма чисел: 28\n",
        "Среднее арифм.: 4.0\n",
        "Максимальное значение: 7\n",
        "```\n",
        "\n"
      ],
      "metadata": {
        "id": "p0v6KtHTFKSd"
      }
    },
    {
      "cell_type": "code",
      "source": [
        "s = input('введите список чисел')\n",
        "\n",
        "s = s.split()\n",
        "listt = []\n",
        "for h in s:\n",
        "    listt.append(int(h))\n",
        "\n",
        "# цикл для суммы\n",
        "summa = 0\n",
        "for l in listt:\n",
        "    summa = summa + l\n",
        "print('Сумма чисел:',summa)\n",
        "\n",
        "\n",
        "# цикл для среднего\n",
        "kolic = 0\n",
        "for i in listt:\n",
        "    kolic = kolic + 1\n",
        "\n",
        "print('Среднее арифм:',summa/kolic)\n",
        "\n",
        "# цицл для максимального\n",
        "maksim = 0\n",
        "for m in listt:\n",
        "    if maksim < m:\n",
        "        maksim = m\n",
        "print('Максимальное значение:',maksim)\n",
        "\n",
        "\n"
      ],
      "metadata": {
        "id": "MlPigeYhKPSS",
        "outputId": "d93426e1-7c46-4350-da43-da721dfbc2aa",
        "colab": {
          "base_uri": "https://localhost:8080/"
        }
      },
      "execution_count": null,
      "outputs": [
        {
          "output_type": "stream",
          "name": "stdout",
          "text": [
            "введите список чисел1 2 3 4 5 6 7\n",
            "Сумма чисел: 28\n",
            "Среднее арифм: 4.0\n",
            "Максимальное значение: 7\n"
          ]
        }
      ]
    },
    {
      "cell_type": "code",
      "source": [],
      "metadata": {
        "id": "0e1Virl0FpF6"
      },
      "execution_count": null,
      "outputs": []
    },
    {
      "cell_type": "markdown",
      "source": [
        "# **Задача 2.**"
      ],
      "metadata": {
        "id": "uFluc5OSK0NH"
      }
    },
    {
      "cell_type": "markdown",
      "source": [
        "\n",
        "Напишите программу на Python, которая принимает список слов в качестве входных данных от пользователя, а затем распечатывает список в обратном порядке.\n",
        "\n",
        "Ввод:\n",
        "\n",
        "```\n",
        "апельсин мандарин яблоко\n",
        "```\n",
        "\n",
        "Вывод:\n",
        "\n",
        "```\n",
        "яблоко мандарин апельсин\n",
        "```"
      ],
      "metadata": {
        "id": "6T8vg324GG4Z"
      }
    },
    {
      "cell_type": "code",
      "source": [
        "listt = []\n",
        "s = input()\n",
        "listt = s.split(' ')\n",
        "rev = listt[::-1]\n",
        "print(rev)"
      ],
      "metadata": {
        "id": "8agMkNstWR3C",
        "outputId": "7f67e0d8-3412-4f05-d7be-7cb0838d952d",
        "colab": {
          "base_uri": "https://localhost:8080/"
        }
      },
      "execution_count": null,
      "outputs": [
        {
          "output_type": "stream",
          "name": "stdout",
          "text": [
            "апельсин мандарин яблоко\n",
            "['яблоко', 'мандарин', 'апельсин']\n"
          ]
        }
      ]
    },
    {
      "cell_type": "markdown",
      "source": [],
      "metadata": {
        "id": "1AgU_yZ-g8Bt"
      }
    },
    {
      "cell_type": "markdown",
      "source": [
        "# **Задача 3**"
      ],
      "metadata": {
        "id": "D1KkCxtIKxRx"
      }
    },
    {
      "cell_type": "markdown",
      "source": [
        "Простой чат-бот\n",
        "Создайте простого чат-бота, который отвечает на основные запросы пользователей. Программа должна использовать условные выражения для определения намерений пользователя и последующего соответствующего ответа.\n",
        "\n",
        "Чат бот может:\n",
        "\n",
        "- помогать складывать числа\n",
        "- подсказывать фильм, музыку и тд (из заранее созданного списка)\n",
        "- создавать список дел (а также выводить его, обновлять, очищать)\n",
        "\n",
        "Интерфейс чат-бота на ваше усмотрение, это могут быть как заранее определенные команды, так и к примеру вызов команды по номеру\n",
        "\n",
        "*Реализовать без использования функций*\n",
        "\n",
        "Пример:\n",
        "\n",
        "Ввод:\n",
        "\n",
        "```\n",
        "Олег, какую мызыку посоветуешь?\n",
        "```\n",
        "\n",
        "Вывод:\n",
        "\n",
        "```\n",
        "Я бы посоветовал вам: Led Zeppelin Stairway to Heaven\n",
        "```"
      ],
      "metadata": {
        "id": "Yq8Jgb9yHvSi"
      }
    },
    {
      "cell_type": "code",
      "source": [
        "print(\"Привет! Я бот. Как я могу помочь?\")\n",
        "\n",
        "t = []  # Список дел\n",
        "\n",
        "while True:\n",
        "    u = input(\"Вы: \").strip().lower()\n",
        "\n",
        "    if \"плюс\" in u:\n",
        "        nums = u.split()\n",
        "        try:\n",
        "            a = int(nums[0])\n",
        "            b = int(nums[2])\n",
        "            print(f\"Бот: {a} + {b} = {a + b}\")\n",
        "        except (ValueError, IndexError):\n",
        "            print(\"Бот: Введите как '2 плюс 3'.\")\n",
        "\n",
        "    elif \"фильм\" in u:\n",
        "        print(\"Бот: Посмотрите 'Inception'.\")\n",
        "\n",
        "    elif \"музыка\" in u:\n",
        "        print(\"Бот: Слушайте 'Stairway to Heaven'.\")\n",
        "\n",
        "    elif \"список\" in u:\n",
        "        if t:\n",
        "            print(\"Бот: Ваш список дел:\")\n",
        "            for item in t:\n",
        "                print(f\"- {item}\")\n",
        "        else:\n",
        "            print(\"Бот: Список пуст.\")\n",
        "\n",
        "    elif \"добавить\" in u:\n",
        "        item = u.replace(\"добавить \", \"\")\n",
        "        t.append(item)\n",
        "        print(f\"Бот: '{item}' добавлено.\")\n",
        "\n",
        "    elif \"удалить\" in u:\n",
        "        item = u.replace(\"удалить \", \"\")\n",
        "        if item in t:\n",
        "            t.remove(item)\n",
        "            print(f\"Бот: '{item}' удалено.\")\n",
        "        else:\n",
        "            print(\"Бот: Дело не найдено.\")\n",
        "\n",
        "    elif \"выход\" in u:\n",
        "        print(\"Бот: Пока!\")\n",
        "        break\n",
        "\n",
        "    else:\n",
        "        print(\"Бот: Не понимаю.\")\n",
        "\n",
        "\n",
        "\n"
      ],
      "metadata": {
        "id": "fmW-tmUtINN9",
        "outputId": "1cffd330-2d80-453c-d894-808e34e832c2",
        "colab": {
          "base_uri": "https://localhost:8080/"
        }
      },
      "execution_count": null,
      "outputs": [
        {
          "output_type": "stream",
          "name": "stdout",
          "text": [
            "Привет! Я бот. Как я могу помочь?\n",
            "Вы: 1 плюс 4\n",
            "Бот: 1 + 4 = 5\n",
            "Вы: добавить куку\n",
            "Бот: 'куку' добавлено.\n",
            "Вы: выход\n",
            "Бот: Пока!\n"
          ]
        }
      ]
    },
    {
      "cell_type": "markdown",
      "source": [
        "# **Задача 4.**\n"
      ],
      "metadata": {
        "id": "PHXBfyc6Ko7D"
      }
    },
    {
      "cell_type": "markdown",
      "source": [
        "Камень, ножницы, бумага\n",
        "\n",
        "Создайте игру в Камень, ножницы, бумагу, в которой пользователь может играть против компьютера. Программа должна запросить выбор пользователя, а затем сгенерировать выбор компьютера. Затем программа должна определить победителя на основе правил игры.\n",
        "\n",
        "**Этап 1:**\n",
        "\n",
        "Определение победителя\n",
        "\n",
        "**Этап 2:**\n",
        "  \n",
        "Игра до 3 побед\n",
        "\n",
        "\n",
        "Вввод для \"Этап 1\":\n",
        "\n",
        "```\n",
        "Камень\n",
        "```\n",
        "\n",
        "Вывод:\n",
        "\n",
        "```\n",
        "Компьютер: Ножницы\n",
        "Игрок: Камень\n",
        "Победа: Игрок\n",
        "```"
      ],
      "metadata": {
        "id": "jnKWeYleI0j6"
      }
    },
    {
      "cell_type": "code",
      "source": [
        "import random\n",
        "\n",
        "def pobeditel(n, k):\n",
        "    if n == k:\n",
        "        return \"Ничья\"\n",
        "    elif (n == \"камень\" and k == \"ножницы\") or \\\n",
        "         (n == \"ножницы\" and k == \"бумага\") or \\\n",
        "         (n == \"бумага\" and k == \"камень\"):\n",
        "        return \"Игрок\"\n",
        "    else:\n",
        "        return \"Компьютер\"\n",
        "\n",
        "def play():\n",
        "    n_plaer = 0\n",
        "    n_comp = 0\n",
        "\n",
        "    while n_plaer < 3 and n_comp < 3:\n",
        "        n = input(\"Выберите (камень, ножницы, бумага): \")\n",
        "        if n not in [\"камень\", \"ножницы\", \"бумага\"]:\n",
        "            print(\"Неверный ввод! Попробуйте снова.\")\n",
        "            break #continue\n",
        "\n",
        "        k = random.choice([\"камень\", \"ножницы\", \"бумага\"])\n",
        "        print(f\"Компьютер: {k}\")\n",
        "        print(f\"Игрок: {n}\")\n",
        "\n",
        "        pobeda = pobeditel(n, k)\n",
        "        print(f\"Победа: {pobeda}\")\n",
        "\n",
        "        if pobeda == \"Игрок\":\n",
        "            n_plaer += 1\n",
        "        elif pobeda == \"Компьютер\":\n",
        "            n_comp += 1\n",
        "\n",
        "        print(f\"Счет: Игрок {n_plaer} - Компьютер {n_comp}\")\n",
        "\n",
        "    if n_plaer == 3:\n",
        "        print(\"Поздравляем! Вы выиграли!\")\n",
        "    else:\n",
        "        print(\"Компьютер выиграл! Попробуйте снова.\")\n",
        "\n",
        "# Запуск игры\n",
        "play()\n"
      ],
      "metadata": {
        "id": "ooIPCRe_JHkX",
        "colab": {
          "base_uri": "https://localhost:8080/",
          "height": 408
        },
        "outputId": "d4153a13-5852-4d4e-8811-40ca323b629d"
      },
      "execution_count": null,
      "outputs": [
        {
          "output_type": "stream",
          "name": "stdout",
          "text": [
            "Выберите (камень, ножницы, бумага): бумага\n",
            "Компьютер: бумага\n",
            "Игрок: бумага\n",
            "Победа: Ничья\n",
            "Счет: Игрок 0 - Компьютер 0\n"
          ]
        },
        {
          "output_type": "error",
          "ename": "KeyboardInterrupt",
          "evalue": "Interrupted by user",
          "traceback": [
            "\u001b[0;31m---------------------------------------------------------------------------\u001b[0m",
            "\u001b[0;31mKeyboardInterrupt\u001b[0m                         Traceback (most recent call last)",
            "\u001b[0;32m<ipython-input-7-8580ded1adc3>\u001b[0m in \u001b[0;36m<cell line: 43>\u001b[0;34m()\u001b[0m\n\u001b[1;32m     41\u001b[0m \u001b[0;34m\u001b[0m\u001b[0m\n\u001b[1;32m     42\u001b[0m \u001b[0;31m# Запуск игры\u001b[0m\u001b[0;34m\u001b[0m\u001b[0;34m\u001b[0m\u001b[0m\n\u001b[0;32m---> 43\u001b[0;31m \u001b[0mplay\u001b[0m\u001b[0;34m(\u001b[0m\u001b[0;34m)\u001b[0m\u001b[0;34m\u001b[0m\u001b[0;34m\u001b[0m\u001b[0m\n\u001b[0m",
            "\u001b[0;32m<ipython-input-7-8580ded1adc3>\u001b[0m in \u001b[0;36mplay\u001b[0;34m()\u001b[0m\n\u001b[1;32m     16\u001b[0m \u001b[0;34m\u001b[0m\u001b[0m\n\u001b[1;32m     17\u001b[0m     \u001b[0;32mwhile\u001b[0m \u001b[0mn_plaer\u001b[0m \u001b[0;34m<\u001b[0m \u001b[0;36m3\u001b[0m \u001b[0;32mand\u001b[0m \u001b[0mn_comp\u001b[0m \u001b[0;34m<\u001b[0m \u001b[0;36m3\u001b[0m\u001b[0;34m:\u001b[0m\u001b[0;34m\u001b[0m\u001b[0;34m\u001b[0m\u001b[0m\n\u001b[0;32m---> 18\u001b[0;31m         \u001b[0mn\u001b[0m \u001b[0;34m=\u001b[0m \u001b[0minput\u001b[0m\u001b[0;34m(\u001b[0m\u001b[0;34m\"Выберите (камень, ножницы, бумага): \"\u001b[0m\u001b[0;34m)\u001b[0m\u001b[0;34m\u001b[0m\u001b[0;34m\u001b[0m\u001b[0m\n\u001b[0m\u001b[1;32m     19\u001b[0m         \u001b[0;32mif\u001b[0m \u001b[0mn\u001b[0m \u001b[0;32mnot\u001b[0m \u001b[0;32min\u001b[0m \u001b[0;34m[\u001b[0m\u001b[0;34m\"камень\"\u001b[0m\u001b[0;34m,\u001b[0m \u001b[0;34m\"ножницы\"\u001b[0m\u001b[0;34m,\u001b[0m \u001b[0;34m\"бумага\"\u001b[0m\u001b[0;34m]\u001b[0m\u001b[0;34m:\u001b[0m\u001b[0;34m\u001b[0m\u001b[0;34m\u001b[0m\u001b[0m\n\u001b[1;32m     20\u001b[0m             \u001b[0mprint\u001b[0m\u001b[0;34m(\u001b[0m\u001b[0;34m\"Неверный ввод! Попробуйте снова.\"\u001b[0m\u001b[0;34m)\u001b[0m\u001b[0;34m\u001b[0m\u001b[0;34m\u001b[0m\u001b[0m\n",
            "\u001b[0;32m/usr/local/lib/python3.10/dist-packages/ipykernel/kernelbase.py\u001b[0m in \u001b[0;36mraw_input\u001b[0;34m(self, prompt)\u001b[0m\n\u001b[1;32m    849\u001b[0m                 \u001b[0;34m\"raw_input was called, but this frontend does not support input requests.\"\u001b[0m\u001b[0;34m\u001b[0m\u001b[0;34m\u001b[0m\u001b[0m\n\u001b[1;32m    850\u001b[0m             )\n\u001b[0;32m--> 851\u001b[0;31m         return self._input_request(str(prompt),\n\u001b[0m\u001b[1;32m    852\u001b[0m             \u001b[0mself\u001b[0m\u001b[0;34m.\u001b[0m\u001b[0m_parent_ident\u001b[0m\u001b[0;34m,\u001b[0m\u001b[0;34m\u001b[0m\u001b[0;34m\u001b[0m\u001b[0m\n\u001b[1;32m    853\u001b[0m             \u001b[0mself\u001b[0m\u001b[0;34m.\u001b[0m\u001b[0m_parent_header\u001b[0m\u001b[0;34m,\u001b[0m\u001b[0;34m\u001b[0m\u001b[0;34m\u001b[0m\u001b[0m\n",
            "\u001b[0;32m/usr/local/lib/python3.10/dist-packages/ipykernel/kernelbase.py\u001b[0m in \u001b[0;36m_input_request\u001b[0;34m(self, prompt, ident, parent, password)\u001b[0m\n\u001b[1;32m    893\u001b[0m             \u001b[0;32mexcept\u001b[0m \u001b[0mKeyboardInterrupt\u001b[0m\u001b[0;34m:\u001b[0m\u001b[0;34m\u001b[0m\u001b[0;34m\u001b[0m\u001b[0m\n\u001b[1;32m    894\u001b[0m                 \u001b[0;31m# re-raise KeyboardInterrupt, to truncate traceback\u001b[0m\u001b[0;34m\u001b[0m\u001b[0;34m\u001b[0m\u001b[0m\n\u001b[0;32m--> 895\u001b[0;31m                 \u001b[0;32mraise\u001b[0m \u001b[0mKeyboardInterrupt\u001b[0m\u001b[0;34m(\u001b[0m\u001b[0;34m\"Interrupted by user\"\u001b[0m\u001b[0;34m)\u001b[0m \u001b[0;32mfrom\u001b[0m \u001b[0;32mNone\u001b[0m\u001b[0;34m\u001b[0m\u001b[0;34m\u001b[0m\u001b[0m\n\u001b[0m\u001b[1;32m    896\u001b[0m             \u001b[0;32mexcept\u001b[0m \u001b[0mException\u001b[0m \u001b[0;32mas\u001b[0m \u001b[0me\u001b[0m\u001b[0;34m:\u001b[0m\u001b[0;34m\u001b[0m\u001b[0;34m\u001b[0m\u001b[0m\n\u001b[1;32m    897\u001b[0m                 \u001b[0mself\u001b[0m\u001b[0;34m.\u001b[0m\u001b[0mlog\u001b[0m\u001b[0;34m.\u001b[0m\u001b[0mwarning\u001b[0m\u001b[0;34m(\u001b[0m\u001b[0;34m\"Invalid Message:\"\u001b[0m\u001b[0;34m,\u001b[0m \u001b[0mexc_info\u001b[0m\u001b[0;34m=\u001b[0m\u001b[0;32mTrue\u001b[0m\u001b[0;34m)\u001b[0m\u001b[0;34m\u001b[0m\u001b[0;34m\u001b[0m\u001b[0m\n",
            "\u001b[0;31mKeyboardInterrupt\u001b[0m: Interrupted by user"
          ]
        }
      ]
    },
    {
      "cell_type": "markdown",
      "source": [
        "# **Задача 6.**"
      ],
      "metadata": {
        "id": "Hg4FJNFbLHQO"
      }
    },
    {
      "cell_type": "markdown",
      "source": [
        "Создайте игру \"Палач\" или \"Виселица\", в которой пользователь должен угадать слово, предлагая буквы. Программа должна выбрать случайное слово, а затем разрешить пользователю угадывать буквы. После каждого угадывания программа должна сообщать пользователю, есть ли в слове буква или нет.\n",
        "\n",
        "**Этап 1**\n",
        "Создать саму игру\n",
        "\n",
        "**Этап 2:**\n",
        "Ввести подсчет количества очков и ограничения на попытки"
      ],
      "metadata": {
        "id": "OHqj3HJuLJgY"
      }
    },
    {
      "cell_type": "code",
      "source": [
        "import random\n",
        "\n",
        "def choose_word():\n",
        "    return random.choice([\"python\", \"программирование\", \"игра\", \"алгоритм\", \"палач\", \"виселица\"])\n",
        "\n",
        "def display_word(word, guessed_letters):\n",
        "    # return ''.join(letter if letter in guessed_letters else '_' for letter in word)\n",
        "\n",
        "\n",
        "def play_game():\n",
        "    word = choose_word()\n",
        "    guessed_letters = set()\n",
        "    attempts = 6\n",
        "    score = 0\n",
        "\n",
        "    print(\"Добро пожаловать в игру 'Палач'!\")\n",
        "\n",
        "    while attempts > 0:\n",
        "        print(\"\\nСлово: \", display_word(word, guessed_letters))\n",
        "        print(f\"Оставшиеся попытки: {attempts}\")\n",
        "        guess = input(\"Введите букву: \").lower()\n",
        "\n",
        "        if len(guess) != 1 or not guess.isalpha() or guess in guessed_letters:\n",
        "            print(\"Неверный ввод.\")\n",
        "            continue\n",
        "\n",
        "        guessed_letters.add(guess)\n",
        "\n",
        "        if guess in word:\n",
        "            print(\"Вы угадали букву!\")\n",
        "        else:\n",
        "            print(\"Этой буквы нет в слове.\")\n",
        "            attempts -= 1\n",
        "\n",
        "        if all(letter in guessed_letters for letter in word):\n",
        "            print(f\"Поздравляем! Вы угадали слово: {word}\")\n",
        "            score += 1\n",
        "            break\n",
        "    else:\n",
        "        print(f\"Вы проиграли! Загаданное слово было: {word}\")\n",
        "\n",
        "    print(f\"Ваш счет: {score}\")\n",
        "\n",
        "if __name__ == \"__main__\":\n",
        "    play_game()\n",
        "\n"
      ],
      "metadata": {
        "id": "0N2zCYwVLiIw",
        "colab": {
          "base_uri": "https://localhost:8080/"
        },
        "outputId": "0b4af8dc-835e-4654-c1a1-be33f7ccc540"
      },
      "execution_count": null,
      "outputs": [
        {
          "output_type": "stream",
          "name": "stdout",
          "text": [
            "Добро пожаловать в игру 'Палач'!\n",
            "\n",
            "Слово:  ________________\n",
            "Оставшиеся попытки: 6\n",
            "Введите букву: а\n",
            "Вы угадали букву!\n",
            "\n",
            "Слово:  _____а______а___\n",
            "Оставшиеся попытки: 6\n",
            "Введите букву: и\n",
            "Вы угадали букву!\n",
            "\n",
            "Слово:  _____а__и___а_и_\n",
            "Оставшиеся попытки: 6\n",
            "Введите букву: п\n",
            "Вы угадали букву!\n",
            "\n",
            "Слово:  п____а__и___а_и_\n",
            "Оставшиеся попытки: 6\n",
            "Введите букву: р\n",
            "Вы угадали букву!\n",
            "\n",
            "Слово:  пр__ра__ир__а_и_\n",
            "Оставшиеся попытки: 6\n",
            "Введите букву: л\n",
            "Этой буквы нет в слове.\n",
            "\n",
            "Слово:  пр__ра__ир__а_и_\n",
            "Оставшиеся попытки: 5\n",
            "Введите букву: о\n",
            "Вы угадали букву!\n",
            "\n",
            "Слово:  про_ра__иро_а_и_\n",
            "Оставшиеся попытки: 5\n",
            "Введите букву: г\n",
            "Вы угадали букву!\n",
            "\n",
            "Слово:  програ__иро_а_и_\n",
            "Оставшиеся попытки: 5\n",
            "Введите букву: м\n",
            "Вы угадали букву!\n",
            "\n",
            "Слово:  программиро_а_и_\n",
            "Оставшиеся попытки: 5\n"
          ]
        }
      ]
    },
    {
      "cell_type": "markdown",
      "source": [
        "# **Задача 7.**\n"
      ],
      "metadata": {
        "id": "w0x3QFGzKtDD"
      }
    },
    {
      "cell_type": "markdown",
      "source": [
        "\n",
        "**Цифра на определенном месте:**\n",
        "\n",
        "Последовательно записан натуральный ряд чисел.\n",
        "\n",
        "Какая цифра стоит в N позиции\n",
        "\n",
        "\n",
        "Вввод:\n",
        "\n",
        "```\n",
        "Введите номер позиции: 1234567890\n",
        "```\n",
        "\n",
        "Вывод:\n",
        "\n",
        "```\n",
        "8\n",
        "```"
      ],
      "metadata": {
        "id": "QqZArcpHJxVj"
      }
    },
    {
      "cell_type": "code",
      "source": [
        "def find_digit(n):\n",
        "    length = 0\n",
        "    number = 1\n",
        "    while True:\n",
        "        number_str = str(number)\n",
        "        if length + len(number_str) >= n:\n",
        "            return number_str[n - length - 1]\n",
        "        length += len(number_str)\n",
        "        number += 1\n",
        "\n",
        "position = int(input(\"Введите номер позиции: \"))\n",
        "print(find_digit(position))\n"
      ],
      "metadata": {
        "id": "LwjYwBGcKiJ9"
      },
      "execution_count": null,
      "outputs": []
    }
  ]
}