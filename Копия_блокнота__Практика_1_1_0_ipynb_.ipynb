{
  "nbformat": 4,
  "nbformat_minor": 0,
  "metadata": {
    "colab": {
      "provenance": []
    },
    "kernelspec": {
      "name": "python3",
      "display_name": "Python 3"
    },
    "language_info": {
      "name": "python"
    }
  },
  "cells": [
    {
      "cell_type": "markdown",
      "source": [
        "**ФИО:**"
      ],
      "metadata": {
        "id": "GEsFKJm-ABFp"
      }
    },
    {
      "cell_type": "code",
      "source": [
        "Гаврилова Мария"
      ],
      "metadata": {
        "id": "QgCpaMRfM69m"
      },
      "execution_count": null,
      "outputs": []
    },
    {
      "cell_type": "code",
      "execution_count": null,
      "metadata": {
        "id": "wZMLYG_G_-19"
      },
      "outputs": [],
      "source": []
    },
    {
      "cell_type": "markdown",
      "source": [
        "# Задание 1"
      ],
      "metadata": {
        "id": "H4DrYnJjADuZ"
      }
    },
    {
      "cell_type": "markdown",
      "source": [
        "**Описание:** Создайте иерархию классов для разных типов сотрудников в компании. Реализуйте родительский класс Employee и дочерние классы Manager и Developer. Каждый класс должен иметь метод для расчета зарплаты на основе различных критериев класса.\n",
        "\n",
        "\n",
        "Отрабатываемый принцип: Наследование\n",
        "\n"
      ],
      "metadata": {
        "id": "C17FWep-AF4a"
      }
    },
    {
      "cell_type": "code",
      "source": [
        "class Employee:\n",
        "    def __init__(self, name, base_salary):\n",
        "        self.name = name\n",
        "        self.base_salary = base_salary\n",
        "\n",
        "    def calculate_salary(self):\n",
        "        return self.base_salary\n",
        "\n",
        "class Manager(Employee):\n",
        "    def __init__(self, name, base_salary, bonus):\n",
        "        super().__init__(name, base_salary)\n",
        "        self.bonus = bonus\n",
        "\n",
        "    def calculate_salary(self):\n",
        "        return self.base_salary + self.bonus\n",
        "\n",
        "class Developer(Employee):\n",
        "    def __init__(self, name, base_salary, overtime_hours, overtime_rate):\n",
        "        super().__init__(name, base_salary)\n",
        "        self.overtime_hours = overtime_hours\n",
        "        self.overtime_rate = overtime_rate\n",
        "\n",
        "    def calculate_salary(self):\n",
        "        return self.base_salary + (self.overtime_hours * self.overtime_rate)\n",
        "\n",
        "manager = Manager(\"Alice\", 70000, 10000)\n",
        "developer = Developer(\"Bob\", 60000, 10, 50)\n",
        "\n",
        "print(f\"{manager.name}'s salary: {manager.calculate_salary()}\")\n",
        "print(f\"{developer.name}'s salary: {developer.calculate_salary()}\")\n"
      ],
      "metadata": {
        "id": "aexGXzqCAFH7"
      },
      "execution_count": null,
      "outputs": []
    },
    {
      "cell_type": "markdown",
      "source": [
        "# Задание 2"
      ],
      "metadata": {
        "id": "ERAi0TG5BI6v"
      }
    },
    {
      "cell_type": "markdown",
      "source": [
        "**Описание:** Создайте иерархию классов для различных типов транспортных средств (Необходим один родительский класс и 3 дочерних). Реализуйте метод, который позволяет каждому транспортному средству возвращать собственное описание (Метод в каждом классе должен иметь одинаковое название). Продемонстрируйте вызов данного метода для каждого транспортного средства.\n",
        "\n",
        "\n",
        "Отрабатываемый принцип: Полиморфизм"
      ],
      "metadata": {
        "id": "sJ3k7ZcgBK87"
      }
    },
    {
      "cell_type": "code",
      "source": [
        "class Vehicle:\n",
        "    def description(self):\n",
        "        raise NotImplementedError(\"Subclasses must implement this method\")\n",
        "\n",
        "class Car(Vehicle):\n",
        "    def __init__(self, brand, model):\n",
        "        self.brand = brand\n",
        "        self.model = model\n",
        "\n",
        "    def description(self):\n",
        "        return f\"Машина: {self.brand} {self.model}\"\n",
        "\n",
        "class Truck(Vehicle):\n",
        "    def __init__(self, brand, model, capacity):\n",
        "        self.brand = brand\n",
        "        self.model = model\n",
        "        self.capacity = capacity\n",
        "\n",
        "    def description(self):\n",
        "        return f\"Грузовик: {self.brand} {self.model}, грузоподъемность: {self.capacity} тонн\"\n",
        "\n",
        "class Motorcycle(Vehicle):\n",
        "    def __init__(self, brand, model):\n",
        "        self.brand = brand\n",
        "        self.model = model\n",
        "\n",
        "    def description(self):\n",
        "        return f\"Мотоцикл: {self.brand} {self.model}\"\n",
        "\n",
        "vehicles = [\n",
        "    Car(\"Toyota\", \"Camry\"),\n",
        "    Truck(\"Volvo\", \"FH\", 18),\n",
        "    Motorcycle(\"Harley-Davidson\", \"Sportster\")\n",
        "]\n",
        "\n",
        "for vehicle in vehicles:\n",
        "    print(vehicle.description())\n"
      ],
      "metadata": {
        "id": "WOFOZQmDBKf4"
      },
      "execution_count": null,
      "outputs": []
    },
    {
      "cell_type": "markdown",
      "source": [
        "# Задание 3"
      ],
      "metadata": {
        "id": "7E_SJXMJBvD4"
      }
    },
    {
      "cell_type": "markdown",
      "source": [
        "Онлайн-магазин:\n",
        "- Создайте модель для онлайн-магазина с классами Product, Order, Customer, и ShoppingCart.\n",
        "- Product включает информацию о цене, наличии на складе и категории товара.\n",
        "Order обрабатывает процесс покупки, включая расчет цены с учетом скидок и налогов.\n",
        "- Customer управляет информацией о пользователе и его истории заказов.\n",
        "- ShoppingCart позволяет добавлять, удалять и обновлять количество товаров перед оформлением заказа.\n"
      ],
      "metadata": {
        "id": "dd1mwKj_BxHa"
      }
    },
    {
      "cell_type": "code",
      "source": [
        "class Product:\n",
        "    def __init__(self, name, price, stock):\n",
        "        self.name = name\n",
        "        self.price = price\n",
        "        self.stock = stock\n",
        "\n",
        "    def is_available(self, quantity):\n",
        "        return self.stock >= quantity\n",
        "\n",
        "    def reduce_stock(self, quantity):\n",
        "        self.stock -= quantity\n",
        "\n",
        "\n",
        "class Order:\n",
        "    def __init__(self):\n",
        "        self.items = []\n",
        "        self.total_price = 0\n",
        "\n",
        "    def add_product(self, product, quantity):\n",
        "        if product.is_available(quantity):\n",
        "            product.reduce_stock(quantity)\n",
        "            self.items.append((product, quantity))\n",
        "            self.total_price += product.price * quantity\n",
        "        else:\n",
        "            print(\"Недостаточно товара!\")\n",
        "\n",
        "\n",
        "class Customer:\n",
        "    def __init__(self, name):\n",
        "        self.name = name\n",
        "\n",
        "\n",
        "class ShoppingCart:\n",
        "    def __init__(self):\n",
        "        self.items = []\n",
        "\n",
        "    def add_product(self, product, quantity):\n",
        "        self.items.append((product, quantity))\n",
        "\n",
        "    def checkout(self, customer):\n",
        "        order = Order()\n",
        "        for product, quantity in self.items:\n",
        "            order.add_product(product, quantity)\n",
        "        self.items.clear()\n",
        "        return order\n",
        "\n",
        "\n",
        "if __name__ == \"__main__\":\n",
        "    laptop = Product(\"Laptop\", 1000, 5)\n",
        "    phone = Product(\"Smartphone\", 500, 10)\n",
        "\n",
        "    customer = Customer(\"John Doe\")\n",
        "\n",
        "    cart = ShoppingCart()\n",
        "    cart.add_product(laptop, 1)\n",
        "    cart.add_product(phone, 2)\n",
        "\n",
        "    order = cart.checkout(customer)\n",
        "\n",
        "    print(f\"Заказ для {customer.name}:\")\n",
        "    for product, quantity in order.items:\n",
        "        print(f\"{product.name}, Количество: {quantity}, Цена: {product.price * quantity}\")\n",
        "    print(f\"Итоговая цена: {order.total_price}\")\n"
      ],
      "metadata": {
        "id": "wkCcv_K-Bwdv"
      },
      "execution_count": null,
      "outputs": []
    },
    {
      "cell_type": "markdown",
      "source": [
        "# Задание 4"
      ],
      "metadata": {
        "id": "ih7iPlYfB7lL"
      }
    },
    {
      "cell_type": "markdown",
      "source": [
        "Симулятор космического корабля:\n",
        "- Создайте симулятор управления космическим кораблем с классами SpaceShip, CrewMember, и Mission.\n",
        "- SpaceShip имеет атрибуты для управления топливом, состоянием корпуса, и текущей скоростью.\n",
        "- CrewMember контролирует здоровье, навыки, и роли в команде (например, пилот, инженер).\n",
        "- Mission определяет цели, ресурсы, и возможные события (например, аварии, встречи с астероидами)."
      ],
      "metadata": {
        "id": "zLwqVCbpCBvc"
      }
    },
    {
      "cell_type": "code",
      "source": [
        "class SpaceShip:\n",
        "    def __init__(self, fuel, hull_state, speed):\n",
        "        self.fuel = fuel\n",
        "        self.hull_state = hull_state\n",
        "        self.speed = speed\n",
        "\n",
        "    def fly(self, distance):\n",
        "        if self.fuel > distance:\n",
        "            self.fuel -= distance\n",
        "            print(\"Корабль в пути!\")\n",
        "        else:\n",
        "            print(\"Недостаточно топлива!\")\n",
        "\n",
        "    def repair(self):\n",
        "        self.hull_state = \"Отремонтирован\"\n",
        "        print(\"Корабль отремонтирован!\")\n",
        "\n",
        "\n",
        "class CrewMember:\n",
        "    def __init__(self, name, health, skills, role):\n",
        "        self.name = name\n",
        "        self.health = health\n",
        "        self.skills = skills\n",
        "        self.role = role\n",
        "\n",
        "\n",
        "class Mission:\n",
        "    def __init__(self, goals, resources):\n",
        "        self.goals = goals\n",
        "        self.resources = resources\n",
        "\n",
        "    def encounter_event(self, event):\n",
        "        print(f\"Событие: {event}\")\n",
        "\n",
        "\n",
        "if __name__ == \"__main__\":\n",
        "    ship = SpaceShip(100, \"Целый\", 0)\n",
        "    pilot = CrewMember(\"Алекс\", 100, [\"пилотирование\"], \"Пилот\")\n",
        "    mission = Mission([\"Исследовать планету\", \"Собрать образцы\"], [\"Топливо\", \"Еда\"])\n",
        "\n",
        "    ship.fly(50)\n",
        "    mission.encounter_event(\"Встреча с астероидом\")\n",
        "    ship.repair()\n"
      ],
      "metadata": {
        "id": "4NyrOOy8B9ED"
      },
      "execution_count": null,
      "outputs": []
    },
    {
      "cell_type": "markdown",
      "source": [
        "# Дополнительно:"
      ],
      "metadata": {
        "id": "F7mRVsZjCXk0"
      }
    },
    {
      "cell_type": "markdown",
      "source": [
        "**Описание:** создайте консольную версию игры крестики-нолики, используя классы"
      ],
      "metadata": {
        "id": "X4Lkf86UCc1h"
      }
    },
    {
      "cell_type": "code",
      "source": [],
      "metadata": {
        "id": "x9OxpNsyCcUo"
      },
      "execution_count": null,
      "outputs": []
    }
  ]
}