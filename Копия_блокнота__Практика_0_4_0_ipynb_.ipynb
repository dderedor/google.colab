{
  "nbformat": 4,
  "nbformat_minor": 0,
  "metadata": {
    "colab": {
      "provenance": []
    },
    "kernelspec": {
      "name": "python3",
      "display_name": "Python 3"
    },
    "language_info": {
      "name": "python"
    }
  },
  "cells": [
    {
      "cell_type": "markdown",
      "source": [
        "Введите ваше ФИО:"
      ],
      "metadata": {
        "id": "k8oVfdwrMXyc"
      }
    },
    {
      "cell_type": "code",
      "execution_count": null,
      "metadata": {
        "id": "5mcBLsKMI1-5"
      },
      "outputs": [],
      "source": [
       
      ]
    },
    {
      "cell_type": "markdown",
      "source": [
        "***Дисклеймер***\n",
        "\n",
        "В данной практике запрещено использования функций:\n",
        "\n",
        "\n",
        "*   sum()\n",
        "*   min()\n",
        "*   max()\n",
        "*   average()\n",
        "*   reversed()\n",
        "*   sorted()\n",
        "*   готовые функции или библиотеки\n"
      ],
      "metadata": {
        "id": "8HbYUbm3Jw3o"
      }
    },
    {
      "cell_type": "markdown",
      "source": [
        "\n",
        "**Задача 1:**\n",
        "\n",
        "\n",
        "\n",
        "Интернет-магазин предлагает следующие условия скидок:\n",
        "\n",
        "*   Для заказов больше 1000 единиц, клиент получает скидку 5%. Если клиент использует промокод SUPERDISCOUNT, он получает скидку 10%.\n",
        "*  Для заказов стоимостью более 5000 единиц, клиент получает скидку 15%, а использование промокода SUPERDISCOUNT увеличивает скидку до 20%.\n",
        "\n",
        "Этап 1:\n",
        "Ввод:\n",
        "```\n",
        "Введите стоимость единицы товара: 5\n",
        "Введите количество товара: 1000\n",
        "Введите промокод: GiVEMEDISCONT\n",
        "```\n",
        "\n",
        "Вывод:\n",
        "\n",
        "```\n",
        "Ваша скидка: 5%\n",
        "Итоговая сумма: 4750.0\n",
        "```\n",
        "Этап 2:\n",
        "\n",
        "Оформите ваш код в виде функции"
      ],
      "metadata": {
        "id": "HmX0c6YPJSQr"
      }
    },
    {
      "cell_type": "markdown",
      "source": [],
      "metadata": {
        "id": "CG8nANFLvT4T"
      }
    },
    {
      "cell_type": "code",
      "source": [
        "\n",
        "cost_per_unit = float(input(\"Введите стоимость единицы товара: \"))\n",
        "quantity = int(input(\"Введите количество товара: \"))\n",
        "promo_code = input(\"Введите промокод: \")\n",
        "\n",
        "\n",
        "total_cost = cost_per_unit * quantity\n",
        "\n",
        "\n",
        "discount = 0\n",
        "\n",
        "\n",
        "if quantity > 1000:\n",
        "    discount = 5\n",
        "if promo_code == \"SUPERDISCOUNT\":\n",
        "    discount = 10 if quantity <= 1000 else 20\n",
        "\n",
        "if total_cost > 5000:\n",
        "    discount = 15 if discount < 15 else discount\n",
        "\n",
        "\n",
        "final_amount = total_cost * (1 - discount / 100)\n",
        "\n",
        "\n",
        "print(\"Ваша скидка:\", discount, \"%\")\n",
        "print(\"Итоговая сумма:\", final_amount)\n"
      ],
      "metadata": {
        "id": "OAIMIpklMN5D",
        "colab": {
          "base_uri": "https://localhost:8080/"
        },
        "outputId": "0d2a34cb-667d-4973-b965-4569ae7ad930"
      },
      "execution_count": null,
      "outputs": [
        {
          "output_type": "stream",
          "name": "stdout",
          "text": [
            "Введите стоимость единицы товара: 5\n",
            "Введите количество товара: 1000\n",
            "Введите промокод: ылыл\n",
            "Ваша скидка: 0 %\n",
            "Итоговая сумма: 5000.0\n"
          ]
        }
      ]
    },
    {
      "cell_type": "markdown",
      "source": [
        "**Задача 2:**\n",
        "\n",
        "Этап 1:\n",
        "Напишите программу способную отфильтровать список и вывести только положительные элементы\n",
        "\n",
        "\n",
        "Ввод:\n",
        "```\n",
        "-1 5 1 2 -3\n",
        "```\n",
        "\n",
        "Вывод:\n",
        "\n",
        "```\n",
        "5 1 2\n",
        "```\n",
        "\n",
        "Этап 2:\n",
        "\n",
        "Оформите ваш код в виде функции"
      ],
      "metadata": {
        "id": "eeRVWpuLNGJ0"
      }
    },
    {
      "cell_type": "code",
      "source": [
        "spisok = [-1,5,1,2,-3]\n",
        "for i in spisok:\n",
        "  if i > 0:\n",
        "    print(i)"
      ],
      "metadata": {
        "id": "Xbi6bL0WOE9N",
        "colab": {
          "base_uri": "https://localhost:8080/"
        },
        "outputId": "2ee05698-4df8-4838-f72e-04f4efae9fbd"
      },
      "execution_count": null,
      "outputs": [
        {
          "output_type": "stream",
          "name": "stdout",
          "text": [
            "5\n",
            "1\n",
            "2\n"
          ]
        }
      ]
    },
    {
      "cell_type": "markdown",
      "source": [
        "**Задача 3:**\n",
        "\n",
        "Этап 1:\n",
        "Напишите программу реализующую Алгоритм Евклида\n",
        "\n",
        "\n",
        "> Алгоритм Евклида – это алгоритм нахождения наибольшего общего делителя (НОД) пары целых чисел.\n",
        "\n",
        "\n",
        "\n",
        "Ввод:\n",
        "```\n",
        "30 18\n",
        "```\n",
        "\n",
        "Вывод:\n",
        "\n",
        "```\n",
        "6\n",
        "```\n",
        "\n",
        "Этап 2:\n",
        "Оформите ваш код в виде функции\n"
      ],
      "metadata": {
        "id": "lV-w6G-POa6F"
      }
    },
    {
      "cell_type": "code",
      "source": [
        "\n",
        "a, b = map(int, input(\"Введите два целых числа: \").split())\n",
        "\n",
        "\n",
        "while b != 0:\n",
        "    a, b = b, a % b\n",
        "\n",
        "\n",
        "print(\"Наибольший общий делитель:\", a)\n"
      ],
      "metadata": {
        "id": "43Dl5tIpOZsu",
        "colab": {
          "base_uri": "https://localhost:8080/"
        },
        "outputId": "b7cc8dda-e9e6-42e8-9298-42bbcb77f9ab"
      },
      "execution_count": null,
      "outputs": [
        {
          "output_type": "stream",
          "name": "stdout",
          "text": [
            "Введите два целых числа через пробел: 30 18\n",
            "Наибольший общий делитель: 6\n"
          ]
        }
      ]
    },
    {
      "cell_type": "markdown",
      "source": [
        "**Задача 4:**\n",
        "\n",
        "Этап 1:\n",
        "Напишите функцию программу, которая принимает строку и возвращает список слов и количество их упомнинаний в предложении\n",
        "\n",
        "Этап 2:\n",
        "Оформите ваш код в виде функции\n",
        "\n",
        "Ввод:\n",
        "```\n",
        "apple banana apple\n",
        "```\n",
        "\n",
        "Вывод:\n",
        "\n",
        "```\n",
        "apple: 2,\n",
        "banana: 1\n",
        "```"
      ],
      "metadata": {
        "id": "WIfPFxpsO0zL"
      }
    },
    {
      "cell_type": "code",
      "source": [
        "def count_words(sentence):\n",
        "    words = {}\n",
        "    current_word = \"\"\n",
        "\n",
        "    for char in sentence + \" \":\n",
        "        if char != ' ':\n",
        "            current_word += char\n",
        "        else:\n",
        "            if current_word:\n",
        "                if current_word in words:\n",
        "                    words[current_word] += 1\n",
        "                else:\n",
        "                    words[current_word] = 1\n",
        "                current_word = \"\"\n",
        "    return words\n",
        "input_string = \"apple banana apple\"\n",
        "word_count = count_words(input_string)\n",
        "\n",
        "for word, count in word_count.items():\n",
        "    print(f\"{word}: {count}\")\n",
        "\n"
      ],
      "metadata": {
        "id": "DgsmFeW5Po_x",
        "colab": {
          "base_uri": "https://localhost:8080/"
        },
        "outputId": "b985a82a-dce9-443f-d6a6-c1f97ada50c2"
      },
      "execution_count": null,
      "outputs": [
        {
          "output_type": "stream",
          "name": "stdout",
          "text": [
            "apple: 2\n",
            "banana: 1\n"
          ]
        }
      ]
    },
    {
      "cell_type": "markdown",
      "source": [
        "**Задача 5:**\n",
        "\n",
        "Этап 1:\n",
        "Детектор анаграмм Напишите программу на Python, которая принимает в качестве входных данных две строки и проверяет, являются ли они анаграммами друг друга\n",
        "\n",
        "Этап 2:\n",
        "Оформите ваш код в виде функции\n",
        "\n",
        "Ввод:\n",
        "```\n",
        "listen, silent\n",
        "```\n",
        "\n",
        "Вывод:\n",
        "\n",
        "```\n",
        "True\n",
        "```"
      ],
      "metadata": {
        "id": "5BmIJLUZP9I-"
      }
    },
    {
      "cell_type": "code",
      "source": [
        "def are_anagrams(str1, str2):\n",
        "    return sorted(str1) == sorted(str2)\n",
        "\n",
        "input1 = \"listen\"\n",
        "input2 = \"silent\"\n",
        "\n",
        "print(are_anagrams(input1, input2))\n"
      ],
      "metadata": {
        "id": "7LNW8DuHQJwH",
        "colab": {
          "base_uri": "https://localhost:8080/"
        },
        "outputId": "33e65f57-f758-4abb-a5a2-3402212d28e3"
      },
      "execution_count": null,
      "outputs": [
        {
          "output_type": "stream",
          "name": "stdout",
          "text": [
            "True\n"
          ]
        }
      ]
    },
    {
      "cell_type": "markdown",
      "source": [
        "**Задача 5:**\n",
        "\n",
        "Шифр ​​Цезаря\n",
        "\n",
        "Напишите программу на Python, которая реализует шифр Цезаря, простой метод шифрования, который заменяет каждую букву буквой на фиксированное количество позиций вниз по алфавиту. Программа должна запрашивать у пользователя сообщение и значение сдвига, а затем шифровать и расшифровывать сообщение.\n",
        "\n",
        "Этап 1:\n",
        "\n",
        "Напишите код для реализации данной задачи\n",
        "\n",
        "Этап 2:\n",
        "\n",
        "Оформите код в виде нескольких функций:\n",
        "\n",
        "* Зашифровывает сообщение\n",
        "* Расшифровывает сообщение"
      ],
      "metadata": {
        "id": "-SIWYSq2QKBh"
      }
    },
    {
      "cell_type": "code",
      "source": [
        "def caesar_cipher(message, shift):\n",
        "    \"\"\"Шифрует или расшифровывает сообщение с использованием шифра Цезаря.\"\"\"\n",
        "    result = \"\"\n",
        "    for char in message:\n",
        "        if char.isalpha():\n",
        "            shift_base = ord('a') if char.islower() else ord('A')\n",
        "            # Применяем сдвиг\n",
        "            result += chr((ord(char) - shift_base + shift) % 26 + shift_base)\n",
        "        else:\n",
        "            result += char  # Оставляем не буквенные символы без изменений\n",
        "    return result  # Не забываем вернуть результат\n",
        "\n",
        "def main():\n",
        "    message = input(\"Введите сообщение: \")\n",
        "    shift = int(input(\"Введите значение сдвига: \"))\n",
        "\n",
        "    encrypted = caesar_cipher(message, shift)\n",
        "    print(\"Зашифрованное сообщение:\", encrypted)\n",
        "\n",
        "    decrypted = caesar_cipher(encrypted, -shift)\n",
        "    print(\"Расшифрованное сообщение:\", decrypted)\n",
        "\n",
        "if __name__ == \"__main__\":\n",
        "    main()\n"
      ],
      "metadata": {
        "id": "anThYirsQe6N",
        "colab": {
          "base_uri": "https://localhost:8080/"
        },
        "outputId": "3d284e04-16c7-4975-943c-cd3c1994aa7f"
      },
      "execution_count": null,
      "outputs": [
        {
          "output_type": "stream",
          "name": "stdout",
          "text": [
            "Введите сообщение: ааа\n",
            "Введите значение сдвига: 2\n",
            "Зашифрованное сообщение: ppp\n",
            "Расшифрованное сообщение: nnn\n"
          ]
        }
      ]
    },
    {
      "cell_type": "markdown",
      "source": [
        "**Задача 6**\n",
        "\n",
        "Задача: «Банковская система»\n",
        "\n",
        "Создайте программу Python, которая имитирует базовую банковскую систему. Система должна иметь следующие функции:\n",
        "\n",
        "Требования\n",
        "*   Система должна позволять клиентам создавать счета и хранить их балансы.\n",
        "*   Система должна позволять клиентам вносить и снимать деньги со своих счетов.\n",
        "*   Система должна позволять клиентам проверять свой текущий баланс.\n",
        "*   Система должна позволять клиентам переводить деньги между счетами.\n",
        "*   Система должна отслеживать транзакции (депозиты, снятия и переводы) и иметь возможность печатать детали транзакций.\n",
        "\n",
        "\n",
        "Задачи\n",
        "1. Реализуйте банковскую систему, используя только базовые конструкции Python, такие как def, lists, if, elif и else, без классов или словарей.\n",
        "Определите функции для создания счетов, внесения и снятия денег, получения балансов счетов, перевода денег между счетами, а также создания и печати транзакций.\n",
        "2. Напишите основную функцию, которая демонстрирует использование банковской системы путем создания счетов, внесения и снятия денег и перевода денег между счетами.\n",
        "3. Бонусное задание\n",
        "Реализуйте способ хранения и печати истории транзакций для каждого счета.\n",
        "\n",
        "Ограничения\n",
        "Не используйте классы или словари.\n",
        "Используйте только базовые конструкции Python, такие как def, lists, if, elif и else.\n"
      ],
      "metadata": {
        "id": "avFZRRXrQz9O"
      }
    },
    {
      "cell_type": "code",
      "source": [
        "def create_account(accounts, name, initial_balance):\n",
        "    accounts.append([name, initial_balance, []])\n",
        "    print(f\"Счет для {name} создан с начальным балансом ${initial_balance}.\")\n",
        "\n",
        "def deposit(accounts, name, amount):\n",
        "    for account in accounts:\n",
        "        if account[0] == name:\n",
        "            account[1] += amount\n",
        "            account[2].append(f\"Transaction: Initial deposit, ${amount}, deposit\")\n",
        "            print(f\"{name}'s current balance: ${account[1]}\")\n",
        "            return\n",
        "    print(\"Счет не найден.\")\n",
        "\n",
        "def withdraw(accounts, name, amount):\n",
        "    for account in accounts:\n",
        "        if account[0] == name:\n",
        "            if amount <= account[1]:\n",
        "                account[1] -= amount\n",
        "                account[2].append(f\"Transaction: Withdrawal, ${amount}, withdrawal\")\n",
        "                print(f\"{name}'s current balance: ${account[1]}\")\n",
        "            else:\n",
        "                print(\"Недостаточно средств.\")\n",
        "            return\n",
        "    print(\"Счет не найден.\")\n",
        "\n",
        "def check_balance(accounts, name):\n",
        "    for account in accounts:\n",
        "        if account[0] == name:\n",
        "            print(f\"{name}'s current balance: ${account[1]}\")\n",
        "            return\n",
        "    print(\"Счет не найден.\")\n",
        "\n",
        "def transfer(accounts, from_name, to_name, amount):\n",
        "    from_account = to_account = None\n",
        "    for account in accounts:\n",
        "        if account[0] == from_name:\n",
        "            from_account = account\n",
        "        if account[0] == to_name:\n",
        "            to_account = account\n",
        "    if from_account and to_account:\n",
        "        if amount <= from_account[1]:\n",
        "            from_account[1] -= amount\n",
        "            to_account[1] += amount\n",
        "            from_account[2].append(f\"Transaction: Transfer to {to_name}, ${amount}, transfer\")\n",
        "            to_account[2].append(f\"Transaction: Transfer from {from_name}, ${amount}, transfer\")\n",
        "            print(f\"Переведено ${amount} от {from_name} к {to_name}.\")\n",
        "        else:\n",
        "            print(\"Недостаточно средств на счете отправителя.\")\n",
        "    else:\n",
        "        print(\"Один из счетов не найден.\")\n",
        "\n",
        "def print_transactions(accounts, name):\n",
        "    for account in accounts:\n",
        "        if account[0] == name:\n",
        "            print(f\"История транзакций для {name}:\")\n",
        "            for transaction in account[2]:\n",
        "                print(transaction)\n",
        "            return\n",
        "    print(\"Счет не найден.\")\n",
        "\n",
        "def main():\n",
        "    accounts = []\n",
        "    create_account(accounts, \"John Doe\", 500)\n",
        "    create_account(accounts, \"Jane Doe\", 200)\n",
        "    check_balance(accounts, \"John Doe\")\n",
        "    check_balance(accounts, \"Jane Doe\")\n",
        "    deposit(accounts, \"John Doe\", 1000)\n",
        "    withdraw(accounts, \"John Doe\", 500)\n",
        "    transfer(accounts, \"John Doe\", \"Jane Doe\", 300)\n",
        "    check_balance(accounts, \"John Doe\")\n",
        "    check_balance(accounts, \"Jane Doe\")\n",
        "    print_transactions(accounts, \"John Doe\")\n",
        "    print_transactions(accounts, \"Jane Doe\")\n",
        "\n",
        "if __name__ == \"__main__\":\n",
        "    main()\n"
      ],
      "metadata": {
        "colab": {
          "base_uri": "https://localhost:8080/"
        },
        "id": "dWEW10zIRwjs",
        "outputId": "b306f368-1136-4e2b-ead0-f54880dd1f58"
      },
      "execution_count": null,
      "outputs": [
        {
          "output_type": "stream",
          "name": "stdout",
          "text": [
            "Счет для John Doe создан с начальным балансом $500.\n",
            "Счет для Jane Doe создан с начальным балансом $200.\n",
            "John Doe's current balance: $500\n",
            "Jane Doe's current balance: $200\n",
            "John Doe's current balance: $1500\n",
            "John Doe's current balance: $1000\n",
            "Переведено $300 от John Doe к Jane Doe.\n",
            "John Doe's current balance: $700\n",
            "Jane Doe's current balance: $500\n",
            "История транзакций для John Doe:\n",
            "Transaction: Initial deposit, $1000, deposit\n",
            "Transaction: Withdrawal, $500, withdrawal\n",
            "Transaction: Transfer to Jane Doe, $300, transfer\n",
            "История транзакций для Jane Doe:\n",
            "Transaction: Transfer from John Doe, $300, transfer\n"
          ]
        }
      ]
    }
  ]
}
