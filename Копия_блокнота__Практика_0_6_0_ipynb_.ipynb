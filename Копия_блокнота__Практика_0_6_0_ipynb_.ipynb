{
  "nbformat": 4,
  "nbformat_minor": 0,
  "metadata": {
    "colab": {
      "provenance": []
    },
    "kernelspec": {
      "name": "python3",
      "display_name": "Python 3"
    },
    "language_info": {
      "name": "python"
    }
  },
  "cells": [
    {
      "cell_type": "code",
      "source": [
        "Гаврилова Мария"
      ],
      "metadata": {
        "id": "m3KdKtSGS5WF"
      },
      "execution_count": null,
      "outputs": []
    },
    {
      "cell_type": "markdown",
      "source": [
        "\n",
        "\n",
        "---\n",
        "\n"
      ],
      "metadata": {
        "id": "tKNG_RzWxG6g"
      }
    },
    {
      "cell_type": "markdown",
      "source": [
        "# **Дисклеймер**\n",
        "\n",
        "В данной практике будет введен дополнительный критерий: чистота и читаемость кода, а также соблюдение правил описанных в начале практики"
      ],
      "metadata": {
        "id": "cFcrKfclKWh0"
      }
    },
    {
      "cell_type": "markdown",
      "source": [
        "\n",
        "\n",
        "---\n",
        "\n"
      ],
      "metadata": {
        "id": "0SnE87X1xDlV"
      }
    },
    {
      "cell_type": "markdown",
      "source": [
        "# Задание 1\n",
        "\n",
        "**Задача:**\n",
        "\n",
        "Напишите функцию очищающий список от дубликтов\n",
        "\n",
        "\n",
        "*Запрещено:*\n",
        "\n",
        "*   Использовать set() или готовые функции очищающие список от дубликатов\n",
        "\n",
        "Вввод:\n",
        "\n",
        "```\n",
        "apple banana apple 1 3 4 4 5\n",
        "```\n",
        "\n",
        "\n",
        "Вывод:\n",
        "\n",
        "```\n",
        "apple banana 1 3 4 5\n",
        "```\n",
        "\n"
      ],
      "metadata": {
        "id": "VxawR9NubT_F"
      }
    },
    {
      "cell_type": "code",
      "source": [
        "def duplicates(input_list):\n",
        "    result = []\n",
        "\n",
        "    for item in input_list:\n",
        "        if item not in result:\n",
        "            result.append(item)\n",
        "\n",
        "    return result\n",
        "\n",
        "\n",
        "input_data = [\"apple\", \"banana\", \"apple\", 1, 3, 4, 4, 5]\n",
        "output_data = duplicates(input_data)\n",
        "print(output_data)\n"
      ],
      "metadata": {
        "id": "ml5gnbPXbeju",
        "colab": {
          "base_uri": "https://localhost:8080/"
        },
        "outputId": "68749d64-9c9c-4de4-b624-1b70617948ea"
      },
      "execution_count": null,
      "outputs": [
        {
          "output_type": "stream",
          "name": "stdout",
          "text": [
            "['apple', 'banana', 1, 3, 4, 5]\n"
          ]
        }
      ]
    },
    {
      "cell_type": "markdown",
      "source": [
        "# Задание 2\n",
        "\n",
        "**Задача:**\n",
        "\n",
        "Написать функцию для нахождения простых чисел в диапазоне\n",
        "\n",
        "Ввод:\n",
        "\n",
        "```\n",
        "10, 50\n",
        "```\n",
        "\n",
        "Вывод:\n",
        "\n",
        "```\n",
        "11, 13, 17, 19, 23, 29, 31, 37, 41, 43, 47\n",
        "```"
      ],
      "metadata": {
        "id": "y05x0eD0cVCC"
      }
    },
    {
      "cell_type": "code",
      "source": [
        "def is_prime(n):\n",
        "    if n < 2:\n",
        "        return False\n",
        "    for i in range(2, int(n**0.5) + 1):\n",
        "        if n % i == 0:\n",
        "            return False\n",
        "    return True\n",
        "\n",
        "def find_primes_in_range(start, end):\n",
        "    return [number for number in range(start, end + 1) if is_prime(number)]\n",
        "\n",
        "\n",
        "start_range = 10\n",
        "end_range = 50\n",
        "prime_numbers = find_primes_in_range(start_range, end_range)\n",
        "print(prime_numbers)\n",
        "\n"
      ],
      "metadata": {
        "id": "XSMJnLgrc6Bf",
        "colab": {
          "base_uri": "https://localhost:8080/"
        },
        "outputId": "0cd283d9-dc05-4c10-b422-92d42c1c5bd6"
      },
      "execution_count": null,
      "outputs": [
        {
          "output_type": "stream",
          "name": "stdout",
          "text": [
            "[11, 13, 17, 19, 23, 29, 31, 37, 41, 43, 47]\n"
          ]
        }
      ]
    },
    {
      "cell_type": "markdown",
      "source": [
        "# Задание 3\n",
        "\n",
        "Напишите функцию для объединения двух списков (список ключей и список значении) в словарь\n",
        "\n",
        "*Запрещено:*\n",
        "\n",
        "*   Использования готовых функции для объединения списков (пример: zip() )\n",
        "\n",
        "Дано:\n",
        "\n",
        "```\n",
        "keys = ['a', 'b', 'c', 'e' ]\n",
        "values = [1, 2, 3, 4]\n",
        "```\n",
        "\n",
        "Вывод:\n",
        "```\n",
        "{'a': 1, 'b': 2, 'c': 3, 'e': 4}\n",
        "```\n",
        "\n",
        "\n"
      ],
      "metadata": {
        "id": "vYM0LyxxdElN"
      }
    },
    {
      "cell_type": "code",
      "source": [
        "def merge(keys,values):\n",
        "    for i in range(len(keys)):\n",
        "        key = keys[i]\n",
        "        value= values[i]\n",
        "        slovar[key] = value\n",
        "    print(slovar)\n",
        "\n",
        "\n",
        "keys = ['a', 'b', 'c', 'e' ]\n",
        "values = [1, 2, 3, 4]\n",
        "slovar = {}\n",
        "\n",
        "merge(keys,values)\n",
        "\n",
        "\n",
        "\n"
      ],
      "metadata": {
        "id": "CRvhHTjCdvjS",
        "colab": {
          "base_uri": "https://localhost:8080/"
        },
        "outputId": "06ee3885-8e2b-4336-db6b-edf2684c0a23"
      },
      "execution_count": null,
      "outputs": [
        {
          "output_type": "stream",
          "name": "stdout",
          "text": [
            "{'a': 1, 'b': 2, 'c': 3, 'e': 4}\n"
          ]
        }
      ]
    },
    {
      "cell_type": "markdown",
      "source": [
        "# Задание 4\n",
        "\n",
        "Напишите функцию(ии) для подсчета статистических параметров:\n",
        "*   Сумму\n",
        "*   Среднее арифметическое\n",
        "*   Медиану\n",
        "*   Моду\n",
        "\n",
        "\n",
        "*Запрещено:*\n",
        "\n",
        "*   sum()\n",
        "*   sorted()\n",
        "*   и других функции предоставляющих готовое решение задания\n",
        "\n",
        "Дано:\n",
        "\n",
        "```\n",
        "numbers = [1, 2, 2, 3, 4, 5, 6, 7, 8 ,9 ,10]\n",
        "\n",
        "```\n",
        "\n",
        "Вывод:\n",
        "```\n",
        "{'mean': 5.181818181818182, 'median': 5, 'mode': 2, 'sum': 57}\n",
        "```\n"
      ],
      "metadata": {
        "id": "L_w8H8i-fQcP"
      }
    },
    {
      "cell_type": "code",
      "source": [
        "def calc_sum(numbers):\n",
        "    total = 0\n",
        "    for number in numbers:\n",
        "        total += number\n",
        "    return total\n",
        "\n",
        "def calc_mean(numbers):\n",
        "    total = calc_sum(numbers)\n",
        "    return total / len(numbers)\n",
        "\n",
        "def calc_median(numbers):\n",
        "    n = len(numbers)\n",
        "    if n % 2 == 1:\n",
        "        return find_kth_smallest(numbers, n // 2)\n",
        "    else:\n",
        "        lower = find_kth_smallest(numbers, n // 2 - 1)\n",
        "        upper = find_kth_smallest(numbers, n // 2)\n",
        "        return (lower + upper) / 2\n",
        "\n",
        "def find_kth_smallest(numbers, k):\n",
        "    arr = numbers[:]\n",
        "    pivot = arr[0]\n",
        "    lows = [x for x in arr if x < pivot]\n",
        "    highs = [x for x in arr if x > pivot]\n",
        "    pivots = [x for x in arr if x == pivot]\n",
        "\n",
        "    if k < len(lows):\n",
        "        return find_kth_smallest(lows, k)\n",
        "    elif k < len(lows) + len(pivots):\n",
        "        return pivots[0]\n",
        "    else:\n",
        "        return find_kth_smallest(highs, k - len(lows) - len(pivots))\n",
        "\n",
        "def calc_mode(numbers):\n",
        "    frequency = {}\n",
        "    for number in numbers:\n",
        "        frequency[number] = frequency.get(number, 0) + 1\n",
        "    mode = max(frequency, key=frequency.get)\n",
        "    return mode\n",
        "\n",
        "def calc_statistics(numbers):\n",
        "    return {\n",
        "        'sum': calc_sum(numbers),\n",
        "        'mean': calc_mean(numbers),\n",
        "        'median': calc_median(numbers),\n",
        "        'mode': calc_mode(numbers)\n",
        "    }\n",
        "\n",
        "\n",
        "numbers = [1, 2, 2, 3, 4, 5, 6, 7, 8, 9, 10]\n",
        "\n",
        "statistics = calc_statistics(numbers)\n",
        "print(statistics)\n"
      ],
      "metadata": {
        "colab": {
          "base_uri": "https://localhost:8080/"
        },
        "id": "QgirBRUJ0EJf",
        "outputId": "4aac858f-2e60-48d8-e5f5-f418e6b1f66a"
      },
      "execution_count": null,
      "outputs": [
        {
          "output_type": "stream",
          "name": "stdout",
          "text": [
            "{'sum': 57, 'mean': 5.181818181818182, 'median': 5, 'mode': 2}\n"
          ]
        }
      ]
    },
    {
      "cell_type": "markdown",
      "source": [
        "# Задание 5\n",
        "\n",
        "На ввод поступает строка символов. Строка состоит из слов, которые отделены друг от друга пробелами. Необходимо вывести самое длинное слово и его порядковый номер.\n",
        "\n",
        "*Запрещено:*\n",
        "\n",
        "*   len()\n",
        "\n",
        "Дано:\n",
        "\n",
        "```\n",
        "Страдание и боль всегда обязательны для широкого сознания и глубокого сердца.\n",
        "\n",
        "```\n",
        "\n",
        "Вывод:\n",
        "```\n",
        "Самое длинное слово с номером 5: обязательны\n",
        "```"
      ],
      "metadata": {
        "id": "hZW0NZ7SgTcp"
      }
    },
    {
      "cell_type": "code",
      "source": [
        "spisokk = [Страдание и боль всегда обязательны для широкого сознания и глубокого сердца.]"
      ],
      "metadata": {
        "id": "rC5DpHHLsDYp"
      },
      "execution_count": null,
      "outputs": []
    },
    {
      "cell_type": "markdown",
      "source": [
        "# Задание 6\n",
        "\n",
        "Напишите программу, для управления оценками студентов, со следующими функциями:\n",
        "\n",
        "* Добавление информации о студенте и его оценках.\n",
        "* Подсчет среднего балла студента.\n",
        "* Получение списка всех студентов с их средними баллами.\n",
        "* Поиск студента по имени и вывод его оценок и среднего балла.\n",
        "\n",
        "\n",
        "\n"
      ],
      "metadata": {
        "id": "k5BzJW5ZeaQN"
      }
    },
    {
      "cell_type": "code",
      "source": [
        "class Student:\n",
        "    def __init__(self, name):\n",
        "        self.name = name\n",
        "        self.grades = []\n",
        "\n",
        "    def add_grade(self, grade):\n",
        "\n",
        "        self.grades.append(grade)\n",
        "\n",
        "    def average(self):\n",
        "\n",
        "        return sum(self.grades) / len(self.grades) if self.grades else 0\n",
        "\n",
        "class StudentManager:\n",
        "    def __init__(self):\n",
        "        self.students = {}\n",
        "\n",
        "    def add_student(self, name):\n",
        "\n",
        "        self.students[name] = Student(name)\n",
        "\n",
        "    def add_grade(self, name, grade):\n",
        "\n",
        "        if name in self.students:\n",
        "            self.students[name].add_grade(grade)\n",
        "\n",
        "    def get_all_students(self):\n",
        "\n",
        "        return {name: student.average() for name, student in self.students.items()}\n",
        "\n",
        "    def find_student(self, name):\n",
        "\n",
        "        student = self.students.get(name)\n",
        "        return {\n",
        "            'name': student.name,\n",
        "            'grades': student.grades,\n",
        "            'average': student.average()\n",
        "        } if student else None\n",
        "\n",
        "\n",
        "manager = StudentManager()\n",
        "manager.add_student(\"Alice\")\n",
        "manager.add_student(\"Bob\")\n",
        "manager.add_grade(\"Alice\", 85)\n",
        "manager.add_grade(\"Alice\", 90)\n",
        "manager.add_grade(\"Bob\", 78)\n",
        "manager.add_grade(\"Bob\", 88)\n",
        "\n",
        "print(\"Все студенты и их средние баллы:\", manager.get_all_students())\n",
        "print(\"Информация о студенте:\", manager.find_student(\"Alice\"))\n"
      ],
      "metadata": {
        "colab": {
          "base_uri": "https://localhost:8080/"
        },
        "id": "0vgE9wH6G-oo",
        "outputId": "c16dd12f-8400-4b2e-e845-045201e4a43f"
      },
      "execution_count": null,
      "outputs": [
        {
          "output_type": "stream",
          "name": "stdout",
          "text": [
            "Все студенты и их средние баллы: {'Alice': 87.5, 'Bob': 83.0}\n",
            "Информация о студенте: {'name': 'Alice', 'grades': [85, 90], 'average': 87.5}\n"
          ]
        }
      ]
    },
    {
      "cell_type": "markdown",
      "source": [
        "# Задание 7\n",
        "\n",
        "\n",
        "**Задача:**\n",
        "\n",
        "Создайте приложение-викторину с командной строкой, которое задает пользователям вопросы по различным темам и отслеживает их результаты.\n",
        "\n",
        "Ключевые особенности:\n",
        "\n",
        "*   Хранение данных о вопросах и ответах на них, а также баллов за каждый вопрос\n",
        "*   Реализуйте функцию для представления вопросов, принятия ответов пользователей и предоставления обратной связи о том, являются ли ответы правильными или неправильными.\n",
        "*  После завершения викторины отобразите общий балл пользователя из числа ответов на вопросы.\n",
        "*  Реализуйте функцию добавления нового вопроса\n",
        "*  Реализуйте функцию перемешивания вопросов, для отображения случайного вопроса\n"
      ],
      "metadata": {
        "id": "iQ8Z-7PYgu1_"
      }
    },
    {
      "cell_type": "code",
      "source": [
        "import random\n",
        "\n",
        "class Question:\n",
        "\n",
        "    def __init__(self, prompt, answer):\n",
        "        self.prompt = prompt\n",
        "        self.answer = answer\n",
        "\n",
        "class Quiz:\n",
        "\n",
        "    def __init__(self):\n",
        "        self.questions = []\n",
        "        self.score = 0\n",
        "\n",
        "    def add_question(self, prompt, answer):\n",
        "\n",
        "        self.questions.append(Question(prompt, answer))\n",
        "\n",
        "    def shuffle_questions(self):\n",
        "\n",
        "        random.shuffle(self.questions)\n",
        "\n",
        "    def run(self):\n",
        "\n",
        "        for question in self.questions:\n",
        "            user_answer = input(question.prompt + \" \")\n",
        "            if user_answer.lower() == question.answer.lower():\n",
        "                print(\"Правильно!\")\n",
        "                self.score += 1\n",
        "            else:\n",
        "                print(f\"Неправильно! Правильный ответ: {question.answer}\")\n",
        "        print(f\"Ваш общий балл: {self.score}/{len(self.questions)}\")\n",
        "\n",
        "\n",
        "quiz = Quiz()\n",
        "quiz.add_question(\"Какой цвет неба в ясный день? \", \"синий\")\n",
        "quiz.add_question(\"Сколько ног у паука? \", \"восемь\")\n",
        "quiz.add_question(\"Какой океан самый большой? \", \"Тихий\")\n",
        "\n",
        "quiz.shuffle_questions()\n",
        "quiz.run()\n"
      ],
      "metadata": {
        "id": "DhxyYwHwh2V4",
        "colab": {
          "base_uri": "https://localhost:8080/"
        },
        "outputId": "211e28d8-751c-48af-f4ce-303ddf51cb9d"
      },
      "execution_count": null,
      "outputs": [
        {
          "output_type": "stream",
          "name": "stdout",
          "text": [
            "Какой океан самый большой?  тихий\n",
            "Правильно!\n",
            "Сколько ног у паука?  7\n",
            "Неправильно! Правильный ответ: восемь\n",
            "Какой цвет неба в ясный день?  абоба\n",
            "Неправильно! Правильный ответ: синий\n",
            "Ваш общий балл: 1/3\n"
          ]
        }
      ]
    }
  ]
}