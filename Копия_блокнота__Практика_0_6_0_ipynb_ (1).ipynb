{
  "nbformat": 4,
  "nbformat_minor": 0,
  "metadata": {
    "colab": {
      "provenance": []
    },
    "kernelspec": {
      "name": "python3",
      "display_name": "Python 3"
    },
    "language_info": {
      "name": "python"
    }
  },
  "cells": [
    {
      "cell_type": "code",
      "source": [
        "Гаврилова Мария"
      ],
      "metadata": {
        "id": "m3KdKtSGS5WF"
      },
      "execution_count": null,
      "outputs": []
    },
    {
      "cell_type": "markdown",
      "source": [
        "\n",
        "\n",
        "---\n",
        "\n"
      ],
      "metadata": {
        "id": "tKNG_RzWxG6g"
      }
    },
    {
      "cell_type": "markdown",
      "source": [
        "# **Дисклеймер**\n",
        "\n",
        "В данной практике будет введен дополнительный критерий: чистота и читаемость кода, а также соблюдение правил описанных в начале практики"
      ],
      "metadata": {
        "id": "cFcrKfclKWh0"
      }
    },
    {
      "cell_type": "markdown",
      "source": [
        "\n",
        "\n",
        "---\n",
        "\n"
      ],
      "metadata": {
        "id": "0SnE87X1xDlV"
      }
    },
    {
      "cell_type": "markdown",
      "source": [
        "# Задание 1\n",
        "\n",
        "**Задача:**\n",
        "\n",
        "Напишите функцию очищающий список от дубликтов\n",
        "\n",
        "\n",
        "*Запрещено:*\n",
        "\n",
        "*   Использовать set() или готовые функции очищающие список от дубликатов\n",
        "\n",
        "Вввод:\n",
        "\n",
        "```\n",
        "apple banana apple 1 3 4 4 5\n",
        "```\n",
        "\n",
        "\n",
        "Вывод:\n",
        "\n",
        "```\n",
        "apple banana 1 3 4 5\n",
        "```\n",
        "\n"
      ],
      "metadata": {
        "id": "VxawR9NubT_F"
      }
    },
    {
      "cell_type": "code",
      "source": [
        "def duplicates(input_list):\n",
        "    result = []\n",
        "\n",
        "    for item in input_list:\n",
        "        if item not in result:\n",
        "            result.append(item)\n",
        "    return result\n",
        "\n",
        "\n",
        "input_data = [\"apple\", \"banana\", \"apple\", 1, 3, 4, 4, 5]\n",
        "output_data = duplicates(input_data)\n",
        "print(output_data)\n"
      ],
      "metadata": {
        "id": "ml5gnbPXbeju",
        "colab": {
          "base_uri": "https://localhost:8080/"
        },
        "outputId": "256c68d3-0369-43a6-957c-013d0baa0fd8"
      },
      "execution_count": null,
      "outputs": [
        {
          "output_type": "stream",
          "name": "stdout",
          "text": [
            "['apple', 'banana', 1, 3, 4, 5]\n"
          ]
        }
      ]
    },
    {
      "cell_type": "markdown",
      "source": [
        "# Задание 2\n",
        "\n",
        "**Задача:**\n",
        "\n",
        "Написать функцию для нахождения простых чисел в диапазоне\n",
        "\n",
        "Ввод:\n",
        "\n",
        "```\n",
        "10, 50\n",
        "```\n",
        "\n",
        "Вывод:\n",
        "\n",
        "```\n",
        "11, 13, 17, 19, 23, 29, 31, 37, 41, 43, 47\n",
        "```"
      ],
      "metadata": {
        "id": "y05x0eD0cVCC"
      }
    },
    {
      "cell_type": "code",
      "source": [
        "def simple(num):\n",
        "    if num < 2:\n",
        "        return False\n",
        "    for i in range(2, num): # не включительно\n",
        "        if num % i == 0:\n",
        "            return False\n",
        "    return True\n",
        "\n",
        "def numbers(start, end):\n",
        "    result = []\n",
        "    for num in range(start, end + 1):\n",
        "        if simple(num):\n",
        "            result.append(num)\n",
        "    return result\n",
        "\n",
        "start, end = 10, 50\n",
        "print(numbers(start, end))"
      ],
      "metadata": {
        "id": "XSMJnLgrc6Bf",
        "colab": {
          "base_uri": "https://localhost:8080/"
        },
        "outputId": "5cc4bddf-3592-472a-ed51-b187eaee7619"
      },
      "execution_count": null,
      "outputs": [
        {
          "output_type": "stream",
          "name": "stdout",
          "text": [
            "[11, 13, 17, 19, 23, 29, 31, 37, 41, 43, 47]\n"
          ]
        }
      ]
    },
    {
      "cell_type": "markdown",
      "source": [
        "# Задание 3\n",
        "\n",
        "Напишите функцию для объединения двух списков (список ключей и список значении) в словарь\n",
        "\n",
        "*Запрещено:*\n",
        "\n",
        "*   Использования готовых функции для объединения списков (пример: zip() )\n",
        "\n",
        "Дано:\n",
        "\n",
        "```\n",
        "keys = ['a', 'b', 'c', 'e' ]\n",
        "values = [1, 2, 3, 4]\n",
        "```\n",
        "\n",
        "Вывод:\n",
        "```\n",
        "{'a': 1, 'b': 2, 'c': 3, 'e': 4}\n",
        "```\n",
        "\n",
        "\n"
      ],
      "metadata": {
        "id": "vYM0LyxxdElN"
      }
    },
    {
      "cell_type": "code",
      "source": [
        "def merge(keys,values):\n",
        "    for i in range(len(keys)):\n",
        "        key = keys[i]\n",
        "        value= values[i]\n",
        "        slovar[key] = value\n",
        "    print(slovar)\n",
        "\n",
        "\n",
        "keys = ['a', 'b', 'c', 'e' ]\n",
        "values = [1, 2, 3, 4]\n",
        "slovar = {}\n",
        "\n",
        "merge(keys,values)\n",
        "\n",
        "\n",
        "\n"
      ],
      "metadata": {
        "id": "CRvhHTjCdvjS",
        "colab": {
          "base_uri": "https://localhost:8080/"
        },
        "outputId": "7abe356a-de3e-4f0e-f4ad-7d995f7fcd50"
      },
      "execution_count": null,
      "outputs": [
        {
          "output_type": "stream",
          "name": "stdout",
          "text": [
            "{'a': 1, 'b': 2, 'c': 3, 'e': 4}\n"
          ]
        }
      ]
    },
    {
      "cell_type": "markdown",
      "source": [
        "# Задание 4\n",
        "\n",
        "Напишите функцию(ии) для подсчета статистических параметров:\n",
        "*   Сумму\n",
        "*   Среднее арифметическое\n",
        "*   Медиану\n",
        "*   Моду\n",
        "\n",
        "\n",
        "*Запрещено:*\n",
        "\n",
        "*   sum()\n",
        "*   sorted()\n",
        "*   и других функции предоставляющих готовое решение задания\n",
        "\n",
        "Дано:\n",
        "\n",
        "```\n",
        "numbers = [1, 2, 2, 3, 4, 5, 6, 7, 8 ,9 ,10]\n",
        "\n",
        "```\n",
        "\n",
        "Вывод:\n",
        "```\n",
        "{'mean': 5.181818181818182, 'median': 5, 'mode': 2, 'sum': 57}\n",
        "```\n"
      ],
      "metadata": {
        "id": "L_w8H8i-fQcP"
      }
    },
    {
      "cell_type": "code",
      "source": [
        "def calc_sum(numbers): #Суммa\n",
        "    total = 0\n",
        "    for number in numbers:\n",
        "        total += number\n",
        "    return total\n",
        "\n",
        "def calc_mean(numbers):   #Среднее арифметическое\n",
        "    total = calc_sum(numbers)\n",
        "    return total / len(numbers)\n",
        "\n",
        "def calc_median(numbers):  #Медианa\n",
        "    n = len(numbers)\n",
        "    if n % 2 == 1:\n",
        "        return mini(numbers, n // 2)\n",
        "    else:\n",
        "        lower = mini(numbers, n // 2 - 1)\n",
        "        upper = mini(numbers, n // 2)\n",
        "        return (lower + upper) / 2\n",
        "\n",
        "def mini(numbers, k):\n",
        "    arr = numbers[:]\n",
        "    pivot = arr[0]\n",
        "    lows = [x for x in arr if x < pivot]\n",
        "    highs = [x for x in arr if x > pivot]\n",
        "    pivots = [x for x in arr if x == pivot]\n",
        "\n",
        "    if k < len(lows):\n",
        "        return mini(lows, k)\n",
        "    elif k < len(lows) + len(pivots):\n",
        "        return pivots[0]\n",
        "    else:\n",
        "        return mini(highs, k - len(lows) - len(pivots))\n",
        "\n",
        "def calc_mode(numbers): #Модa\n",
        "    frequency = {}\n",
        "    for number in numbers:\n",
        "        frequency[number] = frequency.get(number, 0) + 1\n",
        "    mode = max(frequency, key=frequency.get)\n",
        "    return mode\n",
        "\n",
        "def calc_statistics(numbers):\n",
        "    return {\n",
        "        'sum': calc_sum(numbers),\n",
        "        'mean': calc_mean(numbers),\n",
        "        'median': calc_median(numbers),\n",
        "        'mode': calc_mode(numbers)\n",
        "    }\n",
        "\n",
        "\n",
        "numbers = [1, 2, 2, 3, 4, 5, 6, 7, 8, 9, 10]\n",
        "\n",
        "statistics = calc_statistics(numbers)\n",
        "print(statistics)\n"
      ],
      "metadata": {
        "colab": {
          "base_uri": "https://localhost:8080/"
        },
        "id": "QgirBRUJ0EJf",
        "outputId": "4aac858f-2e60-48d8-e5f5-f418e6b1f66a"
      },
      "execution_count": null,
      "outputs": [
        {
          "output_type": "stream",
          "name": "stdout",
          "text": [
            "{'sum': 57, 'mean': 5.181818181818182, 'median': 5, 'mode': 2}\n"
          ]
        }
      ]
    },
    {
      "cell_type": "markdown",
      "source": [
        "# Задание 5\n",
        "\n",
        "На ввод поступает строка символов. Строка состоит из слов, которые отделены друг от друга пробелами. Необходимо вывести самое длинное слово и его порядковый номер.\n",
        "\n",
        "*Запрещено:*\n",
        "\n",
        "*   len()\n",
        "\n",
        "Дано:\n",
        "\n",
        "```\n",
        "Страдание и боль всегда обязательны для широкого сознания и глубокого сердца.\n",
        "\n",
        "```\n",
        "\n",
        "Вывод:\n",
        "```\n",
        "Самое длинное слово с номером 5: обязательны\n",
        "```"
      ],
      "metadata": {
        "id": "hZW0NZ7SgTcp"
      }
    },
    {
      "cell_type": "code",
      "source": [
        "spisokk = [Страдание и боль всегда обязательны для широкого сознания и глубокого сердца.]"
      ],
      "metadata": {
        "id": "rC5DpHHLsDYp"
      },
      "execution_count": null,
      "outputs": []
    },
    {
      "cell_type": "markdown",
      "source": [
        "# Задание 6\n",
        "\n",
        "Напишите программу, для управления оценками студентов, со следующими функциями:\n",
        "\n",
        "* Добавление информации о студенте и его оценках.\n",
        "* Подсчет среднего балла студента.\n",
        "* Получение списка всех студентов с их средними баллами.\n",
        "* Поиск студента по имени и вывод его оценок и среднего балла.\n",
        "\n",
        "\n",
        "\n"
      ],
      "metadata": {
        "id": "k5BzJW5ZeaQN"
      }
    },
    {
      "cell_type": "code",
      "source": [
        "def add_student(students, name):\n",
        "    students[name] = []\n",
        "\n",
        "def add_grade(students, name, grade):\n",
        "    if name in students:\n",
        "        students[name].append(grade)\n",
        "\n",
        "def average(grades):\n",
        "    return sum(grades) / len(grades) if grades else 0\n",
        "\n",
        "def all(students):\n",
        "    return {name: average(grades) for name, grades in students.items()}\n",
        "\n",
        "def find_student(students, name):\n",
        "    if name in students:\n",
        "        return {\n",
        "            'name': name,\n",
        "            'grades': students[name],\n",
        "            'average': average(students[name])\n",
        "        }\n",
        "    return None\n",
        "\n",
        "students = {}\n",
        "add_student(students, \"Даша\")\n",
        "add_student(students, \"Глаша\")\n",
        "add_grade(students, \"Даша\", 85)\n",
        "add_grade(students, \"Даша\", 90)\n",
        "add_grade(students, \"Глаша\", 78)\n",
        "add_grade(students, \"Глаша\", 88)\n",
        "\n",
        "print(\"Студенты и их средние баллы:\", all(students))\n",
        "print(\"Информация о студенте:\", find_student(students, \"Даша\"))\n"
      ],
      "metadata": {
        "colab": {
          "base_uri": "https://localhost:8080/"
        },
        "id": "0vgE9wH6G-oo",
        "outputId": "7c59ee85-9dbd-44df-e876-4bf906d8e8a7"
      },
      "execution_count": null,
      "outputs": [
        {
          "output_type": "stream",
          "name": "stdout",
          "text": [
            "Студенты и их средние баллы: {'Даша': 87.5, 'Глаша': 83.0}\n",
            "Информация о студенте: {'name': 'Даша', 'grades': [85, 90], 'average': 87.5}\n"
          ]
        }
      ]
    },
    {
      "cell_type": "markdown",
      "source": [
        "# Задание 7\n",
        "\n",
        "\n",
        "**Задача:**\n",
        "\n",
        "Создайте приложение-викторину с командной строкой, которое задает пользователям вопросы по различным темам и отслеживает их результаты.\n",
        "\n",
        "Ключевые особенности:\n",
        "\n",
        "*   Хранение данных о вопросах и ответах на них, а также баллов за каждый вопрос\n",
        "*   Реализуйте функцию для представления вопросов, принятия ответов пользователей и предоставления обратной связи о том, являются ли ответы правильными или неправильными.\n",
        "*  После завершения викторины отобразите общий балл пользователя из числа ответов на вопросы.\n",
        "*  Реализуйте функцию добавления нового вопроса\n",
        "*  Реализуйте функцию перемешивания вопросов, для отображения случайного вопроса\n"
      ],
      "metadata": {
        "id": "iQ8Z-7PYgu1_"
      }
    },
    {
      "cell_type": "code",
      "source": [
        "import random\n",
        "\n",
        "def add_question(questions, text, answer):\n",
        "    questions.append((text, answer))\n",
        "\n",
        "def shuffle_questions(questions):\n",
        "    random.shuffle(questions)\n",
        "\n",
        "def run_quiz(questions):\n",
        "    cnt = 0\n",
        "    for text, answer in questions:\n",
        "        user_answer = input(text + \" \")\n",
        "        if user_answer.lower() == answer.lower():\n",
        "            print(\"Правильно!\")\n",
        "            cnt += 1\n",
        "        else:\n",
        "            print(f\"Неправильно! Правильный ответ: {answer}\")\n",
        "    print(f\"Ваш общий балл: {cnt}/{len(questions)}\")\n",
        "\n",
        "def main():\n",
        "    questions = []\n",
        "    add_question(questions, \"Какой язык программирования используется для веб-разработки? \", \"javascript\")\n",
        "    add_question(questions, \"Сколько планет в Солнечной системе? \", \"восемь\")\n",
        "    add_question(questions, \"Какой самый большой континент? \", \"Азия\")\n",
        "    add_question(questions, \"Какой элемент имеет химический символ 'O'? \", \"кислород\")\n",
        "    add_question(questions, \"Кто написал 'Гарри Поттера'? \", \"джоан роулинг\")\n",
        "    add_question(questions, \"Какой газ составляет большую часть атмосферы Земли? \", \"азот\")\n",
        "    shuffle_questions(questions)\n",
        "    run_quiz(questions)\n",
        "\n",
        "main()\n",
        "\n"
      ],
      "metadata": {
        "id": "DhxyYwHwh2V4",
        "colab": {
          "base_uri": "https://localhost:8080/"
        },
        "outputId": "0a3e6c59-b2f0-470e-9c95-90882d6d916c"
      },
      "execution_count": null,
      "outputs": [
        {
          "output_type": "stream",
          "name": "stdout",
          "text": [
            "Сколько планет в Солнечной системе?  о\n",
            "Неправильно! Правильный ответ: восемь\n",
            "Какой самый большой континент?  о\n",
            "Неправильно! Правильный ответ: Азия\n",
            "Какой элемент имеет химический символ 'O'?  о\n",
            "Неправильно! Правильный ответ: кислород\n",
            "Кто написал 'Гарри Поттера'?  т\n",
            "Неправильно! Правильный ответ: джоан роулинг\n",
            "Какой газ составляет большую часть атмосферы Земли?  т\n",
            "Неправильно! Правильный ответ: азот\n",
            "Какой язык программирования используется для веб-разработки?  п\n",
            "Неправильно! Правильный ответ: javascript\n",
            "Ваш общий балл: 0/6\n"
          ]
        }
      ]
    }
  ]
}