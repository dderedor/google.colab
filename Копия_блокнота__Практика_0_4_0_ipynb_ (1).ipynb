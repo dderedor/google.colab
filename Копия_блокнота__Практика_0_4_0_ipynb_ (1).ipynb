{
  "nbformat": 4,
  "nbformat_minor": 0,
  "metadata": {
    "colab": {
      "provenance": []
    },
    "kernelspec": {
      "name": "python3",
      "display_name": "Python 3"
    },
    "language_info": {
      "name": "python"
    }
  },
  "cells": [
    {
      "cell_type": "markdown",
      "source": [
        "Введите ваше ФИО:"
      ],
      "metadata": {
        "id": "k8oVfdwrMXyc"
      }
    },
    {
      "cell_type": "code",
      "execution_count": null,
      "metadata": {
        "id": "5mcBLsKMI1-5"
      },
      "outputs": [],
      "source": [
        "Гаврилова Мария"
      ]
    },
    {
      "cell_type": "markdown",
      "source": [
        "***Дисклеймер***\n",
        "\n",
        "В данной практике запрещено использования функций:\n",
        "\n",
        "\n",
        "*   sum()\n",
        "*   min()\n",
        "*   max()\n",
        "*   average()\n",
        "*   reversed()\n",
        "*   sorted()\n",
        "*   готовые функции или библиотеки\n"
      ],
      "metadata": {
        "id": "8HbYUbm3Jw3o"
      }
    },
    {
      "cell_type": "markdown",
      "source": [
        "\n",
        "**Задача 1:**\n",
        "\n",
        "\n",
        "\n",
        "Интернет-магазин предлагает следующие условия скидок:\n",
        "\n",
        "*   Для заказов больше 1000 единиц, клиент получает скидку 5%. Если клиент использует промокод SUPERDISCOUNT, он получает скидку 10%.\n",
        "*  Для заказов стоимостью более 5000 единиц, клиент получает скидку 15%, а использование промокода SUPERDISCOUNT увеличивает скидку до 20%.\n",
        "\n",
        "Этап 1:\n",
        "Ввод:\n",
        "```\n",
        "Введите стоимость единицы товара: 5\n",
        "Введите количество товара: 1000\n",
        "Введите промокод: GiVEMEDISCONT\n",
        "```\n",
        "\n",
        "Вывод:\n",
        "\n",
        "```\n",
        "Ваша скидка: 5%\n",
        "Итоговая сумма: 4750.0\n",
        "```\n",
        "Этап 2:\n",
        "\n",
        "Оформите ваш код в виде функции"
      ],
      "metadata": {
        "id": "HmX0c6YPJSQr"
      }
    },
    {
      "cell_type": "markdown",
      "source": [],
      "metadata": {
        "id": "CG8nANFLvT4T"
      }
    },
    {
      "cell_type": "code",
      "source": [
        "request1 = float(input(\"Введите стоимость единицы товара: \"))\n",
        "quantity = int(input(\"Введите количество товара: \"))\n",
        "promocode = input(\"Введите промокод: \")\n",
        "\n",
        "price = request1 * quantity\n",
        "discount = 0\n",
        "\n",
        "if quantity >= 1000 and quantity <= 5000:\n",
        "    discount = 5\n",
        "elif quantity > 5000 and promocode == \"GiVEMEDISCONT\":\n",
        "    discount = 10\n",
        "elif price > 5000:\n",
        "    discount = 15\n",
        "elif price > 5000 and promocode == \"GiVEMEDISCONT\":\n",
        "    discount = 20\n",
        "\n",
        "final_price = price - (price / 100 * discount)\n",
        "\n",
        "print(\"Ваша скидка:\", discount, \"%\")\n",
        "print(\"Итоговая сумма:\", final_price)\n"
      ],
      "metadata": {
        "id": "OAIMIpklMN5D",
        "colab": {
          "base_uri": "https://localhost:8080/"
        },
        "outputId": "d8241072-45c9-4435-9da8-77927cc9afaf"
      },
      "execution_count": null,
      "outputs": [
        {
          "output_type": "stream",
          "name": "stdout",
          "text": [
            "Введите стоимость единицы товара: 1\n",
            "Введите количество товара: 1000\n",
            "Введите промокод: GiVEMEDISCONT\n",
            "Ваша скидка: 5 %\n",
            "Итоговая сумма: 950.0\n"
          ]
        }
      ]
    },
    {
      "cell_type": "markdown",
      "source": [
        "**Задача 2:**\n",
        "\n",
        "Этап 1:\n",
        "Напишите программу способную отфильтровать список и вывести только положительные элементы\n",
        "\n",
        "\n",
        "Ввод:\n",
        "```\n",
        "-1 5 1 2 -3\n",
        "```\n",
        "\n",
        "Вывод:\n",
        "\n",
        "```\n",
        "5 1 2\n",
        "```\n",
        "\n",
        "Этап 2:\n",
        "\n",
        "Оформите ваш код в виде функции"
      ],
      "metadata": {
        "id": "eeRVWpuLNGJ0"
      }
    },
    {
      "cell_type": "code",
      "source": [
        "numbers = [-1,5,1,2,-3]\n",
        "new_numbers = []\n",
        "for i in numbers:\n",
        "  if i > 0:\n",
        "    new_numbers.append(i)\n",
        "print(new_numbers)"
      ],
      "metadata": {
        "id": "Xbi6bL0WOE9N",
        "colab": {
          "base_uri": "https://localhost:8080/"
        },
        "outputId": "02e9b134-be0c-41f1-d784-69ec1e044e2b"
      },
      "execution_count": null,
      "outputs": [
        {
          "output_type": "stream",
          "name": "stdout",
          "text": [
            "[5, 1, 2]\n"
          ]
        }
      ]
    },
    {
      "cell_type": "markdown",
      "source": [
        "**Задача 3:**\n",
        "\n",
        "Этап 1:\n",
        "Напишите программу реализующую Алгоритм Евклида\n",
        "\n",
        "\n",
        "> Алгоритм Евклида – это алгоритм нахождения наибольшего общего делителя (НОД) пары целых чисел.\n",
        "\n",
        "\n",
        "\n",
        "Ввод:\n",
        "```\n",
        "30 18\n",
        "```\n",
        "\n",
        "Вывод:\n",
        "\n",
        "```\n",
        "6\n",
        "```\n",
        "\n",
        "Этап 2:\n",
        "Оформите ваш код в виде функции\n"
      ],
      "metadata": {
        "id": "lV-w6G-POa6F"
      }
    },
    {
      "cell_type": "code",
      "source": [
        "def nod(a, b):\n",
        "    while b != 0:\n",
        "        a, b = b, a % b\n",
        "    return a\n",
        "\n",
        "a = int(input(\"Введите первое целое число: \"))\n",
        "b = int(input(\"Введите второе целое число: \"))\n",
        "\n",
        "result = nod(a, b)\n",
        "\n",
        "print(\"Наибольший общий делитель:\", result)"
      ],
      "metadata": {
        "id": "43Dl5tIpOZsu",
        "colab": {
          "base_uri": "https://localhost:8080/"
        },
        "outputId": "9e38b3d3-fea4-4387-b6b0-abb6710a42bb"
      },
      "execution_count": null,
      "outputs": [
        {
          "output_type": "stream",
          "name": "stdout",
          "text": [
            "Введите первое целое число: 18\n",
            "Введите второе целое число: 30\n",
            "Наибольший общий делитель: 6\n"
          ]
        }
      ]
    },
    {
      "cell_type": "markdown",
      "source": [
        "**Задача 4:**\n",
        "\n",
        "Этап 1:\n",
        "Напишите функцию программу, которая принимает строку и возвращает список слов и количество их упомнинаний в предложении\n",
        "\n",
        "Этап 2:\n",
        "Оформите ваш код в виде функции\n",
        "\n",
        "Ввод:\n",
        "```\n",
        "apple banana apple\n",
        "```\n",
        "\n",
        "Вывод:\n",
        "\n",
        "```\n",
        "apple: 2,\n",
        "banana: 1\n",
        "```"
      ],
      "metadata": {
        "id": "WIfPFxpsO0zL"
      }
    },
    {
      "cell_type": "code",
      "source": [
        "def count(words):\n",
        "    words_count = {}\n",
        "    for word in words.split():\n",
        "        words_count[word] = words_count.get(word, 0) + 1\n",
        "    return words_count\n",
        "\n",
        "string = input(\"Введите строку: \")\n",
        "result = count(string)\n",
        "for k, v in result.items():\n",
        "  print(f'{k}: {v}')\n",
        "\n",
        "\n",
        "\n"
      ],
      "metadata": {
        "id": "DgsmFeW5Po_x",
        "colab": {
          "base_uri": "https://localhost:8080/"
        },
        "outputId": "848ebfbb-c1e5-412f-dba2-00b02009fab2"
      },
      "execution_count": null,
      "outputs": [
        {
          "output_type": "stream",
          "name": "stdout",
          "text": [
            "Введите строку: apple banana apple\n",
            "apple: 2,\n",
            "banana: 1,\n"
          ]
        }
      ]
    },
    {
      "cell_type": "markdown",
      "source": [
        "**Задача 5:**\n",
        "\n",
        "Этап 1:\n",
        "Детектор анаграмм Напишите программу на Python, которая принимает в качестве входных данных две строки и проверяет, являются ли они анаграммами друг друга\n",
        "\n",
        "Этап 2:\n",
        "Оформите ваш код в виде функции\n",
        "\n",
        "Ввод:\n",
        "```\n",
        "listen, silent\n",
        "```\n",
        "\n",
        "Вывод:\n",
        "\n",
        "```\n",
        "True\n",
        "```"
      ],
      "metadata": {
        "id": "5BmIJLUZP9I-"
      }
    },
    {
      "cell_type": "code",
      "source": [
        "def anagram(str1, str2):\n",
        "    return sorted(str1) == sorted(str2)\n",
        "\n",
        "input1 = \"listen\"\n",
        "input2 = \"silent\"\n",
        "\n",
        "print(anagram(input1, input2))\n"
      ],
      "metadata": {
        "id": "7LNW8DuHQJwH",
        "colab": {
          "base_uri": "https://localhost:8080/"
        },
        "outputId": "33e65f57-f758-4abb-a5a2-3402212d28e3"
      },
      "execution_count": null,
      "outputs": [
        {
          "output_type": "stream",
          "name": "stdout",
          "text": [
            "True\n"
          ]
        }
      ]
    },
    {
      "cell_type": "markdown",
      "source": [
        "**Задача 5:**\n",
        "\n",
        "Шифр ​​Цезаря\n",
        "\n",
        "Напишите программу на Python, которая реализует шифр Цезаря, простой метод шифрования, который заменяет каждую букву буквой на фиксированное количество позиций вниз по алфавиту. Программа должна запрашивать у пользователя сообщение и значение сдвига, а затем шифровать и расшифровывать сообщение.\n",
        "\n",
        "Этап 1:\n",
        "\n",
        "Напишите код для реализации данной задачи\n",
        "\n",
        "Этап 2:\n",
        "\n",
        "Оформите код в виде нескольких функций:\n",
        "\n",
        "* Зашифровывает сообщение\n",
        "* Расшифровывает сообщение"
      ],
      "metadata": {
        "id": "-SIWYSq2QKBh"
      }
    },
    {
      "cell_type": "code",
      "source": [
        "message = input(\"Введите сообщение для шифрования: \")\n",
        "shift = int(input(\"Введите значение сдвига: \"))\n",
        "encrypted_message = \"\"\n",
        "decrypted_message = \"\"\n",
        "\n",
        "for abc in message:\n",
        "  start = ord('a') #97\n",
        "  encrypted_message += chr((ord(abc) - start + shift) % 26 + start)\n",
        "\n",
        "print(\"Зашифрованное сообщение:\", encrypted_message)\n",
        "\n",
        "for abc in encrypted_message:\n",
        "  start = ord('a')\n",
        "  decrypted_message += chr((ord(abc) - start - shift) % 26 + start)\n",
        "\n",
        "print(\"Расшифрованное сообщение:\", decrypted_message)\n",
        "\n"
      ],
      "metadata": {
        "id": "anThYirsQe6N",
        "colab": {
          "base_uri": "https://localhost:8080/"
        },
        "outputId": "3989a71a-19ef-472e-996a-ce35b5e08284"
      },
      "execution_count": null,
      "outputs": [
        {
          "output_type": "stream",
          "name": "stdout",
          "text": [
            "Введите сообщение для шифрования: ddd\n",
            "Введите значение сдвига: 2\n",
            "Зашифрованное сообщение: fff\n",
            "Расшифрованное сообщение: ddd\n"
          ]
        }
      ]
    },
    {
      "cell_type": "markdown",
      "source": [
        "**Задача 6**\n",
        "\n",
        "Задача: «Банковская система»\n",
        "\n",
        "Создайте программу Python, которая имитирует базовую банковскую систему. Система должна иметь следующие функции:\n",
        "\n",
        "Требования\n",
        "*   Система должна позволять клиентам создавать счета и хранить их балансы.\n",
        "*   Система должна позволять клиентам вносить и снимать деньги со своих счетов.\n",
        "*   Система должна позволять клиентам проверять свой текущий баланс.\n",
        "*   Система должна позволять клиентам переводить деньги между счетами.\n",
        "*   Система должна отслеживать транзакции (депозиты, снятия и переводы) и иметь возможность печатать детали транзакций.\n",
        "\n",
        "\n",
        "Задачи\n",
        "1. Реализуйте банковскую систему, используя только базовые конструкции Python, такие как def, lists, if, elif и else, без классов или словарей.\n",
        "Определите функции для создания счетов, внесения и снятия денег, получения балансов счетов, перевода денег между счетами, а также создания и печати транзакций.\n",
        "2. Напишите основную функцию, которая демонстрирует использование банковской системы путем создания счетов, внесения и снятия денег и перевода денег между счетами.\n",
        "3. Бонусное задание\n",
        "Реализуйте способ хранения и печати истории транзакций для каждого счета.\n",
        "\n",
        "Ограничения\n",
        "Не используйте классы или словари.\n",
        "Используйте только базовые конструкции Python, такие как def, lists, if, elif и else.\n"
      ],
      "metadata": {
        "id": "avFZRRXrQz9O"
      }
    },
    {
      "cell_type": "code",
      "source": [
        "def account_bank(accounts, balance1):\n",
        "    account_number = len(accounts) + 1\n",
        "    accounts.append([account_number, balance1, []]) #список для транзакций\n",
        "    return account_number\n",
        "\n",
        "def plus_money(accounts, account_number, summ):\n",
        "    if summ > 0:\n",
        "        accounts[account_number - 1][1] += summ #потому что индекс акк начинаеться не с 0\n",
        "        accounts[account_number - 1][2].append(f\"Внесение: {summ}\")\n",
        "        return True\n",
        "    return False\n",
        "\n",
        "def minus_money(accounts, account_number, summ):\n",
        "    if summ > 0 and accounts[account_number - 1][1] >= summ:\n",
        "        accounts[account_number - 1][1] -= summ\n",
        "        accounts[account_number - 1][2].append(f\"Снятие: {summ}\")\n",
        "        return True\n",
        "    return False\n",
        "\n",
        "def check_balance(accounts, account_number):\n",
        "    return accounts[account_number - 1][1]\n",
        "\n",
        "def send(accounts, from_account, to_account, summ):\n",
        "    if summ > 0 and accounts[from_account - 1][1] >= summ:\n",
        "        accounts[from_account - 1][1] -= summ\n",
        "        accounts[to_account - 1][1] += summ\n",
        "        accounts[from_account - 1][2].append(f\"Перевод: {summ} на счет {to_account}\")\n",
        "        accounts[to_account - 1][2].append(f\"Перевод: {summ} с счета {from_account}\")\n",
        "        return True\n",
        "    return False\n",
        "\n",
        "def print_transactions(accounts, account_number):\n",
        "    for transaction in accounts[account_number - 1][2]:\n",
        "        print(transaction)\n",
        "\n",
        "def main():\n",
        "    accounts = []\n",
        "    account1 = account_bank(accounts, 1000)\n",
        "    account2 = account_bank(accounts, 500)\n",
        "\n",
        "    print(f\"Счет {account1} создан с балансом: {check_balance(accounts, account1)}\")\n",
        "    print(f\"Счет {account2} создан с балансом: {check_balance(accounts, account2)}\")\n",
        "\n",
        "    plus_money(accounts, account1, 200)\n",
        "    print(f\"Новый баланс для счета {account1}: {check_balance(accounts, account1)}\")\n",
        "\n",
        "    minus_money(accounts, account2, 100)\n",
        "    print(f\"Новый баланс для счета {account2}: {check_balance(accounts, account2)}\")\n",
        "\n",
        "    send(accounts, account1, account2, 150)\n",
        "    print(f\"Новый баланс для счета {account1}: {check_balance(accounts, account1)}\")\n",
        "    print(f\"Новый баланс для счета {account2}: {check_balance(accounts, account2)}\")\n",
        "\n",
        "    print(f\"Транзакции для счета {account1}:\")\n",
        "    print_transactions(accounts, account1)\n",
        "\n",
        "    print(f\"Транзакции для счета {account2}:\")\n",
        "    print_transactions(accounts, account2)\n",
        "\n",
        "main()\n",
        "\n"
      ],
      "metadata": {
        "colab": {
          "base_uri": "https://localhost:8080/"
        },
        "id": "dWEW10zIRwjs",
        "outputId": "eca0331a-34c8-4ff0-9214-ec5a035884a3"
      },
      "execution_count": null,
      "outputs": [
        {
          "output_type": "stream",
          "name": "stdout",
          "text": [
            "Счет 1 создан с балансом: 1000\n",
            "Счет 2 создан с балансом: 500\n",
            "Новый баланс для счета 1: 1200\n",
            "Новый баланс для счета 2: 400\n",
            "Новый баланс для счета 1: 1050\n",
            "Новый баланс для счета 2: 550\n",
            "Транзакции для счета 1:\n",
            "Внесение: 200\n",
            "Перевод: 150 на счет 2\n",
            "Транзакции для счета 2:\n",
            "Снятие: 100\n",
            "Перевод: 150 с счета 1\n"
          ]
        }
      ]
    }
  ]
}