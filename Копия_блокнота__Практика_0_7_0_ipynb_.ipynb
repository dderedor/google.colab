{
  "nbformat": 4,
  "nbformat_minor": 0,
  "metadata": {
    "colab": {
      "provenance": []
    },
    "kernelspec": {
      "name": "python3",
      "display_name": "Python 3"
    },
    "language_info": {
      "name": "python"
    }
  },
  "cells": [
    {
      "cell_type": "code",
      "source": [
       
      ],
      "metadata": {
        "id": "HboMqgQA_jg7"
      },
      "execution_count": null,
      "outputs": []
    },
    {
      "cell_type": "markdown",
      "source": [
        "ФИО:"
      ],
      "metadata": {
        "id": "ZLVI_WIcuT56"
      }
    },
    {
      "cell_type": "code",
      "source": [
        
      ],
      "metadata": {
        "id": "1cwVal8L5R_y"
      },
      "execution_count": null,
      "outputs": []
    },
    {
      "cell_type": "code",
      "source": [
       
      ],
      "metadata": {
        "id": "3AfG_Tal0P2S"
      },
      "execution_count": null,
      "outputs": []
    },
    {
      "cell_type": "markdown",
      "source": [
        "## Задание 1. HTTP-запросы, ответы и погода"
      ],
      "metadata": {
        "id": "Gtm1UjYgDlY7"
      }
    },
    {
      "cell_type": "markdown",
      "source": [
        "Описание:\n",
        "\n",
        "Напишите HTTP-запрос для получения информации о погоде в введенном городе из API.\n",
        "\n",
        "Можно использовать API: https://open-meteo.com/. Используйте метод GET.\n",
        "\n",
        "\n",
        "Ввод\n",
        "```\n",
        "56.50, 60.35\n",
        "```\n",
        "\n",
        "Вывод\n",
        "```\n",
        "Сегодня (1.11) погода 20 ◦С, нет осадков, туман\n",
        "```\n",
        "\n",
        "\n",
        "\n"
      ],
      "metadata": {
        "id": "FtjnLNIKzfMZ"
      }
    },
    {
      "cell_type": "code",
      "source": [
        "pip install requests"
      ],
      "metadata": {
        "colab": {
          "base_uri": "https://localhost:8080/"
        },
        "id": "VZAy0T_XfLKO",
        "outputId": "9e0d5f0d-8e9e-46e8-e178-7982831eca37"
      },
      "execution_count": null,
      "outputs": [
        {
          "output_type": "stream",
          "name": "stdout",
          "text": [
            "Requirement already satisfied: requests in /usr/local/lib/python3.10/dist-packages (2.32.3)\n",
            "Requirement already satisfied: charset-normalizer<4,>=2 in /usr/local/lib/python3.10/dist-packages (from requests) (3.4.0)\n",
            "Requirement already satisfied: idna<4,>=2.5 in /usr/local/lib/python3.10/dist-packages (from requests) (3.10)\n",
            "Requirement already satisfied: urllib3<3,>=1.21.1 in /usr/local/lib/python3.10/dist-packages (from requests) (2.2.3)\n",
            "Requirement already satisfied: certifi>=2017.4.17 in /usr/local/lib/python3.10/dist-packages (from requests) (2024.8.30)\n"
          ]
        }
      ]
    },
    {
      "cell_type": "code",
      "source": [],
      "metadata": {
        "id": "0oqEWW-UpuZb"
      },
      "execution_count": null,
      "outputs": []
    },
    {
      "cell_type": "code",
      "source": [],
      "metadata": {
        "id": "yFEEteHXrQye"
      },
      "execution_count": null,
      "outputs": []
    },
    {
      "cell_type": "code",
      "source": [
        "import requests\n",
        "\n",
        "data = input().split(\", \")\n",
        "url = (f'https://api.open-meteo.com/v1/forecast?latitude={data[0]}&longitude={data[1]}&current_weather=true')\n",
        "\n",
        "response = requests.get(url)\n",
        "\n",
        "if response.status_code == 200:\n",
        "    json = response.json()\n",
        "    temperature = json['current_weather']['temperature']\n",
        "    weather_y= json['current_weather']['weathercode']\n",
        "    time = json['current_weather']['time']\n",
        "    weather_o = {\n",
        "        0: \"ясно\",\n",
        "        1: \"облачно\",\n",
        "        2: \"небольшая облачность\",\n",
        "        3: \"дождь\",\n",
        "        4: \"туман\"\n",
        "    }\n",
        "    weather = weather_o.get(weather_y)\n",
        "#    print(json)\n",
        "\n",
        "    print(f\"Сегодня ({time}) погода {temperature} °C, {weather}.\")\n"
      ],
      "metadata": {
        "colab": {
          "base_uri": "https://localhost:8080/"
        },
        "id": "Oq-SNtjg3ZLv",
        "outputId": "5d0ea1c8-85fc-479f-a9a0-5df28cd020af"
      },
      "execution_count": null,
      "outputs": [
        {
          "output_type": "stream",
          "name": "stdout",
          "text": [
            "56.50, 60.35\n",
            "{'latitude': 56.5, 'longitude': 60.375, 'generationtime_ms': 0.0400543212890625, 'utc_offset_seconds': 0, 'timezone': 'GMT', 'timezone_abbreviation': 'GMT', 'elevation': 395.0, 'current_weather_units': {'time': 'iso8601', 'interval': 'seconds', 'temperature': '°C', 'windspeed': 'km/h', 'winddirection': '°', 'is_day': '', 'weathercode': 'wmo code'}, 'current_weather': {'time': '2024-11-04T21:00', 'interval': 900, 'temperature': -5.0, 'windspeed': 9.8, 'winddirection': 246, 'is_day': 0, 'weathercode': 2}}\n",
            "Сегодня 2024-11-04T21:00 погода -5.0 °C, небольшая облачность.\n"
          ]
        }
      ]
    },
    {
      "cell_type": "markdown",
      "source": [
        "## Задание 2. HTTP-запросы, ответы и покемоны"
      ],
      "metadata": {
        "id": "FYjU9WmVDoGs"
      }
    },
    {
      "cell_type": "markdown",
      "source": [
        "**Описание:**\n",
        "\n",
        "\n",
        "Создайте код программы, которая будет взаимодействовать с API, со следующим функионалом:\n",
        "\n",
        "1. Используя метод GET, отправьте запрос на endpoint /pokemon, чтобы получить список первых 20 покемонов\n",
        "\n",
        "2. Извлеките имена покемонов из ответа и выведите их списком\n",
        "\n",
        "3. Введите с помощью input() название одного из покемонов\n",
        "\n",
        "\n",
        "```\n",
        "Имя покемона: clefairy\n",
        "```\n",
        "\n",
        "\n",
        "\n",
        "4. Отправьте GET-запрос, чтобы получить полную информацию о выбранном покемоне\n",
        "\n",
        "5. Извлеките и выведите следующие данные о введенном покемоне:\n",
        "\n",
        "     • Имя\n",
        "\n",
        "     • Тип\n",
        "\n",
        "     • Вес\n",
        "\n",
        "     • Рост\n",
        "\n",
        "     • Способности\n",
        "\n",
        "Используйте PokéAPI (https://pokeapi.co/), который предоставляет информацию о покемонах, их характеристиках, типах и другую информацию."
      ],
      "metadata": {
        "id": "oZ1guEbl0PZm"
      }
    },
    {
      "cell_type": "code",
      "source": [
        "import requests\n",
        "\n",
        "\n",
        "def send_request(url):\n",
        "    response = requests.get(url)\n",
        "    status_code = response.status_code\n",
        "    if status_code == 200:\n",
        "        return response.json()\n",
        "    return None\n",
        "\n",
        "\n",
        "def print_only_names():\n",
        "    url = 'https://pokeapi.co/api/v2/pokemon/'\n",
        "    data = send_request(url)\n",
        "    if data:\n",
        "        nain_data = data['results']\n",
        "        for i in nain_data:\n",
        "            print(i['name'])\n",
        "\n",
        "\n",
        "def get_pokemon_info(name):\n",
        "    url = f'https://pokeapi.co/api/v2/pokemon/{name.lower()}/'\n",
        "    data = send_request(url)\n",
        "    if data:\n",
        "        pokemon_name = data['name'].capitalize()\n",
        "        types = [t['type']['name'] for t in data['types']]\n",
        "        weight = data['weight']\n",
        "        height = data['height']\n",
        "        abilities = [a['ability']['name'] for a in data['abilities']]\n",
        "\n",
        "        print(f\"Имя: {pokemon_name}\")\n",
        "        print(f\"Тип(ы): {', '.join(types)}\")\n",
        "        print(f\"Вес: {weight}\")\n",
        "        print(f\"Рост: {height}\")\n",
        "        print(f\"Способности: {', '.join(abilities)}\")\n",
        "    else:\n",
        "        print(\"Покемон не найден.\")\n",
        "\n",
        "def main():\n",
        "    print(\"Вот первые 20 покемонов:\")\n",
        "    print_only_names()\n",
        "\n",
        "    pokemon_name = input(\"Введите имя покемона: \")\n",
        "    get_pokemon_info(pokemon_name)\n",
        "\n",
        "if __name__ == \"__main__\":\n",
        "    main()\n"
      ],
      "metadata": {
        "colab": {
          "base_uri": "https://localhost:8080/"
        },
        "id": "9Vo4nyEPrTpx",
        "outputId": "ded62549-8adc-4a9e-f796-46dbbbf1ae11"
      },
      "execution_count": null,
      "outputs": [
        {
          "output_type": "stream",
          "name": "stdout",
          "text": [
            "Вот первые 20 покемонов:\n",
            "bulbasaur\n",
            "ivysaur\n",
            "venusaur\n",
            "charmander\n",
            "charmeleon\n",
            "charizard\n",
            "squirtle\n",
            "wartortle\n",
            "blastoise\n",
            "caterpie\n",
            "metapod\n",
            "butterfree\n",
            "weedle\n",
            "kakuna\n",
            "beedrill\n",
            "pidgey\n",
            "pidgeotto\n",
            "pidgeot\n",
            "rattata\n",
            "raticate\n",
            "Введите имя покемона: clefairy\n",
            "Имя: Clefairy\n",
            "Тип(ы): fairy\n",
            "Вес: 75\n",
            "Рост: 6\n",
            "Способности: cute-charm, magic-guard, friend-guard\n"
          ]
        }
      ]
    },
    {
      "cell_type": "markdown",
      "source": [
        "## Задание 3. HTTP-запросы, ответы и посты"
      ],
      "metadata": {
        "id": "Ci07uZdADue9"
      }
    },
    {
      "cell_type": "markdown",
      "source": [
        "**Описание:**\n",
        "\n",
        "Создайте программу, которая будет взаимодействовать с JSONPlaceholder API, реализуя следующие функции:\n",
        "\n",
        "1. Реализуйте функцию, которая выполняет GET-запрос к https://jsonplaceholder.typicode.com/posts и возвращает список постов в формате JSON\n",
        "\n",
        "2. Реализуйте функцию, котороая получает вводимое ID поста, выполняет GET-запрос по ID и возвращает данные поста в формате JSON\n",
        "\n",
        "3. Реализуйте функцию, которая выполняет обработку JSON из пункта 2 и выводит всю важную информацию в консоль"
      ],
      "metadata": {
        "id": "h194KTer1-B3"
      }
    },
    {
      "cell_type": "code",
      "source": [
        "import requests\n",
        "\n",
        "def fetch_posts():\n",
        "    url = 'https://jsonplaceholder.typicode.com/posts'\n",
        "    response = requests.get(url)\n",
        "    if response.status_code == 200:\n",
        "        return response.json()\n",
        "\n",
        "\n",
        "def fetch_post_by_id(post_id):\n",
        "    url = f'https://jsonplaceholder.typicode.com/posts/{post_id}'\n",
        "    response = requests.get(url)\n",
        "    if response.status_code == 200:\n",
        "        return response.json()\n",
        "\n",
        "\n",
        "def print_post_info(post):\n",
        "    if post:\n",
        "        print(f\"ID: {post['id']}\")\n",
        "        print(f\"Title: {post['title']}\")\n",
        "        print(f\"Body: {post['body']}\")\n",
        "    else:\n",
        "        print(\"Пост не найден.\")\n",
        "\n",
        "def main():\n",
        "    try:\n",
        "        post_id = int(input(\"Введите ID поста: \"))\n",
        "        post = fetch_post_by_id(post_id)\n",
        "        print_post_info(post)\n",
        "    except ValueError:\n",
        "        print(\"Пожалуйста, введите корректный числовой ID.\")\n",
        "\n",
        "if __name__ == \"__main__\":\n",
        "    main()\n"
      ],
      "metadata": {
        "id": "YANQx4o258Zn",
        "colab": {
          "base_uri": "https://localhost:8080/",
          "height": 321
        },
        "outputId": "2ea2cb9e-0007-4a32-883a-51bed97d8055"
      },
      "execution_count": 1,
      "outputs": [
        {
          "output_type": "error",
          "ename": "KeyboardInterrupt",
          "evalue": "Interrupted by user",
          "traceback": [
            "\u001b[0;31m---------------------------------------------------------------------------\u001b[0m",
            "\u001b[0;31mKeyboardInterrupt\u001b[0m                         Traceback (most recent call last)",
            "\u001b[0;32m<ipython-input-1-1e67ee28768a>\u001b[0m in \u001b[0;36m<cell line: 33>\u001b[0;34m()\u001b[0m\n\u001b[1;32m     32\u001b[0m \u001b[0;34m\u001b[0m\u001b[0m\n\u001b[1;32m     33\u001b[0m \u001b[0;32mif\u001b[0m \u001b[0m__name__\u001b[0m \u001b[0;34m==\u001b[0m \u001b[0;34m\"__main__\"\u001b[0m\u001b[0;34m:\u001b[0m\u001b[0;34m\u001b[0m\u001b[0;34m\u001b[0m\u001b[0m\n\u001b[0;32m---> 34\u001b[0;31m     \u001b[0mmain\u001b[0m\u001b[0;34m(\u001b[0m\u001b[0;34m)\u001b[0m\u001b[0;34m\u001b[0m\u001b[0;34m\u001b[0m\u001b[0m\n\u001b[0m",
            "\u001b[0;32m<ipython-input-1-1e67ee28768a>\u001b[0m in \u001b[0;36mmain\u001b[0;34m()\u001b[0m\n\u001b[1;32m     25\u001b[0m \u001b[0;32mdef\u001b[0m \u001b[0mmain\u001b[0m\u001b[0;34m(\u001b[0m\u001b[0;34m)\u001b[0m\u001b[0;34m:\u001b[0m\u001b[0;34m\u001b[0m\u001b[0;34m\u001b[0m\u001b[0m\n\u001b[1;32m     26\u001b[0m     \u001b[0;32mtry\u001b[0m\u001b[0;34m:\u001b[0m\u001b[0;34m\u001b[0m\u001b[0;34m\u001b[0m\u001b[0m\n\u001b[0;32m---> 27\u001b[0;31m         \u001b[0mpost_id\u001b[0m \u001b[0;34m=\u001b[0m \u001b[0mint\u001b[0m\u001b[0;34m(\u001b[0m\u001b[0minput\u001b[0m\u001b[0;34m(\u001b[0m\u001b[0;34m\"Введите ID поста: \"\u001b[0m\u001b[0;34m)\u001b[0m\u001b[0;34m)\u001b[0m\u001b[0;34m\u001b[0m\u001b[0;34m\u001b[0m\u001b[0m\n\u001b[0m\u001b[1;32m     28\u001b[0m         \u001b[0mpost\u001b[0m \u001b[0;34m=\u001b[0m \u001b[0mfetch_post_by_id\u001b[0m\u001b[0;34m(\u001b[0m\u001b[0mpost_id\u001b[0m\u001b[0;34m)\u001b[0m\u001b[0;34m\u001b[0m\u001b[0;34m\u001b[0m\u001b[0m\n\u001b[1;32m     29\u001b[0m         \u001b[0mprint_post_info\u001b[0m\u001b[0;34m(\u001b[0m\u001b[0mpost\u001b[0m\u001b[0;34m)\u001b[0m\u001b[0;34m\u001b[0m\u001b[0;34m\u001b[0m\u001b[0m\n",
            "\u001b[0;32m/usr/local/lib/python3.10/dist-packages/ipykernel/kernelbase.py\u001b[0m in \u001b[0;36mraw_input\u001b[0;34m(self, prompt)\u001b[0m\n\u001b[1;32m    849\u001b[0m                 \u001b[0;34m\"raw_input was called, but this frontend does not support input requests.\"\u001b[0m\u001b[0;34m\u001b[0m\u001b[0;34m\u001b[0m\u001b[0m\n\u001b[1;32m    850\u001b[0m             )\n\u001b[0;32m--> 851\u001b[0;31m         return self._input_request(str(prompt),\n\u001b[0m\u001b[1;32m    852\u001b[0m             \u001b[0mself\u001b[0m\u001b[0;34m.\u001b[0m\u001b[0m_parent_ident\u001b[0m\u001b[0;34m,\u001b[0m\u001b[0;34m\u001b[0m\u001b[0;34m\u001b[0m\u001b[0m\n\u001b[1;32m    853\u001b[0m             \u001b[0mself\u001b[0m\u001b[0;34m.\u001b[0m\u001b[0m_parent_header\u001b[0m\u001b[0;34m,\u001b[0m\u001b[0;34m\u001b[0m\u001b[0;34m\u001b[0m\u001b[0m\n",
            "\u001b[0;32m/usr/local/lib/python3.10/dist-packages/ipykernel/kernelbase.py\u001b[0m in \u001b[0;36m_input_request\u001b[0;34m(self, prompt, ident, parent, password)\u001b[0m\n\u001b[1;32m    893\u001b[0m             \u001b[0;32mexcept\u001b[0m \u001b[0mKeyboardInterrupt\u001b[0m\u001b[0;34m:\u001b[0m\u001b[0;34m\u001b[0m\u001b[0;34m\u001b[0m\u001b[0m\n\u001b[1;32m    894\u001b[0m                 \u001b[0;31m# re-raise KeyboardInterrupt, to truncate traceback\u001b[0m\u001b[0;34m\u001b[0m\u001b[0;34m\u001b[0m\u001b[0m\n\u001b[0;32m--> 895\u001b[0;31m                 \u001b[0;32mraise\u001b[0m \u001b[0mKeyboardInterrupt\u001b[0m\u001b[0;34m(\u001b[0m\u001b[0;34m\"Interrupted by user\"\u001b[0m\u001b[0;34m)\u001b[0m \u001b[0;32mfrom\u001b[0m \u001b[0;32mNone\u001b[0m\u001b[0;34m\u001b[0m\u001b[0;34m\u001b[0m\u001b[0m\n\u001b[0m\u001b[1;32m    896\u001b[0m             \u001b[0;32mexcept\u001b[0m \u001b[0mException\u001b[0m \u001b[0;32mas\u001b[0m \u001b[0me\u001b[0m\u001b[0;34m:\u001b[0m\u001b[0;34m\u001b[0m\u001b[0;34m\u001b[0m\u001b[0m\n\u001b[1;32m    897\u001b[0m                 \u001b[0mself\u001b[0m\u001b[0;34m.\u001b[0m\u001b[0mlog\u001b[0m\u001b[0;34m.\u001b[0m\u001b[0mwarning\u001b[0m\u001b[0;34m(\u001b[0m\u001b[0;34m\"Invalid Message:\"\u001b[0m\u001b[0;34m,\u001b[0m \u001b[0mexc_info\u001b[0m\u001b[0;34m=\u001b[0m\u001b[0;32mTrue\u001b[0m\u001b[0;34m)\u001b[0m\u001b[0;34m\u001b[0m\u001b[0;34m\u001b[0m\u001b[0m\n",
            "\u001b[0;31mKeyboardInterrupt\u001b[0m: Interrupted by user"
          ]
        }
      ]
    },
    {
      "cell_type": "markdown",
      "source": [
        "## Задание 4. HTTP-запросы, ответы и работа с постами"
      ],
      "metadata": {
        "id": "rtwepQvJDy9N"
      }
    },
    {
      "cell_type": "markdown",
      "source": [
        "**Описание**\n",
        "\n",
        "Создайте программу, которая будет взаимодействовать с JSONPlaceholder API (из предыдущего задания), реализуя новые функции:\n",
        "\n",
        "1. Реализуйте функцию, которая принимает заголовок, содержимое и ID пользователя (информация вводится с помощью input()), выполняет POST-запрос для создания нового поста и возвращает информацию о созданном посте в формате JSON\n",
        "\n",
        "\n",
        "```\n",
        "Заголовок: Новый пост\n",
        "Содержимое поста: Тут должно находиться содержимое нового поста...\n",
        "ID пользователя: 10\n",
        "```\n",
        "\n",
        "\n",
        "\n",
        "2. Реализуйте функцию, которая принимает ID поста, новый заголовок и новое содержимое, выполняет PUT-запрос и возвращает обновлённый пост в формате JSON\n",
        "\n",
        "3. Реализуйте функцию, которая принимает ID поста, выполняет DELETE-запрос и возвращает статус-код ответа"
      ],
      "metadata": {
        "id": "4MjiaxDM58ta"
      }
    },
    {
      "cell_type": "code",
      "source": [
        "import requests\n",
        "\n",
        "def create_post():\n",
        "    title = input(\"Введите заголовок поста: \")\n",
        "    body = input(\"Введите содержимое поста: \")\n",
        "    user_id = int(input(\"Введите ID пользователя: \"))\n",
        "\n",
        "    url = 'https://jsonplaceholder.typicode.com/posts'\n",
        "    post_data = {\n",
        "        'title': title,\n",
        "        'body': body,\n",
        "        'userId': user_id\n",
        "    }\n",
        "\n",
        "    response = requests.post(url, json=post_data)\n",
        "    if response.status_code == 201:\n",
        "        return response.json()\n",
        "    else:\n",
        "        print(\"Ошибка при создании поста.\")\n",
        "        return None\n",
        "\n",
        "def update_post(post_id):\n",
        "    new_title = input(\"Введите новый заголовок поста: \")\n",
        "    new_body = input(\"Введите новое содержимое поста: \")\n",
        "\n",
        "    url = f'https://jsonplaceholder.typicode.com/posts/{post_id}'\n",
        "    updated_data = {\n",
        "        'title': new_title,\n",
        "        'body': new_body,\n",
        "        'userId': post_id  # Assuming userId remains the same\n",
        "    }\n",
        "\n",
        "    response = requests.put(url, json=updated_data)\n",
        "    if response.status_code == 200:\n",
        "        return response.json()\n",
        "    else:\n",
        "        print(\"Ошибка при обновлении поста.\")\n",
        "        return None\n",
        "\n",
        "def delete_post(post_id):\n",
        "    url = f'https://jsonplaceholder.typicode.com/posts/{post_id}'\n",
        "    response = requests.delete(url)\n",
        "    return response.status_code\n",
        "\n",
        "def main():\n",
        "    print(\"1. Создать пост\")\n",
        "    print(\"2. Обновить пост\")\n",
        "    print(\"3. Удалить пост\")\n",
        "    choice = input(\"Выберите действие (1/2/3): \")\n",
        "\n",
        "    if choice == '1':\n",
        "        created_post = create_post()\n",
        "        print(\"Созданный пост:\", created_post)\n",
        "    elif choice == '2':\n",
        "        post_id = int(input(\"Введите ID поста для обновления: \"))\n",
        "        updated_post = update_post(post_id)\n",
        "        print(\"Обновленный пост:\", updated_post)\n",
        "    elif choice == '3':\n",
        "        post_id = int(input(\"Введите ID поста для удаления: \"))\n",
        "        status_code = delete_post(post_id)\n",
        "        print(\"Статус удаления:\", status_code)\n",
        "    else:\n",
        "        print(\"Неверный выбор.\")\n",
        "\n",
        "if __name__ == \"__main__\":\n",
        "    main()\n"
      ],
      "metadata": {
        "id": "jZUIdwq96DNl",
        "colab": {
          "base_uri": "https://localhost:8080/"
        },
        "outputId": "3aecfd6a-ce9e-442e-e506-adc68f83d426"
      },
      "execution_count": 2,
      "outputs": [
        {
          "output_type": "stream",
          "name": "stdout",
          "text": [
            "1. Создать пост\n",
            "2. Обновить пост\n",
            "3. Удалить пост\n",
            "Выберите действие (1/2/3): 1\n",
            "Введите заголовок поста: прпрпр\n",
            "Введите содержимое поста: ороророр\n",
            "Введите ID пользователя: 3\n",
            "Созданный пост: {'title': 'прпрпр', 'body': 'ороророр', 'userId': 3, 'id': 101}\n"
          ]
        }
      ]
    },
    {
      "cell_type": "markdown",
      "source": [
        "## Задание 5. HTTP-запросы, ответы и пёсики"
      ],
      "metadata": {
        "id": "0UoRc9vOD3XT"
      }
    },
    {
      "cell_type": "markdown",
      "source": [
        "**Описание**\n",
        "\n",
        "Создайте программу, которая будет взаимодействовать с Dog API, которая позволит получать список пород собак, вводить несколько пород и получать их фотогрфии.\n",
        "\n",
        "Этапы:\n",
        "\n",
        "1. Создайте функцию, которая использует метод GET и возвращает список всех пород собак в формате нумерованного списка\n",
        "\n",
        "2. Реализуйте возможность ввода нескольких пород собак через запятую\n",
        "\n",
        "\n",
        "```\n",
        "african, chow, dingo\n",
        "```\n",
        "\n",
        "\n",
        "\n",
        "3. Создание функции, которая реализует запрос, возвращает и выводит изображениия собак, породы которых были введены до этого\n",
        "\n",
        "\n",
        "Используйте Dog API (https://dog.ceo/dog-api/), который предоставляет информацию о породах собак и их изображения.\n"
      ],
      "metadata": {
        "id": "y0EyPsFQ6mSZ"
      }
    },
    {
      "cell_type": "markdown",
      "source": [
        "*Подсказка*\n",
        "\n",
        "\n",
        "\n",
        "```\n",
        "import requests\n",
        "from PIL import Image\n",
        "from IPython.display import display\n",
        "import io\n",
        "\n",
        "url = ____\n",
        "response = ____\n",
        "        \n",
        "if response.________ == ___:\n",
        "      image_url = response.json()['message']\n",
        "\n",
        "res = requests.get(image_url)\n",
        "img = Image.open(io.BytesIO(res.content))\n",
        "display(img)\n",
        "```\n",
        "\n"
      ],
      "metadata": {
        "id": "yrKv5k13AKEP"
      }
    },
    {
      "cell_type": "code",
      "source": [
        "import requests\n",
        "from PIL import Image\n",
        "import io\n",
        "\n",
        "def fetch_breeds():\n",
        "    url = 'https://dog.ceo/api/breeds/list/all'\n",
        "    response = requests.get(url)\n",
        "    if response.status_code == 200:\n",
        "        breeds = response.json()['message']\n",
        "        return list(breeds.keys())\n",
        "    else:\n",
        "        print(\"Ошибка при получении списка пород.\")\n",
        "        return []\n",
        "\n",
        "def display_breed_images(breeds):\n",
        "    for breed in breeds:\n",
        "        url = f'https://dog.ceo/api/breed/{breed}/images/random'\n",
        "        response = requests.get(url)\n",
        "        if response.status_code == 200:\n",
        "            image_url = response.json()['message']\n",
        "            display_image(image_url)\n",
        "        else:\n",
        "            print(f\"Ошибка при получении изображения для породы: {breed}\")\n",
        "\n",
        "def display_image(image_url):\n",
        "    response = requests.get(image_url)\n",
        "    img = Image.open(io.BytesIO(response.content))\n",
        "    img.show()\n",
        "\n",
        "def main():\n",
        "    print(\"Список пород собак:\")\n",
        "    breeds = fetch_breeds()\n",
        "    for index, breed in enumerate(breeds, start=1):\n",
        "        print(f\"{index}. {breed}\")\n",
        "\n",
        "    user_input = input(\"Введите породы через запятую: \")\n",
        "    selected_breeds = [breed.strip() for breed in user_input.split(',')]\n",
        "\n",
        "    display_breed_images(selected_breeds)\n",
        "\n",
        "if __name__ == \"__main__\":\n",
        "    main()\n"
      ],
      "metadata": {
        "id": "5xti3KRP4Kzp",
        "colab": {
          "base_uri": "https://localhost:8080/",
          "height": 1000
        },
        "outputId": "119f9411-36a4-45df-94b2-887762eb6ef8"
      },
      "execution_count": 3,
      "outputs": [
        {
          "output_type": "stream",
          "name": "stdout",
          "text": [
            "Список пород собак:\n",
            "1. affenpinscher\n",
            "2. african\n",
            "3. airedale\n",
            "4. akita\n",
            "5. appenzeller\n",
            "6. australian\n",
            "7. bakharwal\n",
            "8. basenji\n",
            "9. beagle\n",
            "10. bluetick\n",
            "11. borzoi\n",
            "12. bouvier\n",
            "13. boxer\n",
            "14. brabancon\n",
            "15. briard\n",
            "16. buhund\n",
            "17. bulldog\n",
            "18. bullterrier\n",
            "19. cattledog\n",
            "20. cavapoo\n",
            "21. chihuahua\n",
            "22. chippiparai\n",
            "23. chow\n",
            "24. clumber\n",
            "25. cockapoo\n",
            "26. collie\n",
            "27. coonhound\n",
            "28. corgi\n",
            "29. cotondetulear\n",
            "30. dachshund\n",
            "31. dalmatian\n",
            "32. dane\n",
            "33. danish\n",
            "34. deerhound\n",
            "35. dhole\n",
            "36. dingo\n",
            "37. doberman\n",
            "38. elkhound\n",
            "39. entlebucher\n",
            "40. eskimo\n",
            "41. finnish\n",
            "42. frise\n",
            "43. gaddi\n",
            "44. germanshepherd\n",
            "45. greyhound\n",
            "46. groenendael\n",
            "47. havanese\n",
            "48. hound\n",
            "49. husky\n",
            "50. keeshond\n",
            "51. kelpie\n",
            "52. kombai\n",
            "53. komondor\n",
            "54. kuvasz\n",
            "55. labradoodle\n",
            "56. labrador\n",
            "57. leonberg\n",
            "58. lhasa\n",
            "59. malamute\n",
            "60. malinois\n",
            "61. maltese\n",
            "62. mastiff\n",
            "63. mexicanhairless\n",
            "64. mix\n",
            "65. mountain\n",
            "66. mudhol\n",
            "67. newfoundland\n",
            "68. otterhound\n",
            "69. ovcharka\n",
            "70. papillon\n",
            "71. pariah\n",
            "72. pekinese\n",
            "73. pembroke\n",
            "74. pinscher\n",
            "75. pitbull\n",
            "76. pointer\n",
            "77. pomeranian\n",
            "78. poodle\n",
            "79. pug\n",
            "80. puggle\n",
            "81. pyrenees\n",
            "82. rajapalayam\n",
            "83. redbone\n",
            "84. retriever\n",
            "85. ridgeback\n",
            "86. rottweiler\n",
            "87. saluki\n",
            "88. samoyed\n",
            "89. schipperke\n",
            "90. schnauzer\n",
            "91. segugio\n",
            "92. setter\n",
            "93. sharpei\n",
            "94. sheepdog\n",
            "95. shiba\n",
            "96. shihtzu\n",
            "97. spaniel\n",
            "98. spitz\n",
            "99. springer\n",
            "100. stbernard\n",
            "101. terrier\n",
            "102. tervuren\n",
            "103. vizsla\n",
            "104. waterdog\n",
            "105. weimaraner\n",
            "106. whippet\n",
            "107. wolfhound\n"
          ]
        },
        {
          "output_type": "error",
          "ename": "KeyboardInterrupt",
          "evalue": "Interrupted by user",
          "traceback": [
            "\u001b[0;31m---------------------------------------------------------------------------\u001b[0m",
            "\u001b[0;31mKeyboardInterrupt\u001b[0m                         Traceback (most recent call last)",
            "\u001b[0;32m<ipython-input-3-436267429276>\u001b[0m in \u001b[0;36m<cell line: 41>\u001b[0;34m()\u001b[0m\n\u001b[1;32m     40\u001b[0m \u001b[0;34m\u001b[0m\u001b[0m\n\u001b[1;32m     41\u001b[0m \u001b[0;32mif\u001b[0m \u001b[0m__name__\u001b[0m \u001b[0;34m==\u001b[0m \u001b[0;34m\"__main__\"\u001b[0m\u001b[0;34m:\u001b[0m\u001b[0;34m\u001b[0m\u001b[0;34m\u001b[0m\u001b[0m\n\u001b[0;32m---> 42\u001b[0;31m     \u001b[0mmain\u001b[0m\u001b[0;34m(\u001b[0m\u001b[0;34m)\u001b[0m\u001b[0;34m\u001b[0m\u001b[0;34m\u001b[0m\u001b[0m\n\u001b[0m",
            "\u001b[0;32m<ipython-input-3-436267429276>\u001b[0m in \u001b[0;36mmain\u001b[0;34m()\u001b[0m\n\u001b[1;32m     34\u001b[0m         \u001b[0mprint\u001b[0m\u001b[0;34m(\u001b[0m\u001b[0;34mf\"{index}. {breed}\"\u001b[0m\u001b[0;34m)\u001b[0m\u001b[0;34m\u001b[0m\u001b[0;34m\u001b[0m\u001b[0m\n\u001b[1;32m     35\u001b[0m \u001b[0;34m\u001b[0m\u001b[0m\n\u001b[0;32m---> 36\u001b[0;31m     \u001b[0muser_input\u001b[0m \u001b[0;34m=\u001b[0m \u001b[0minput\u001b[0m\u001b[0;34m(\u001b[0m\u001b[0;34m\"Введите породы через запятую: \"\u001b[0m\u001b[0;34m)\u001b[0m\u001b[0;34m\u001b[0m\u001b[0;34m\u001b[0m\u001b[0m\n\u001b[0m\u001b[1;32m     37\u001b[0m     \u001b[0mselected_breeds\u001b[0m \u001b[0;34m=\u001b[0m \u001b[0;34m[\u001b[0m\u001b[0mbreed\u001b[0m\u001b[0;34m.\u001b[0m\u001b[0mstrip\u001b[0m\u001b[0;34m(\u001b[0m\u001b[0;34m)\u001b[0m \u001b[0;32mfor\u001b[0m \u001b[0mbreed\u001b[0m \u001b[0;32min\u001b[0m \u001b[0muser_input\u001b[0m\u001b[0;34m.\u001b[0m\u001b[0msplit\u001b[0m\u001b[0;34m(\u001b[0m\u001b[0;34m','\u001b[0m\u001b[0;34m)\u001b[0m\u001b[0;34m]\u001b[0m\u001b[0;34m\u001b[0m\u001b[0;34m\u001b[0m\u001b[0m\n\u001b[1;32m     38\u001b[0m \u001b[0;34m\u001b[0m\u001b[0m\n",
            "\u001b[0;32m/usr/local/lib/python3.10/dist-packages/ipykernel/kernelbase.py\u001b[0m in \u001b[0;36mraw_input\u001b[0;34m(self, prompt)\u001b[0m\n\u001b[1;32m    849\u001b[0m                 \u001b[0;34m\"raw_input was called, but this frontend does not support input requests.\"\u001b[0m\u001b[0;34m\u001b[0m\u001b[0;34m\u001b[0m\u001b[0m\n\u001b[1;32m    850\u001b[0m             )\n\u001b[0;32m--> 851\u001b[0;31m         return self._input_request(str(prompt),\n\u001b[0m\u001b[1;32m    852\u001b[0m             \u001b[0mself\u001b[0m\u001b[0;34m.\u001b[0m\u001b[0m_parent_ident\u001b[0m\u001b[0;34m,\u001b[0m\u001b[0;34m\u001b[0m\u001b[0;34m\u001b[0m\u001b[0m\n\u001b[1;32m    853\u001b[0m             \u001b[0mself\u001b[0m\u001b[0;34m.\u001b[0m\u001b[0m_parent_header\u001b[0m\u001b[0;34m,\u001b[0m\u001b[0;34m\u001b[0m\u001b[0;34m\u001b[0m\u001b[0m\n",
            "\u001b[0;32m/usr/local/lib/python3.10/dist-packages/ipykernel/kernelbase.py\u001b[0m in \u001b[0;36m_input_request\u001b[0;34m(self, prompt, ident, parent, password)\u001b[0m\n\u001b[1;32m    893\u001b[0m             \u001b[0;32mexcept\u001b[0m \u001b[0mKeyboardInterrupt\u001b[0m\u001b[0;34m:\u001b[0m\u001b[0;34m\u001b[0m\u001b[0;34m\u001b[0m\u001b[0m\n\u001b[1;32m    894\u001b[0m                 \u001b[0;31m# re-raise KeyboardInterrupt, to truncate traceback\u001b[0m\u001b[0;34m\u001b[0m\u001b[0;34m\u001b[0m\u001b[0m\n\u001b[0;32m--> 895\u001b[0;31m                 \u001b[0;32mraise\u001b[0m \u001b[0mKeyboardInterrupt\u001b[0m\u001b[0;34m(\u001b[0m\u001b[0;34m\"Interrupted by user\"\u001b[0m\u001b[0;34m)\u001b[0m \u001b[0;32mfrom\u001b[0m \u001b[0;32mNone\u001b[0m\u001b[0;34m\u001b[0m\u001b[0;34m\u001b[0m\u001b[0m\n\u001b[0m\u001b[1;32m    896\u001b[0m             \u001b[0;32mexcept\u001b[0m \u001b[0mException\u001b[0m \u001b[0;32mas\u001b[0m \u001b[0me\u001b[0m\u001b[0;34m:\u001b[0m\u001b[0;34m\u001b[0m\u001b[0;34m\u001b[0m\u001b[0m\n\u001b[1;32m    897\u001b[0m                 \u001b[0mself\u001b[0m\u001b[0;34m.\u001b[0m\u001b[0mlog\u001b[0m\u001b[0;34m.\u001b[0m\u001b[0mwarning\u001b[0m\u001b[0;34m(\u001b[0m\u001b[0;34m\"Invalid Message:\"\u001b[0m\u001b[0;34m,\u001b[0m \u001b[0mexc_info\u001b[0m\u001b[0;34m=\u001b[0m\u001b[0;32mTrue\u001b[0m\u001b[0;34m)\u001b[0m\u001b[0;34m\u001b[0m\u001b[0;34m\u001b[0m\u001b[0m\n",
            "\u001b[0;31mKeyboardInterrupt\u001b[0m: Interrupted by user"
          ]
        }
      ]
    }
  ]
}
