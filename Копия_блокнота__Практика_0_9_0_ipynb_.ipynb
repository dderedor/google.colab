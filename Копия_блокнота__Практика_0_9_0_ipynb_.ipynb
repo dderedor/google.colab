{
  "nbformat": 4,
  "nbformat_minor": 0,
  "metadata": {
    "colab": {
      "provenance": []
    },
    "kernelspec": {
      "name": "python3",
      "display_name": "Python 3"
    },
    "language_info": {
      "name": "python"
    }
  },
  "cells": [
    {
      "cell_type": "markdown",
      "source": [
        "ФИО"
      ],
      "metadata": {
        "id": "8hJfL9b2l439"
      }
    },
    {
      "cell_type": "code",
      "source": [
      
      ],
      "metadata": {
        "id": "wRnqvYOkl6EX"
      },
      "execution_count": null,
      "outputs": []
    },
    {
      "cell_type": "markdown",
      "source": [
        "# Дисклеймер"
      ],
      "metadata": {
        "id": "weOtPwPQmgpD"
      }
    },
    {
      "cell_type": "markdown",
      "source": [
        "В данной практике вам необходимо применить все ваши знания по темам:\n",
        "\n",
        "- Функции\n",
        "- Словари\n",
        "- Списки\n",
        "- Множества\n",
        "- Условные конструкции\n",
        "- Запросы\n",
        "\n",
        "и все что было изучено на прошлых практических занятиях\n",
        "\n",
        "В каждом задании кратко описаны функции, которые необходимо реализовать, детали реализации вы должны продумать самостоятельно"
      ],
      "metadata": {
        "id": "LznB3uscmjDa"
      }
    },
    {
      "cell_type": "markdown",
      "source": [
        "# Задание 0"
      ],
      "metadata": {
        "id": "7nSJIqkTvC_C"
      }
    },
    {
      "cell_type": "markdown",
      "source": [
        "Создайте функцию по нахождению уникальных элементов из двух списков\n",
        "\n",
        "\n",
        "\n",
        "```\n",
        "a = [1, 2, 3, 4]\n",
        "b = [3, 4, 5, 6]\n",
        "```\n",
        "\n"
      ],
      "metadata": {
        "id": "exACjTiVvGUe"
      }
    },
    {
      "cell_type": "code",
      "source": [
        "def unique(a, b):\n",
        "    set_a = set(a)\n",
        "    set_b = set(b)\n",
        "    unique_a = set_a - set_b\n",
        "    unique_b = set_b - set_a\n",
        "    return list(unique_a.union(unique_b))\n",
        "\n",
        "a = [1, 2, 3, 4]\n",
        "b = [3, 4, 5, 6]\n",
        "result = unique(a, b)\n",
        "print(result)\n"
      ],
      "metadata": {
        "id": "zilqjZ6wa7QY"
      },
      "execution_count": null,
      "outputs": []
    },
    {
      "cell_type": "markdown",
      "source": [
        "# Задание 1"
      ],
      "metadata": {
        "id": "SVWNlBALpCNo"
      }
    },
    {
      "cell_type": "markdown",
      "source": [
        "Симулятор виртуального питомца\n",
        "\n",
        "Цель: создать виртуальный симулятор домашних животных, в котором пользователи смогут заводить питомцев и ухаживать за ними.\n",
        "\n",
        "Требования:\n",
        "\n",
        "- Функция для усыновления питомца (имя, тип, возраст).\n",
        "- Функция для того, чтобы покормить питомца, поиграть с ним или уложить его спать.\n",
        "- Функция для отображения состояния питомца (голод, радость, энергия)."
      ],
      "metadata": {
        "id": "RcKA-VEqpC7f"
      }
    },
    {
      "cell_type": "code",
      "source": [
        "import random\n",
        "\n",
        "\n",
        "def usinovlenie(n, t, v): #усыновление\n",
        "  print('Привет! У нас для вас есть один питомец! его зовут: ',r_name, ', его тип: ',r_tip, ', его возраст: ', r_vozrast, 'г.')\n",
        "  otvet1 = input('Хотите усыновить этого питомца? Ответьте (yes) или (no) =>')\n",
        "  if otvet1 == 'yes':\n",
        "    print(gg)\n",
        "  else:\n",
        "    print(bb)\n",
        "\n",
        "\n",
        "\n",
        "def deistvia(eat,play,sleep): #действия над питомцем\n",
        "  print('Что бы вы хотели поделать вместе с питомцем: покушат, поиграт, поспат?')\n",
        "  otvet2 = input('Впишите вариант ответа =>')\n",
        "  if otvet2 == eat:\n",
        "    print('Ваш питомец сыт!клас!')\n",
        "    return ('Ваш питомец сыт!клас!')\n",
        "  elif otvet2 == play:\n",
        "    print('Ваш питомец поигал!клас!')\n",
        "    return('Ваш питомец поигал!клас!')\n",
        "  else:\n",
        "    print('Ваш питомец поcпал!клас!')\n",
        "    return('Ваш питомец поcпал!клас!')\n",
        "\n",
        "\n",
        "def sostoynie(s1): #отображение состояния\n",
        "  if s1 == 'Ваш питомец сыт!клас!':\n",
        "    print(f'Состояние питомца:{golod + 10}% {radost}% {anergi}%')\n",
        "  elif s1 ==  'Ваш питомец поигал!клас!':\n",
        "    print(f'Состояние питомца:{golod }% {radost + 10}% {anergi}%')\n",
        "  else:\n",
        "    print(f'Состояние питомца:{golod}% {radost}% {anergi + 10}%')\n",
        "\n",
        "\n",
        "golod = 50\n",
        "radost = 50\n",
        "anergi = 50\n",
        "\n",
        "name = ['Bob', 'Max', 'Angelica', '@#$%%$#@@#', 'pol', 'tamara']\n",
        "tip = ['krolik', 'cat', 'dog', 'korova', 'jaba_skript', 'abobik']\n",
        "vozrast = ['1', '2', '0.5', '30', '666', '10']\n",
        "\n",
        "r_name = random.choices(name)\n",
        "r_tip = random.choices(tip)\n",
        "r_vozrast = random.choices(vozrast)\n",
        "\n",
        "gg = 'Поздравляем!!! Вы усыновили питомца!!!'\n",
        "bb = 'Приходите еще!'\n",
        "\n",
        "\n",
        "usinovlenie(r_name, r_tip, r_vozrast)#усыновление\n",
        "message = deistvia('покушат','поиграт','поспат')#действия над питомцем\n",
        "sostoynie(message) #отображение состояния\n",
        "\n",
        "\n",
        "\n",
        "\n"
      ],
      "metadata": {
        "id": "hE7mF-HXpJLO",
        "colab": {
          "base_uri": "https://localhost:8080/"
        },
        "outputId": "fc2f3a74-0437-4224-e862-2e16756404d8"
      },
      "execution_count": null,
      "outputs": [
        {
          "output_type": "stream",
          "name": "stdout",
          "text": [
            "Привет! У нас для вас есть один питомец! его зовут:  ['@#$%%$#@@#'] , его тип:  ['jaba_skript'] , его возраст:  ['30'] г.\n",
            "Хотите усыновить этого питомца? Ответьте (yes) или (no) =>yes\n",
            "Поздравляем!!! Вы усыновили питомца!!!\n",
            "Что бы вы хотели поделать вместе с питомцем: покушат, поиграт, поспат?\n",
            "Впишите вариант ответа =>покушат\n",
            "Ваш питомец сыт!клас!\n",
            "Message: Ваш питомец сыт!клас!\n"
          ]
        }
      ]
    },
    {
      "cell_type": "markdown",
      "source": [
        "# Задание 2"
      ],
      "metadata": {
        "id": "qZ7qFQnmssNd"
      }
    },
    {
      "cell_type": "markdown",
      "source": [
        "Рыцарь и дракон\n",
        "\n",
        "Цель: создать небольшую игру, в которой вам необходимо играть за рыцаря и сразиться с драконом\n",
        "\n",
        "Требования:\n",
        "\n",
        "- Создание персонажа (имя, информация о доспехах, оружии, урон, здоровье)\n",
        "- Управление персонажем и мини сюжет\n",
        "- Создание дракона (Имя, информация о здоровье и уроне)\n",
        "- Боевая система (нанесение и получение урона, урон должен быть случайным в заданном диапазоне)\n",
        "- Реализовать бой между драконом и рыцарем"
      ],
      "metadata": {
        "id": "UaccTe7ltNvg"
      }
    },
    {
      "cell_type": "code",
      "source": [
        "import random\n",
        "\n",
        "class Character:\n",
        "    def __init__(self, name, armor, weapon, damage, health):\n",
        "        self.name = name\n",
        "        self.armor = armor\n",
        "        self.weapon = weapon\n",
        "        self.damage = damage\n",
        "        self.health = health\n",
        "\n",
        "    def attack(self, target):\n",
        "        damage_dealt = random.randint(0, self.damage)\n",
        "        target.take_damage(damage_dealt)\n",
        "        print(f\"{self.name} атакует {target.name} и наносит {damage_dealt} урона!\")\n",
        "\n",
        "    def take_damage(self, damage):\n",
        "        damage_taken = max(0, damage - self.armor)\n",
        "        self.health -= damage_taken\n",
        "        print(f\"{self.name} получает {damage_taken} урона! Осталось здоровья: {self.health}\")\n",
        "\n",
        "    def is_alive(self):\n",
        "        return self.health > 0\n",
        "\n",
        "def create_knight():\n",
        "    name = input(\"Введите имя рыцаря: \")\n",
        "    armor = int(input(\"Введите уровень доспехов: \"))\n",
        "    weapon = input(\"Введите название оружия: \")\n",
        "    damage = int(input(\"Введите максимальный урон: \"))\n",
        "    health = int(input(\"Введите здоровье: \"))\n",
        "    return Character(name, armor, weapon, damage, health)\n",
        "\n",
        "def create_dragon():\n",
        "    name = \"Дракон\"\n",
        "    armor = random.randint(1, 5)\n",
        "    damage = random.randint(10, 20)\n",
        "    health = random.randint(50, 100)\n",
        "    return Character(name, armor, weapon=\"Огненное дыхание\", damage=damage, health=health)\n",
        "\n",
        "def battle(knight, dragon):\n",
        "    print(\"\\nНачинается бой!\")\n",
        "    while knight.is_alive() and dragon.is_alive():\n",
        "        knight.attack(dragon)\n",
        "        if dragon.is_alive():\n",
        "            dragon.attack(knight)\n",
        "    if knight.is_alive():\n",
        "        print(f\"{knight.name} победил дракона!\")\n",
        "    else:\n",
        "        print(f\"{dragon.name} победил {knight.name}!\")\n",
        "\n",
        "def main():\n",
        "    knight = create_knight()\n",
        "    dragon = create_dragon()\n",
        "    battle(knight, dragon)\n",
        "\n",
        "if __name__ == \"__main__\":\n",
        "    main()\n"
      ],
      "metadata": {
        "id": "LCcxp5Q0srjY"
      },
      "execution_count": null,
      "outputs": []
    },
    {
      "cell_type": "markdown",
      "source": [
        "# Задание 3\n"
      ],
      "metadata": {
        "id": "N8oFiEXol3e2"
      }
    },
    {
      "cell_type": "markdown",
      "source": [
        "Цель - создать менеджера команды Pokémon, который позволит пользователям:\n",
        "\n",
        "- Добавлять покемонов в свою команду. (если такого покемона еще нет в команде)\n",
        "- Удалять покемонов из их команды.\n",
        "- Просматривать подробную информацию обо всех покемонах в команде.\n",
        "- Находить покемона по имени.\n",
        "- Устраивать тренировочный бой между двумя покемонами\n",
        "\n",
        "Для данной задачи используйте: https://pokeapi.co/\n"
      ],
      "metadata": {
        "id": "9p4WQG_Vl7wB"
      }
    },
    {
      "cell_type": "code",
      "source": [],
      "metadata": {
        "id": "NnGYp1MTqi5k",
        "colab": {
          "base_uri": "https://localhost:8080/"
        },
        "outputId": "d91c0497-2169-4a48-b29d-cb47b8b28e76"
      },
      "execution_count": null,
      "outputs": [
        {
          "output_type": "stream",
          "name": "stdout",
          "text": [
            "привет\n"
          ]
        }
      ]
    }
  ]
}
