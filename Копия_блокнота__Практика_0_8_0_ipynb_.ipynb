{
  "nbformat": 4,
  "nbformat_minor": 0,
  "metadata": {
    "colab": {
      "provenance": [],
      "collapsed_sections": [
        "ra45s33wUt-C",
        "ia9UtA0cU1Iy",
        "eecUb-akU1ji",
        "QGrsZrv5U1s8"
      ]
    },
    "kernelspec": {
      "name": "python3",
      "display_name": "Python 3"
    },
    "language_info": {
      "name": "python"
    }
  },
  "cells": [
    {
      "cell_type": "markdown",
      "source": [
        "предподаватель сказал доделать прошлую практику"
      ],
      "metadata": {
        "id": "YCAQ2uoAeS8K"
      }
    },
    {
      "cell_type": "code",
      "source": [
     
      ],
      "metadata": {
        "id": "oK5LpqnpXSpD"
      },
      "execution_count": null,
      "outputs": []
    },
    {
      "cell_type": "markdown",
      "source": [
        "# Задание 1"
      ],
      "metadata": {
        "id": "ra45s33wUt-C"
      }
    },
    {
      "cell_type": "markdown",
      "source": [
        "Задача: Создать чат бота для получения информации об исследованиях космоса\n",
        "\n",
        "Описание: Создайте комплексное приложение командной строки, которое будет использоваться в качестве панели управления исследованиями космоса. Данное приложение будет обращаться к https://api.nasa.gov/ для предоставления пользователям набора информации о космосе, включая:\n",
        "\n",
        "- Астрономическая картинка дня (APOD): Отображение APOD с пояснениями к нему.\n",
        "- Фотографии с марсохода: позволяет пользователям выбирать и фильтровать фотографии с марсохода по дате и типу камеры.\n",
        "- Объекты, сближающиеся с Землей (ОСЗ): Поиск и отображение информации об объекте, сближающихся с Землей, на определенную дату, включая их размеры и потенциальную опасность.\n",
        "- Данные о космической погоде: Отображают последние данные о космической погоде, включая солнечные вспышки и геомагнитные бури.\n",
        "Приложение должно позволять пользователям ориентироваться в этих функциях, корректно обрабатывать ошибки и обеспечивать удобство работы.\n",
        "\n",
        "Требования:\n",
        "- Пользовательский ввод: Приложение должно предложить пользователю ввести данные, чтобы выбрать, какую функцию он хочет изучить.\n",
        "- Проверка данных: Убедитесь, что пользовательские данные (например, даты) проверены.\n",
        "- Обработка ошибок: Корректно обрабатывайте ошибки API и неверные ответы.\n",
        "- Представление данных: Представляйте данные в четкой и организованной форме.\n",
        "- Опция выхода: позволяет пользователям выходить из приложения в любое время."
      ],
      "metadata": {
        "id": "G56D5mNCUwp5"
      }
    },
    {
      "cell_type": "markdown",
      "source": [],
      "metadata": {
        "id": "6tA6dyYceRWS"
      }
    },
    {
      "cell_type": "code",
      "execution_count": null,
      "metadata": {
        "id": "wGeJM9n4UqUD",
        "colab": {
          "base_uri": "https://localhost:8080/"
        },
        "outputId": "8aab85ca-e470-49ee-9938-3ed4e485621d"
      },
      "outputs": [
        {
          "output_type": "stream",
          "name": "stdout",
          "text": [
            "Requirement already satisfied: requests in /usr/local/lib/python3.10/dist-packages (2.32.3)\n",
            "Requirement already satisfied: charset-normalizer<4,>=2 in /usr/local/lib/python3.10/dist-packages (from requests) (3.4.0)\n",
            "Requirement already satisfied: idna<4,>=2.5 in /usr/local/lib/python3.10/dist-packages (from requests) (3.10)\n",
            "Requirement already satisfied: urllib3<3,>=1.21.1 in /usr/local/lib/python3.10/dist-packages (from requests) (2.2.3)\n",
            "Requirement already satisfied: certifi>=2017.4.17 in /usr/local/lib/python3.10/dist-packages (from requests) (2024.8.30)\n"
          ]
        }
      ],
      "source": [
        "pip install requests"
      ]
    },
    {
      "cell_type": "code",
      "source": [
        "import requests\n",
        "\n",
        "API_KEY = 'hyUJBLvgUgLMg9Z9hztMiAR3vIEwQBghDOrPJABa'\n",
        "\n",
        "def get_apod():\n",
        "    response = requests.get(f'https://api.nasa.gov/planetary/apod?api_key={API_KEY}')\n",
        "    if response.ok:\n",
        "        data = response.json()\n",
        "        print(\"Астрономическая картинка дня:\")\n",
        "        print(f\"Название: {data['title']}\\nОписание: {data['explanation']}\\nURL: {data['url']}\")\n",
        "    else:\n",
        "        print(\"Ошибка при получении APOD.\")\n",
        "\n",
        "def get_mars_photos():\n",
        "    sol = input(\"Введите сол (день на Марсе): \")\n",
        "    camera = input(\"Введите тип камеры: \")\n",
        "    response = requests.get(f'https://api.nasa.gov/mars-photos/api/v1/rovers/curiosity/photos?sol={sol}&camera={camera}&api_key={API_KEY}')\n",
        "    if response.ok:\n",
        "        photos = response.json().get('photos', [])\n",
        "        if photos:\n",
        "            print(f\"Фотографии с марсохода для сол {sol}:\")\n",
        "            for photo in photos:\n",
        "                print(f\"URL: {photo['img_src']}\")\n",
        "        else:\n",
        "            print(\"Нет фотографий для указанных параметров.\")\n",
        "    else:\n",
        "        print(\"Ошибка при получении фотографий.\")\n",
        "\n",
        "def get_near_earth_objects():\n",
        "    date = input(\"Введите дату (YYYY-MM-DD): \")\n",
        "    response = requests.get(f'https://api.nasa.gov/neo/rest/v1/feed?start_date={date}&end_date={date}&api_key={API_KEY}')\n",
        "    if response.ok:\n",
        "        objects = response.json().get('near_earth_objects', {}).get(date, [])\n",
        "        print(f\"Объекты, сближающиеся с Землей на {date}:\")\n",
        "        for obj in objects:\n",
        "            print(f\"Название: {obj['name']}, Размер: {obj['estimated_diameter']['meters']['estimated_diameter_max']} м, Потенциальная опасность: {obj['is_potentially_hazardous_asteroid']}\")\n",
        "    else:\n",
        "        print(\"Ошибка при получении объектов.\")\n",
        "\n",
        "def get_space_weather():\n",
        "    response = requests.get(f'https://api.nasa.gov/DONKI/GST?api_key={API_KEY}')\n",
        "    if response.ok:\n",
        "        events = response.json()\n",
        "        print(\"Данные о космической погоде:\")\n",
        "        for event in events:\n",
        "            print(f\"Дата: {event['startTime']}, Тип: {event['messageType']}, Уровень: {event['severity']}\")\n",
        "    else:\n",
        "        print(\"Ошибка при получении данных о космической погоде.\")\n",
        "\n",
        "def main():\n",
        "    while True:\n",
        "        print(\"\\n1. Астрономическая картинка дня\\n2. Фотографии с марсохода\\n3. Объекты, сближающиеся с Землей\\n4. Данные о космической погоде\\n5. Выход\")\n",
        "        choice = input(\"Введите номер опции: \")\n",
        "\n",
        "        if choice == '1':\n",
        "            get_apod()\n",
        "        elif choice == '2':\n",
        "            get_mars_photos()\n",
        "        elif choice == '3':\n",
        "            get_near_earth_objects()\n",
        "        elif choice == '4':\n",
        "            get_space_weather()\n",
        "        elif choice == '5':\n",
        "            print(\"Выход из приложения.\")\n",
        "            break\n",
        "        else:\n",
        "            print(\"Неверный ввод. Попробуйте снова.\")\n",
        "\n",
        "if __name__ == \"__main__\":\n",
        "    main()\n"
      ],
      "metadata": {
        "id": "pk1vcueXZfe2",
        "colab": {
          "base_uri": "https://localhost:8080/",
          "height": 426
        },
        "outputId": "63b723c4-e22c-4ebe-b39f-3888b565676d"
      },
      "execution_count": null,
      "outputs": [
        {
          "output_type": "stream",
          "name": "stdout",
          "text": [
            "\n",
            "1. Астрономическая картинка дня\n",
            "2. Фотографии с марсохода\n",
            "3. Объекты, сближающиеся с Землей\n",
            "4. Данные о космической погоде\n",
            "5. Выход\n"
          ]
        },
        {
          "output_type": "error",
          "ename": "KeyboardInterrupt",
          "evalue": "Interrupted by user",
          "traceback": [
            "\u001b[0;31m---------------------------------------------------------------------------\u001b[0m",
            "\u001b[0;31mKeyboardInterrupt\u001b[0m                         Traceback (most recent call last)",
            "\u001b[0;32m<ipython-input-6-862f56a0cf20>\u001b[0m in \u001b[0;36m<cell line: 69>\u001b[0;34m()\u001b[0m\n\u001b[1;32m     68\u001b[0m \u001b[0;34m\u001b[0m\u001b[0m\n\u001b[1;32m     69\u001b[0m \u001b[0;32mif\u001b[0m \u001b[0m__name__\u001b[0m \u001b[0;34m==\u001b[0m \u001b[0;34m\"__main__\"\u001b[0m\u001b[0;34m:\u001b[0m\u001b[0;34m\u001b[0m\u001b[0;34m\u001b[0m\u001b[0m\n\u001b[0;32m---> 70\u001b[0;31m     \u001b[0mmain\u001b[0m\u001b[0;34m(\u001b[0m\u001b[0;34m)\u001b[0m\u001b[0;34m\u001b[0m\u001b[0;34m\u001b[0m\u001b[0m\n\u001b[0m",
            "\u001b[0;32m<ipython-input-6-862f56a0cf20>\u001b[0m in \u001b[0;36mmain\u001b[0;34m()\u001b[0m\n\u001b[1;32m     51\u001b[0m     \u001b[0;32mwhile\u001b[0m \u001b[0;32mTrue\u001b[0m\u001b[0;34m:\u001b[0m\u001b[0;34m\u001b[0m\u001b[0;34m\u001b[0m\u001b[0m\n\u001b[1;32m     52\u001b[0m         \u001b[0mprint\u001b[0m\u001b[0;34m(\u001b[0m\u001b[0;34m\"\\n1. Астрономическая картинка дня\\n2. Фотографии с марсохода\\n3. Объекты, сближающиеся с Землей\\n4. Данные о космической погоде\\n5. Выход\"\u001b[0m\u001b[0;34m)\u001b[0m\u001b[0;34m\u001b[0m\u001b[0;34m\u001b[0m\u001b[0m\n\u001b[0;32m---> 53\u001b[0;31m         \u001b[0mchoice\u001b[0m \u001b[0;34m=\u001b[0m \u001b[0minput\u001b[0m\u001b[0;34m(\u001b[0m\u001b[0;34m\"Введите номер опции: \"\u001b[0m\u001b[0;34m)\u001b[0m\u001b[0;34m\u001b[0m\u001b[0;34m\u001b[0m\u001b[0m\n\u001b[0m\u001b[1;32m     54\u001b[0m \u001b[0;34m\u001b[0m\u001b[0m\n\u001b[1;32m     55\u001b[0m         \u001b[0;32mif\u001b[0m \u001b[0mchoice\u001b[0m \u001b[0;34m==\u001b[0m \u001b[0;34m'1'\u001b[0m\u001b[0;34m:\u001b[0m\u001b[0;34m\u001b[0m\u001b[0;34m\u001b[0m\u001b[0m\n",
            "\u001b[0;32m/usr/local/lib/python3.10/dist-packages/ipykernel/kernelbase.py\u001b[0m in \u001b[0;36mraw_input\u001b[0;34m(self, prompt)\u001b[0m\n\u001b[1;32m    849\u001b[0m                 \u001b[0;34m\"raw_input was called, but this frontend does not support input requests.\"\u001b[0m\u001b[0;34m\u001b[0m\u001b[0;34m\u001b[0m\u001b[0m\n\u001b[1;32m    850\u001b[0m             )\n\u001b[0;32m--> 851\u001b[0;31m         return self._input_request(str(prompt),\n\u001b[0m\u001b[1;32m    852\u001b[0m             \u001b[0mself\u001b[0m\u001b[0;34m.\u001b[0m\u001b[0m_parent_ident\u001b[0m\u001b[0;34m,\u001b[0m\u001b[0;34m\u001b[0m\u001b[0;34m\u001b[0m\u001b[0m\n\u001b[1;32m    853\u001b[0m             \u001b[0mself\u001b[0m\u001b[0;34m.\u001b[0m\u001b[0m_parent_header\u001b[0m\u001b[0;34m,\u001b[0m\u001b[0;34m\u001b[0m\u001b[0;34m\u001b[0m\u001b[0m\n",
            "\u001b[0;32m/usr/local/lib/python3.10/dist-packages/ipykernel/kernelbase.py\u001b[0m in \u001b[0;36m_input_request\u001b[0;34m(self, prompt, ident, parent, password)\u001b[0m\n\u001b[1;32m    893\u001b[0m             \u001b[0;32mexcept\u001b[0m \u001b[0mKeyboardInterrupt\u001b[0m\u001b[0;34m:\u001b[0m\u001b[0;34m\u001b[0m\u001b[0;34m\u001b[0m\u001b[0m\n\u001b[1;32m    894\u001b[0m                 \u001b[0;31m# re-raise KeyboardInterrupt, to truncate traceback\u001b[0m\u001b[0;34m\u001b[0m\u001b[0;34m\u001b[0m\u001b[0m\n\u001b[0;32m--> 895\u001b[0;31m                 \u001b[0;32mraise\u001b[0m \u001b[0mKeyboardInterrupt\u001b[0m\u001b[0;34m(\u001b[0m\u001b[0;34m\"Interrupted by user\"\u001b[0m\u001b[0;34m)\u001b[0m \u001b[0;32mfrom\u001b[0m \u001b[0;32mNone\u001b[0m\u001b[0;34m\u001b[0m\u001b[0;34m\u001b[0m\u001b[0m\n\u001b[0m\u001b[1;32m    896\u001b[0m             \u001b[0;32mexcept\u001b[0m \u001b[0mException\u001b[0m \u001b[0;32mas\u001b[0m \u001b[0me\u001b[0m\u001b[0;34m:\u001b[0m\u001b[0;34m\u001b[0m\u001b[0;34m\u001b[0m\u001b[0m\n\u001b[1;32m    897\u001b[0m                 \u001b[0mself\u001b[0m\u001b[0;34m.\u001b[0m\u001b[0mlog\u001b[0m\u001b[0;34m.\u001b[0m\u001b[0mwarning\u001b[0m\u001b[0;34m(\u001b[0m\u001b[0;34m\"Invalid Message:\"\u001b[0m\u001b[0;34m,\u001b[0m \u001b[0mexc_info\u001b[0m\u001b[0;34m=\u001b[0m\u001b[0;32mTrue\u001b[0m\u001b[0;34m)\u001b[0m\u001b[0;34m\u001b[0m\u001b[0;34m\u001b[0m\u001b[0m\n",
            "\u001b[0;31mKeyboardInterrupt\u001b[0m: Interrupted by user"
          ]
        }
      ]
    },
    {
      "cell_type": "markdown",
      "source": [
        "# Задание 2"
      ],
      "metadata": {
        "id": "ia9UtA0cU1Iy"
      }
    },
    {
      "cell_type": "markdown",
      "source": [
        "Описание задачи\n",
        "\n",
        "Цель этой задачи - создать скрипт на Python, который взаимодействует с API Чикагского института искусств (https://api.artic.edu/docs/) для извлечения и отображения произведений искусства. Скрипт должен позволять пользователям просматривать работы по страницам, фильтровать их по имени художника и просматривать подробную информацию о выбранных произведениях искусства. Ниже приведены требования и функциональные возможности, которые необходимо реализовать:\n",
        "\n",
        "Требования:\n",
        "Извлекать произведения искусства:\n",
        "\n",
        "- Создайте функцию, которая извлекает список произведений искусства из API Чикагского института искусств.\n",
        "Функция должна принимать параметр page для разбивки на страницы и возвращать список произведений искусства вместе с информацией о разбивке на страницы.\n",
        "Фильтровать произведения искусства:\n",
        "\n",
        "- Реализуйте функцию, которая фильтрует список произведений искусства на основе имени указанного художника. Функция должна возвращать список работ, которые соответствуют имени художника (без учета регистра).\n",
        "Отображать подробную информацию об оформлении:\n",
        "\n",
        "- Напишите функцию, которая отображает названия работ для пользователя и позволяет ему выбрать одну из них, введя соответствующий номер.\n",
        "После выбора функция должна отображать подробную информацию о выбранном произведении, включая название, исполнителя, дату и носитель.\n",
        "Разбивка на страницы и взаимодействие с пользователем:\n",
        "\n",
        "- Создайте основную функцию, которая управляет выборкой произведений и взаимодействием с пользователем.\n",
        "\n",
        "Разрешите пользователям перемещаться по страницам с произведениями искусства, выполнять фильтрацию по исполнителю или выходить из программы.\n",
        "\n",
        "Если страниц с произведениями искусства несколько, укажите варианты перехода к следующей странице, предыдущей странице, фильтрации по исполнителю или выхода из программы."
      ],
      "metadata": {
        "id": "Ofu_GmqrU1Iy"
      }
    },
    {
      "cell_type": "code",
      "execution_count": null,
      "metadata": {
        "id": "jjUH1GznU1Iy"
      },
      "outputs": [],
      "source": [
        "import requests\n",
        "\n",
        "API_URL = 'https://api.artic.edu/api/v1/artworks'\n",
        "\n",
        "def fetch_artworks(page=1):\n",
        "    response = requests.get(f'{API_URL}?page={page}&limit=10')\n",
        "    return response.json() if response.ok else None\n",
        "\n",
        "def filter_artworks(artworks, artist_name):\n",
        "    return [art for art in artworks if artist_name.lower() in art['artist_title'].lower()]\n",
        "\n",
        "def display_artwork_details(artwork):\n",
        "    print(f\"\\nНазвание: {artwork['title']}\\nИсполнитель: {artwork['artist_title']}\\nДата: {artwork['date_display']}\\nНоситель: {artwork['medium_display']}\")\n",
        "\n",
        "def main():\n",
        "    page = 1\n",
        "    while True:\n",
        "        data = fetch_artworks(page)\n",
        "        if not data:\n",
        "            print(\"Ошибка при получении произведений искусства.\")\n",
        "            break\n",
        "\n",
        "        artworks = data['data']\n",
        "        print(f\"\\nСтраница {page}/{data['pagination']['total_pages']}\")\n",
        "        for idx, art in enumerate(artworks):\n",
        "            print(f\"{idx + 1}. {art['title']} ({art['artist_title']})\")\n",
        "\n",
        "        choice = input(\"\\nВведите номер работы для подробной информации, 'n' для следующей страницы, 'p' для предыдущей, 'f' для фильтрации по художнику или 'q' для выхода: \")\n",
        "\n",
        "        if choice.isdigit() and 1 <= int(choice) <= len(artworks):\n",
        "            display_artwork_details(artworks[int(choice) - 1])\n",
        "        elif choice.lower() == 'n' and page < data['pagination']['total_pages']:\n",
        "            page += 1\n",
        "        elif choice.lower() == 'p' and page > 1:\n",
        "            page -= 1\n",
        "        elif choice.lower() == 'f':\n",
        "            artist_name = input(\"Введите имя художника для фильтрации: \")\n",
        "            filtered_artworks = filter_artworks(artworks, artist_name)\n",
        "            if filtered_artworks:\n",
        "                for idx, art in enumerate(filtered_artworks):\n",
        "                    print(f\"{idx + 1}. {art['title']} ({art['artist_title']})\")\n",
        "            else:\n",
        "                print(\"Нет произведений искусства для указанного художника.\")\n",
        "        elif choice.lower() == 'q':\n",
        "            print(\"Выход из программы.\")\n",
        "            break\n",
        "        else:\n",
        "            print(\"Неверный ввод. Попробуйте снова.\")\n",
        "\n",
        "if __name__ == \"__main__\":\n",
        "    main()\n"
      ]
    },
    {
      "cell_type": "markdown",
      "source": [
        "# Задание 3"
      ],
      "metadata": {
        "id": "eecUb-akU1ji"
      }
    },
    {
      "cell_type": "markdown",
      "source": [
        "Задача: Создать программу по управлению портфелем криптовалют\n",
        "\n",
        "Цель: Создать скрипт на Python, который извлекает цены на криптовалюты в режиме реального времени, позволяет пользователям управлять портфелем криптовалют, вычисляет общую стоимость портфеля, отслеживает изменения цен и предоставляет исторические данные о ценах для анализа.\n",
        "\n",
        "Требования:\n",
        "Получение текущих цен на криптовалюты:\n",
        "\n",
        "Используйте https://docs.coingecko.com/ для получения актуальных цен на список криптовалют.\n",
        "\n",
        "Управление портфелем:\n",
        "\n",
        "- Позволяет пользователю создавать портфель криптовалют и управлять им, указывая количество каждой криптовалюты, которой он владеет.\n",
        "- Расчитывает общую стоимость портфеля в указанной фиатной валюте (например, долларах США).\n",
        "\n",
        "Отслеживание изменения цен:\n",
        "\n",
        "- Отображение процентного изменения цены для каждой криптовалюты в портфеле за последние 24 часа.\n",
        "- Выделите все криптовалюты, стоимость которых значительно увеличилась или снизилась.\n",
        "\n",
        "Поиск исторических данных о ценах:\n",
        "\n",
        "- Получение исторических данных о ценах на указанную криптовалюту за последнюю неделю.\n",
        "- Предоставьте пользователю возможность визуализировать эти данные в простом текстовом формате (например, цены за день).\n",
        "\n",
        "Взаимодействие с пользователем:\n",
        "\n",
        "- Реализуйте интерфейс командной строки для ввода данных пользователем.\n",
        "- Предоставьте опции для получения текущих цен, управления портфелем, просмотра изменений цен или анализа исторических данных.\n"
      ],
      "metadata": {
        "id": "jsK7IKptU1ji"
      }
    },
    {
      "cell_type": "code",
      "source": [
        "import requests\n",
        "\n",
        "API_URL = 'https://api.coingecko.com/api/v3'\n",
        "\n",
        "def get_current_prices(crypto_ids):\n",
        "    response = requests.get(f'{API_URL}/simple/price?ids={\",\".join(crypto_ids)}&vs_currencies=usd&include_24hr_change=true')\n",
        "    return response.json() if response.ok else None\n",
        "\n",
        "def get_historical_data(crypto_id):\n",
        "    response = requests.get(f'{API_URL}/coins/{crypto_id}/market_chart?vs_currency=usd&days=7')\n",
        "    return response.json() if response.ok else None\n",
        "\n",
        "def display_portfolio(portfolio):\n",
        "    total_value = 0\n",
        "    print(\"\\nПортфель:\")\n",
        "    for crypto, amount in portfolio.items():\n",
        "        price_info = get_current_prices([crypto])\n",
        "        if price_info:\n",
        "            price = price_info[crypto]['usd']\n",
        "            change = price_info[crypto]['usd_24h_change']\n",
        "            value = price * amount\n",
        "            total_value += value\n",
        "            print(f\"{crypto.capitalize()}: {amount} | Цена: ${price:.2f} | Изм. 24ч: {change:.2f}% | Стоимость: ${value:.2f}\")\n",
        "    print(f\"\\nОбщая стоимость: ${total_value:.2f}\")\n",
        "\n",
        "def main():\n",
        "    portfolio = {}\n",
        "    while True:\n",
        "        action = input(\"\\nВведите 'add' для добавления, 'view' для просмотра, 'historical' для истории, или 'exit' для выхода: \")\n",
        "\n",
        "        if action.lower() == 'add':\n",
        "            crypto = input(\"Введите ID криптовалюты (например, bitcoin): \")\n",
        "            amount = float(input(\"Введите количество: \"))\n",
        "            portfolio[crypto] = portfolio.get(crypto, 0) + amount\n",
        "\n",
        "        elif action.lower() == 'view':\n",
        "            display_portfolio(portfolio)\n",
        "\n",
        "        elif action.lower() == 'historical':\n",
        "            crypto = input(\"Введите ID криптовалюты для истории: \")\n",
        "            data = get_historical_data(crypto)\n",
        "            if data:\n",
        "                print(\"\\nИсторические данные за неделю:\")\n",
        "                for price in data['prices']:\n",
        "                    print(f\"Дата: {price[0]} | Цена: ${price[1]:.2f}\")\n",
        "            else:\n",
        "                print(\"Ошибка при получении данных.\")\n",
        "\n",
        "        elif action.lower() == 'exit':\n",
        "            print(\"Выход.\")\n",
        "            break\n",
        "\n",
        "        else:\n",
        "            print(\"Неверная команда. Попробуйте снова.\")\n",
        "\n",
        "if __name__ == \"__main__\":\n",
        "    main()\n"
      ],
      "metadata": {
        "id": "_0DToTqlvywa",
        "colab": {
          "base_uri": "https://localhost:8080/",
          "height": 321
        },
        "outputId": "2bd58663-f7ca-4b66-8a8c-ff373d2afea3"
      },
      "execution_count": null,
      "outputs": [
        {
          "output_type": "error",
          "ename": "KeyboardInterrupt",
          "evalue": "Interrupted by user",
          "traceback": [
            "\u001b[0;31m---------------------------------------------------------------------------\u001b[0m",
            "\u001b[0;31mKeyboardInterrupt\u001b[0m                         Traceback (most recent call last)",
            "\u001b[0;32m<ipython-input-7-aaa9339f6d46>\u001b[0m in \u001b[0;36m<cell line: 56>\u001b[0;34m()\u001b[0m\n\u001b[1;32m     55\u001b[0m \u001b[0;34m\u001b[0m\u001b[0m\n\u001b[1;32m     56\u001b[0m \u001b[0;32mif\u001b[0m \u001b[0m__name__\u001b[0m \u001b[0;34m==\u001b[0m \u001b[0;34m\"__main__\"\u001b[0m\u001b[0;34m:\u001b[0m\u001b[0;34m\u001b[0m\u001b[0;34m\u001b[0m\u001b[0m\n\u001b[0;32m---> 57\u001b[0;31m     \u001b[0mmain\u001b[0m\u001b[0;34m(\u001b[0m\u001b[0;34m)\u001b[0m\u001b[0;34m\u001b[0m\u001b[0;34m\u001b[0m\u001b[0m\n\u001b[0m",
            "\u001b[0;32m<ipython-input-7-aaa9339f6d46>\u001b[0m in \u001b[0;36mmain\u001b[0;34m()\u001b[0m\n\u001b[1;32m     27\u001b[0m     \u001b[0mportfolio\u001b[0m \u001b[0;34m=\u001b[0m \u001b[0;34m{\u001b[0m\u001b[0;34m}\u001b[0m\u001b[0;34m\u001b[0m\u001b[0;34m\u001b[0m\u001b[0m\n\u001b[1;32m     28\u001b[0m     \u001b[0;32mwhile\u001b[0m \u001b[0;32mTrue\u001b[0m\u001b[0;34m:\u001b[0m\u001b[0;34m\u001b[0m\u001b[0;34m\u001b[0m\u001b[0m\n\u001b[0;32m---> 29\u001b[0;31m         \u001b[0maction\u001b[0m \u001b[0;34m=\u001b[0m \u001b[0minput\u001b[0m\u001b[0;34m(\u001b[0m\u001b[0;34m\"\\nВведите 'add' для добавления, 'view' для просмотра, 'historical' для истории, или 'exit' для выхода: \"\u001b[0m\u001b[0;34m)\u001b[0m\u001b[0;34m\u001b[0m\u001b[0;34m\u001b[0m\u001b[0m\n\u001b[0m\u001b[1;32m     30\u001b[0m \u001b[0;34m\u001b[0m\u001b[0m\n\u001b[1;32m     31\u001b[0m         \u001b[0;32mif\u001b[0m \u001b[0maction\u001b[0m\u001b[0;34m.\u001b[0m\u001b[0mlower\u001b[0m\u001b[0;34m(\u001b[0m\u001b[0;34m)\u001b[0m \u001b[0;34m==\u001b[0m \u001b[0;34m'add'\u001b[0m\u001b[0;34m:\u001b[0m\u001b[0;34m\u001b[0m\u001b[0;34m\u001b[0m\u001b[0m\n",
            "\u001b[0;32m/usr/local/lib/python3.10/dist-packages/ipykernel/kernelbase.py\u001b[0m in \u001b[0;36mraw_input\u001b[0;34m(self, prompt)\u001b[0m\n\u001b[1;32m    849\u001b[0m                 \u001b[0;34m\"raw_input was called, but this frontend does not support input requests.\"\u001b[0m\u001b[0;34m\u001b[0m\u001b[0;34m\u001b[0m\u001b[0m\n\u001b[1;32m    850\u001b[0m             )\n\u001b[0;32m--> 851\u001b[0;31m         return self._input_request(str(prompt),\n\u001b[0m\u001b[1;32m    852\u001b[0m             \u001b[0mself\u001b[0m\u001b[0;34m.\u001b[0m\u001b[0m_parent_ident\u001b[0m\u001b[0;34m,\u001b[0m\u001b[0;34m\u001b[0m\u001b[0;34m\u001b[0m\u001b[0m\n\u001b[1;32m    853\u001b[0m             \u001b[0mself\u001b[0m\u001b[0;34m.\u001b[0m\u001b[0m_parent_header\u001b[0m\u001b[0;34m,\u001b[0m\u001b[0;34m\u001b[0m\u001b[0;34m\u001b[0m\u001b[0m\n",
            "\u001b[0;32m/usr/local/lib/python3.10/dist-packages/ipykernel/kernelbase.py\u001b[0m in \u001b[0;36m_input_request\u001b[0;34m(self, prompt, ident, parent, password)\u001b[0m\n\u001b[1;32m    893\u001b[0m             \u001b[0;32mexcept\u001b[0m \u001b[0mKeyboardInterrupt\u001b[0m\u001b[0;34m:\u001b[0m\u001b[0;34m\u001b[0m\u001b[0;34m\u001b[0m\u001b[0m\n\u001b[1;32m    894\u001b[0m                 \u001b[0;31m# re-raise KeyboardInterrupt, to truncate traceback\u001b[0m\u001b[0;34m\u001b[0m\u001b[0;34m\u001b[0m\u001b[0m\n\u001b[0;32m--> 895\u001b[0;31m                 \u001b[0;32mraise\u001b[0m \u001b[0mKeyboardInterrupt\u001b[0m\u001b[0;34m(\u001b[0m\u001b[0;34m\"Interrupted by user\"\u001b[0m\u001b[0;34m)\u001b[0m \u001b[0;32mfrom\u001b[0m \u001b[0;32mNone\u001b[0m\u001b[0;34m\u001b[0m\u001b[0;34m\u001b[0m\u001b[0m\n\u001b[0m\u001b[1;32m    896\u001b[0m             \u001b[0;32mexcept\u001b[0m \u001b[0mException\u001b[0m \u001b[0;32mas\u001b[0m \u001b[0me\u001b[0m\u001b[0;34m:\u001b[0m\u001b[0;34m\u001b[0m\u001b[0;34m\u001b[0m\u001b[0m\n\u001b[1;32m    897\u001b[0m                 \u001b[0mself\u001b[0m\u001b[0;34m.\u001b[0m\u001b[0mlog\u001b[0m\u001b[0;34m.\u001b[0m\u001b[0mwarning\u001b[0m\u001b[0;34m(\u001b[0m\u001b[0;34m\"Invalid Message:\"\u001b[0m\u001b[0;34m,\u001b[0m \u001b[0mexc_info\u001b[0m\u001b[0;34m=\u001b[0m\u001b[0;32mTrue\u001b[0m\u001b[0;34m)\u001b[0m\u001b[0;34m\u001b[0m\u001b[0;34m\u001b[0m\u001b[0m\n",
            "\u001b[0;31mKeyboardInterrupt\u001b[0m: Interrupted by user"
          ]
        }
      ]
    },
    {
      "cell_type": "markdown",
      "source": [
        "# Дополнительно: Задание 4"
      ],
      "metadata": {
        "id": "QGrsZrv5U1s8"
      }
    },
    {
      "cell_type": "markdown",
      "source": [
        "Задание 4: Проектное\n",
        "\n",
        "Вам необходимо самостоятельно найти откртое API предоставляющее информацию в открытом доступе и реализовать собственный проект!\n",
        "\n",
        "\n",
        "Критерии приемки результата:\n",
        "\n",
        "- Проект включает в себя не менее 5 возможостей для пользователя\n",
        "- Проект позволяет использовать все возможности проекта пользователю при помощи взаимодействия через коммандную строку\n",
        "- Проект работает с открытым API (это значит что при проверке вашей работы преподавателем, преподавателю необходимо просто запустить ячейку с кодом вашего проекта и она будет работать без дополнительных манипуляции)\n",
        "- Проект должен обязательно включать в себя ряд используемых конструкции:\n",
        "    - Функции\n",
        "    - Условные конструкции\n",
        "    - Ввод/вывод\n",
        "    - Словари/Списки\n",
        "- Допускается использование библиотек:\n",
        "    - requests\n",
        "    - datetime\n",
        "    - random"
      ],
      "metadata": {
        "id": "qs_XITmYU1s8"
      }
    },
    {
      "cell_type": "markdown",
      "source": [
        "**Здесь добавьте описание вашего проекта**"
      ],
      "metadata": {
        "id": "VKXhaJi4FL0B"
      }
    },
    {
      "cell_type": "code",
      "execution_count": null,
      "metadata": {
        "id": "wiA55k1KU1s8"
      },
      "outputs": [],
      "source": [
        "#  А здесь код"
      ]
    }
  ]
}
