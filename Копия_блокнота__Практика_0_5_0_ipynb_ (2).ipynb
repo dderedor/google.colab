{
  "nbformat": 4,
  "nbformat_minor": 0,
  "metadata": {
    "colab": {
      "provenance": []
    },
    "kernelspec": {
      "name": "python3",
      "display_name": "Python 3"
    },
    "language_info": {
      "name": "python"
    }
  },
  "cells": [
    {
      "cell_type": "markdown",
      "source": [
        "ФИО:"
      ],
      "metadata": {
        "id": "Bu5gIJfHNPHw"
      }
    },
    {
      "cell_type": "code",
      "execution_count": null,
      "metadata": {
        "id": "CbHI8c7cM9Eg"
      },
      "outputs": [],
      "source": []
    },
    {
      "cell_type": "markdown",
      "source": [
        "# **Задание 1**"
      ],
      "metadata": {
        "id": "VrNrBpmocGRd"
      }
    },
    {
      "cell_type": "markdown",
      "source": [
        "\n",
        "\n",
        "Дан словарь, содержащий имена и возраст людей, напишите программу выводящую возраст человека по имени\n",
        "\n",
        "Дано:\n",
        "\n",
        "```\n",
        "{\"Alice\": 25, \"Bob\": 30, \"Charlie\": 35}\n",
        "```\n",
        "\n",
        "Вввод:\n",
        "\n",
        "\n",
        "```\n",
        "Alice\n",
        "```\n",
        "\n",
        "Вывод:\n",
        "\n",
        "\n",
        "```\n",
        "Alice 25\n",
        "```\n"
      ],
      "metadata": {
        "id": "XhV1bnm1bR2h"
      }
    },
    {
      "cell_type": "code",
      "source": [
        "slovar = {\"Alice\": 25, \"Bob\": 30, \"Charlie\": 35}\n",
        "vvod = input(\"Введите имя: \")\n",
        "\n",
        "if vvod in slovar:\n",
        "    print(slovar[vvod])\n",
        "else:\n",
        "    print(\"Имя не найдено в словаре.\")\n",
        "\n"
      ],
      "metadata": {
        "id": "9T0nNFCEbpaF",
        "colab": {
          "base_uri": "https://localhost:8080/",
          "height": 211
        },
        "outputId": "fe4b5d28-2cfb-4679-df22-d35e6f74ee9a"
      },
      "execution_count": null,
      "outputs": [
        {
          "output_type": "error",
          "ename": "TypeError",
          "evalue": "'str' object is not callable",
          "traceback": [
            "\u001b[0;31m---------------------------------------------------------------------------\u001b[0m",
            "\u001b[0;31mTypeError\u001b[0m                                 Traceback (most recent call last)",
            "\u001b[0;32m<ipython-input-12-f8a41fb477fa>\u001b[0m in \u001b[0;36m<cell line: 2>\u001b[0;34m()\u001b[0m\n\u001b[1;32m      1\u001b[0m \u001b[0mslovar\u001b[0m \u001b[0;34m=\u001b[0m \u001b[0;34m{\u001b[0m\u001b[0;34m\"Alice\"\u001b[0m\u001b[0;34m:\u001b[0m \u001b[0;36m25\u001b[0m\u001b[0;34m,\u001b[0m \u001b[0;34m\"Bob\"\u001b[0m\u001b[0;34m:\u001b[0m \u001b[0;36m30\u001b[0m\u001b[0;34m,\u001b[0m \u001b[0;34m\"Charlie\"\u001b[0m\u001b[0;34m:\u001b[0m \u001b[0;36m35\u001b[0m\u001b[0;34m}\u001b[0m\u001b[0;34m\u001b[0m\u001b[0;34m\u001b[0m\u001b[0m\n\u001b[0;32m----> 2\u001b[0;31m \u001b[0mvvod\u001b[0m \u001b[0;34m=\u001b[0m \u001b[0minput\u001b[0m\u001b[0;34m(\u001b[0m\u001b[0;34m\"Введите имя: \"\u001b[0m\u001b[0;34m)\u001b[0m\u001b[0;34m\u001b[0m\u001b[0;34m\u001b[0m\u001b[0m\n\u001b[0m\u001b[1;32m      3\u001b[0m \u001b[0;34m\u001b[0m\u001b[0m\n\u001b[1;32m      4\u001b[0m \u001b[0;32mif\u001b[0m \u001b[0mvvod\u001b[0m \u001b[0;32min\u001b[0m \u001b[0mslovar\u001b[0m\u001b[0;34m:\u001b[0m\u001b[0;34m\u001b[0m\u001b[0;34m\u001b[0m\u001b[0m\n\u001b[1;32m      5\u001b[0m     \u001b[0mprint\u001b[0m\u001b[0;34m(\u001b[0m\u001b[0mslovar\u001b[0m\u001b[0;34m[\u001b[0m\u001b[0mvvod\u001b[0m\u001b[0;34m]\u001b[0m\u001b[0;34m)\u001b[0m\u001b[0;34m\u001b[0m\u001b[0;34m\u001b[0m\u001b[0m\n",
            "\u001b[0;31mTypeError\u001b[0m: 'str' object is not callable"
          ]
        }
      ]
    },
    {
      "cell_type": "code",
      "source": [],
      "metadata": {
        "id": "dJ4f92rKRypm"
      },
      "execution_count": null,
      "outputs": []
    },
    {
      "cell_type": "markdown",
      "source": [
        "# **Задание 2**\n"
      ],
      "metadata": {
        "id": "lpjJz-_YcJ-t"
      }
    },
    {
      "cell_type": "markdown",
      "source": [
        "\n",
        "\n",
        "Дан список, состоящий из целых чисел, необходимо написать функцию считающую сумму всех положительных четных чисел списка\n",
        "\n",
        "Ввод:\n",
        "\n",
        "```\n",
        "1, 2, 3, 4, 5, 6, 7, 8, 9\n",
        "```\n",
        "\n",
        "Вывод:\n",
        "\n",
        "\n",
        "```\n",
        "20\n",
        "```\n",
        "\n",
        "***Запрещено:***\n",
        "\n",
        "*   Использование готовых функций для суммирования чисел\n"
      ],
      "metadata": {
        "id": "tMEsAB4rUiWW"
      }
    },
    {
      "cell_type": "code",
      "source": [
        "numbers = [1, 2, 3, 4, 5, 6, 7, 8, 9]\n",
        "count = 0\n",
        "\n",
        "for i in numbers:\n",
        "    if i > 0 and i % 2 == 0:\n",
        "        count += i\n",
        "\n",
        "print(\"Сумма четных чисел:\", count)\n"
      ],
      "metadata": {
        "id": "wDNUFLeqNQS_",
        "colab": {
          "base_uri": "https://localhost:8080/"
        },
        "outputId": "b193d432-c9e4-481e-ef32-58865b8ad8ff"
      },
      "execution_count": null,
      "outputs": [
        {
          "output_type": "stream",
          "name": "stdout",
          "text": [
            "Сумма четных чисел: 20\n"
          ]
        }
      ]
    },
    {
      "cell_type": "markdown",
      "source": [
        "# **Задание 3**"
      ],
      "metadata": {
        "id": "WT_v-vz1dUZJ"
      }
    },
    {
      "cell_type": "markdown",
      "source": [
        "Дан словарь, содержащий название фрукта и его цвет, выведите список всех желтых фруктов\n",
        "\n",
        "\n",
        "Дано:\n",
        "\n",
        "```\n",
        "fruits_and_colors = {\n",
        "    \"apple\": \"red\",\n",
        "    \"banana\": \"yellow\",\n",
        "    \"mango\": \"yellow\",\n",
        "    \"orange\": \"orange\",\n",
        "    \"lemon\": \"yellow\",\n",
        "    \"grape\": \"purple\"\n",
        "}\n",
        "```\n",
        "\n",
        "Вывод:\n",
        "\n",
        "\n",
        "```\n",
        "Yellow fruits:\n",
        "banana\n",
        "lemon\n",
        "mango\n",
        "```\n",
        "\n"
      ],
      "metadata": {
        "id": "ZI5Xeh2DdXgF"
      }
    },
    {
      "cell_type": "code",
      "source": [
        "fruits = {\n",
        "    \"apple\": \"red\",\n",
        "    \"banana\": \"yellow\",\n",
        "    \"mango\": \"yellow\",\n",
        "    \"orange\": \"orange\",\n",
        "    \"lemon\": \"yellow\",\n",
        "    \"grape\": \"purple\"\n",
        "}\n",
        "print('Желтые фрукты:')\n",
        "for k,v in fruits.items():\n",
        "    if v == \"yellow\":\n",
        "        print(k)\n",
        "\n"
      ],
      "metadata": {
        "id": "aNzFTkhKdkTG",
        "colab": {
          "base_uri": "https://localhost:8080/"
        },
        "outputId": "560c7e9e-a7ab-493c-b75e-7cdb88ff54c8"
      },
      "execution_count": null,
      "outputs": [
        {
          "output_type": "stream",
          "name": "stdout",
          "text": [
            "Желтые фрукты:\n",
            "banana\n",
            "mango\n",
            "lemon\n"
          ]
        }
      ]
    },
    {
      "cell_type": "markdown",
      "source": [
        "# **Задание 4**\n"
      ],
      "metadata": {
        "id": "iHtMGt2icM7w"
      }
    },
    {
      "cell_type": "markdown",
      "source": [
        "\n",
        "\n",
        "Дан словарь, необходимо написать функцию меняющую ключ и значение местами\n",
        "\n",
        "Дано:\n",
        "\n",
        "\n",
        "```\n",
        "{\"a\": 1, \"b\": 2, \"c\": 3}\n",
        "```\n",
        "\n",
        "Вывод:\n",
        "\n",
        "```\n",
        "{1: 'a', 2: 'b', 3: 'c'}\n",
        "```\n",
        "\n"
      ],
      "metadata": {
        "id": "rS3THsnBQ_EB"
      }
    },
    {
      "cell_type": "code",
      "source": [
        "slovar = {\"a\": 1, \"b\": 2, \"c\": 3}\n",
        "revers = {}\n",
        "for k,v in slovar.items():\n",
        "    revers[v] = k\n",
        "print(revers)"
      ],
      "metadata": {
        "id": "OkMOqt-1kowN",
        "colab": {
          "base_uri": "https://localhost:8080/"
        },
        "outputId": "dee4d323-8c65-4bb2-9962-7d4a262920e2"
      },
      "execution_count": null,
      "outputs": [
        {
          "output_type": "stream",
          "name": "stdout",
          "text": [
            "{1: 'a', 2: 'b', 3: 'c'}\n"
          ]
        }
      ]
    },
    {
      "cell_type": "markdown",
      "source": [
        "# **Задание 5**"
      ],
      "metadata": {
        "id": "x6ff5nd0cUxD"
      }
    },
    {
      "cell_type": "markdown",
      "source": [
        "Дан список слов, неограниченной длинны, сформируйте словарь, где в качестве ключа будет слово, а в качестве значения количество символов\n",
        "\n",
        "**Критерии**\n",
        "\n",
        "\n",
        "*   Словарь необходимо отсортировать по убыванию количества элементов в списке.\n",
        "*   Подсчет элементов должен быть реализован в отдельной функции\n",
        "*   Сортировка пары `ключ:значение` должна быть реализована также в виде отдельной функции\n",
        "\n",
        "\n",
        "\n",
        "\n",
        "Дано:\n",
        "```\n",
        "['apple','banana','orange','apple','apple','banana']\n",
        "```\n",
        "\n",
        "\n",
        "Вывод:\n",
        "```\n",
        "{'apple':3, 'banana': 2, 'orange': 1}\n",
        "```\n",
        "\n",
        "***Запрещено:***\n",
        "\n",
        "*   Использование готовых функций для сортировки словаря\n",
        "*   Использование готовых функций для подсчета элементов\n",
        "\n"
      ],
      "metadata": {
        "id": "ypQNHOG4NQz3"
      }
    },
    {
      "cell_type": "code",
      "source": [
        "def count_words(words):\n",
        "    w_count = {}\n",
        "    for word in words:\n",
        "        w_count[word] = w_count.get(word, 0) + 1\n",
        "    return w_count                                   #нашли колич повторов\n",
        "\n",
        "words = ['apple', 'banana', 'orange', 'apple', 'apple', 'banana']\n",
        "sort_word = count_words(words)\n",
        "\n",
        "print(sort_word)\n",
        "\n"
      ],
      "metadata": {
        "id": "kUzcXxsrtVoA",
        "colab": {
          "base_uri": "https://localhost:8080/"
        },
        "outputId": "44691709-b4a1-4f71-8ed8-80a85e98bcf8"
      },
      "execution_count": null,
      "outputs": [
        {
          "output_type": "stream",
          "name": "stdout",
          "text": [
            "{'apple': 3, 'banana': 2, 'orange': 1}\n"
          ]
        }
      ]
    },
    {
      "cell_type": "markdown",
      "source": [
        "# **Задание 6**"
      ],
      "metadata": {
        "id": "d7fDUr2WcY_G"
      }
    },
    {
      "cell_type": "markdown",
      "source": [
        "Дан словарь, содержащий информацию о людях, необходимо:\n",
        "\n",
        "\n",
        "\n",
        "*   Вывести всех людей старше 30 лет\n",
        "*   Вывести список городов и количество людей из словаря проживающих в них\n",
        "*   Вывести список профессий и список людей для каждой профессии\n",
        "\n",
        "**Критерии**\n",
        "\n",
        "Каждый из пунктов необходимо реализовать в виде функции\n",
        "\n"
      ],
      "metadata": {
        "id": "m11qdVhSWBi7"
      }
    },
    {
      "cell_type": "code",
      "source": [
        "people_info = {\n",
        "    \"Alice\": {\"age\": 25, \"city\": \"New York\", \"occupation\": \"Engineer\"},\n",
        "    \"Bob\": {\"age\": 30, \"city\": \"Los Angeles\", \"occupation\": \"Designer\"},\n",
        "    \"Charlie\": {\"age\": 35, \"city\": \"Chicago\", \"occupation\": \"Teacher\"},\n",
        "    \"Diana\": {\"age\": 28, \"city\": \"Miami\", \"occupation\": \"Doctor\"},\n",
        "    \"Ethan\": {\"age\": 40, \"city\": \"Seattle\", \"occupation\": \"Chef\"},\n",
        "    \"Frank\": {\"age\": 32, \"city\": \"Atlanta\", \"occupation\": \"Lawyer\"},\n",
        "    \"Gabriella\": {\"age\": 29, \"city\": \"San Francisco\", \"occupation\": \"Software Engineer\"},\n",
        "    \"Harrison\": {\"age\": 38, \"city\": \"Denver\", \"occupation\": \"Architect\"},\n",
        "    \"Isabella\": {\"age\": 26, \"city\": \"Washington D.C.\", \"occupation\": \"Journalist\"},\n",
        "    \"Julian\": {\"age\": 42, \"city\": \"Miami\", \"occupation\": \"Musician\"},\n",
        "    \"Kate\": {\"age\": 31, \"city\": \"Philadelphia\", \"occupation\": \"Nurse\"},\n",
        "    \"Lucas\": {\"age\": 36, \"city\": \"Nashville\", \"occupation\": \"Businessman\"},\n",
        "    \"Mia\": {\"age\": 27, \"city\": \"Atlanta\", \"occupation\": \"Artist\"},\n",
        "    \"Natalie\": {\"age\": 39, \"city\": \"Portland\", \"occupation\": \"Writer\"},\n",
        "    \"Oliver\": {\"age\": 44, \"city\": \"Minneapolis\", \"occupation\": \"Professor\"},\n",
        "    \"Penelope\": {\"age\": 33, \"city\": \"San Diego\", \"occupation\": \"Marketing Manager\"},\n",
        "    \"Quincy\": {\"age\": 41, \"city\": \"Nashville\", \"occupation\": \"Singer\"},\n",
        "    \"Rachel\": {\"age\": 34, \"city\": \"Cleveland\", \"occupation\": \"Teacher\"},\n",
        "    \"Sophia\": {\"age\": 29, \"city\": \"Nashville\", \"occupation\": \"Engineer\"},\n",
        "    \"Tessa\": {\"age\": 37, \"city\": \"Miami\", \"occupation\": \"Lawyer\"}\n",
        "}\n",
        "\n",
        "\n",
        "def people_30():\n",
        "    print(\"Люди старше 30 лет:\")\n",
        "    for name, info in people_info.items():\n",
        "        if info[\"age\"] > 30:\n",
        "            print(name)\n",
        "\n",
        "def people_city():\n",
        "    print(\"Количество людей в городах:\")\n",
        "    city_count = {}\n",
        "    for info in people_info.values():\n",
        "        city = info[\"city\"]\n",
        "        if city in city_count:\n",
        "            city_count[city] += 1\n",
        "        else:\n",
        "            city_count[city] = 1\n",
        "    for city, count in city_count.items():\n",
        "        print(city, count)\n",
        "\n",
        "def people_job():\n",
        "    print(\"Люди по профессиям:\")\n",
        "    job_dict = {}\n",
        "    for name, info in people_info.items():\n",
        "        job = info[\"occupation\"]\n",
        "        if job in job_dict:\n",
        "            job_dict[job].append(name)\n",
        "        else:\n",
        "            job_dict[job] = [name]\n",
        "    for job, names in job_dict.items():\n",
        "        print(job, names)\n",
        "\n",
        "\n",
        "people_30()\n",
        "people_city()\n",
        "people_job()\n",
        "\n"
      ],
      "metadata": {
        "colab": {
          "base_uri": "https://localhost:8080/"
        },
        "id": "T7syHCejhiFo",
        "outputId": "be564877-e564-4f44-eee4-a833e4e0de28"
      },
      "execution_count": null,
      "outputs": [
        {
          "output_type": "stream",
          "name": "stdout",
          "text": [
            "Люди старше 30 лет:\n",
            "Charlie\n",
            "Ethan\n",
            "Frank\n",
            "Harrison\n",
            "Julian\n",
            "Kate\n",
            "Lucas\n",
            "Natalie\n",
            "Oliver\n",
            "Penelope\n",
            "Quincy\n",
            "Rachel\n",
            "Tessa\n",
            "Количество людей в городах:\n",
            "New York 1\n",
            "Los Angeles 1\n",
            "Chicago 1\n",
            "Miami 3\n",
            "Seattle 1\n",
            "Atlanta 2\n",
            "San Francisco 1\n",
            "Denver 1\n",
            "Washington D.C. 1\n",
            "Philadelphia 1\n",
            "Nashville 3\n",
            "Portland 1\n",
            "Minneapolis 1\n",
            "San Diego 1\n",
            "Cleveland 1\n",
            "Люди по профессиям:\n",
            "Engineer ['Alice', 'Sophia']\n",
            "Designer ['Bob']\n",
            "Teacher ['Charlie', 'Rachel']\n",
            "Doctor ['Diana']\n",
            "Chef ['Ethan']\n",
            "Lawyer ['Frank', 'Tessa']\n",
            "Software Engineer ['Gabriella']\n",
            "Architect ['Harrison']\n",
            "Journalist ['Isabella']\n",
            "Musician ['Julian']\n",
            "Nurse ['Kate']\n",
            "Businessman ['Lucas']\n",
            "Artist ['Mia']\n",
            "Writer ['Natalie']\n",
            "Professor ['Oliver']\n",
            "Marketing Manager ['Penelope']\n",
            "Singer ['Quincy']\n"
          ]
        }
      ]
    },
    {
      "cell_type": "code",
      "source": [
        "people_info = {\n",
        "    \"Alice\": {\"age\": 25, \"city\": \"New York\", \"occupation\": \"Engineer\"},\n",
        "    \"Bob\": {\"age\": 30, \"city\": \"Los Angeles\", \"occupation\": \"Designer\"},\n",
        "    \"Charlie\": {\"age\": 35, \"city\": \"Chicago\", \"occupation\": \"Teacher\"},\n",
        "    \"Diana\": {\"age\": 28, \"city\": \"Miami\", \"occupation\": \"Doctor\"},\n",
        "    \"Ethan\": {\"age\": 40, \"city\": \"Seattle\", \"occupation\": \"Chef\"},\n",
        "    \"Frank\": {\"age\": 32, \"city\": \"Atlanta\", \"occupation\": \"Lawyer\"},\n",
        "    \"Gabriella\": {\"age\": 29, \"city\": \"San Francisco\", \"occupation\": \"Software Engineer\"},\n",
        "    \"Harrison\": {\"age\": 38, \"city\": \"Denver\", \"occupation\": \"Architect\"},\n",
        "    \"Isabella\": {\"age\": 26, \"city\": \"Washington D.C.\", \"occupation\": \"Journalist\"},\n",
        "    \"Julian\": {\"age\": 42, \"city\": \"Miami\", \"occupation\": \"Musician\"},\n",
        "    \"Kate\": {\"age\": 31, \"city\": \"Philadelphia\", \"occupation\": \"Nurse\"},\n",
        "    \"Lucas\": {\"age\": 36, \"city\": \"Nashville\", \"occupation\": \"Businessman\"},\n",
        "    \"Mia\": {\"age\": 27, \"city\": \"Atlanta\", \"occupation\": \"Artist\"},\n",
        "    \"Natalie\": {\"age\": 39, \"city\": \"Portland\", \"occupation\": \"Writer\"},\n",
        "    \"Oliver\": {\"age\": 44, \"city\": \"Minneapolis\", \"occupation\": \"Professor\"},\n",
        "    \"Penelope\": {\"age\": 33, \"city\": \"San Diego\", \"occupation\": \"Marketing Manager\"},\n",
        "    \"Quincy\": {\"age\": 41, \"city\": \"Nashville\", \"occupation\": \"Singer\"},\n",
        "    \"Rachel\": {\"age\": 34, \"city\": \"Cleveland\", \"occupation\": \"Teacher\"},\n",
        "    \"Sophia\": {\"age\": 29, \"city\": \"Nashville\", \"occupation\": \"Engineer\"},\n",
        "    \"Tessa\": {\"age\": 37, \"city\": \"Miami\", \"occupation\": \"Lawyer\"}\n",
        "}"
      ],
      "metadata": {
        "id": "lSNtB39OWtFl"
      },
      "execution_count": null,
      "outputs": []
    },
    {
      "cell_type": "markdown",
      "source": [
        "# **Задание 7**"
      ],
      "metadata": {
        "id": "27IuB2YScezw"
      }
    },
    {
      "cell_type": "markdown",
      "source": [
        "Задание: Разработка системы отзывов о предметах\n",
        "\n",
        "Описание: Создать программу на Python для хранения и управления отзывами о предметах учебного курса. Программа должна позволять пользователям добавлять, просматривать и удалять отзывы, а также вычислять средний балл по заданному предмету.\n",
        "\n",
        "**Функционал:**\n",
        "\n",
        "*   Добавление отзыва и оценки:\n",
        "   *   Пользователь может ввести название предмета, оценку (от 1 до 5) и текст отзыва.\n",
        "   *   Отзывы должны храниться в структуре данных (например, словаре), где ключом будет название предмета, а значением - список отзывов (каждый отзыв может хранить оценку и комментарий).\n",
        "*   Просмотр отзывов и оценок:\n",
        "   *   Пользователь может запросить отзывы для указанного предмета.\n",
        "   *   Если для указанного предмета есть отзывы, программа должна отобразить список всех отзывов и соответствующих оценок.\n",
        "*   Удаление отзыва:\n",
        "   *   Пользователь может удалить отзыв по индексу. Необходимо заранее уведомить пользователя о том, какие отзывы доступны для удаления.\n",
        "   *   Программа должна обработать ситуацию, когда индекс введен неправильно.\n",
        "*   Вычисление среднего балла по предмету:\n",
        "   *   Пользователь может ввести название предмета, и программа должна вычислить и вывести средний балл по всем отзывам для этого предмета.\n",
        "   *   Если отзывов нет, программа должна сообщить об этом.\n",
        "\n",
        "\n",
        "**Критерии:**\n",
        "\n",
        "*   Код должен быть оформлен в виде функций\n",
        "*   Необходимо обрабатывать неправильный ввод пользователя\n",
        "*   Должны быть комментарии к функциям\n",
        "*   Присутсвует весь дополнительный функционал\n",
        "\n",
        "\n",
        "\n",
        "**Опционально:**\n",
        "\n",
        "Предлагаю вам добавить свои критерии оценки или вопросы, на которые должен ответить студент, чтобы оценить пару\n",
        "\n",
        "\n"
      ],
      "metadata": {
        "id": "Fd95-S9cYhct"
      }
    },
    {
      "cell_type": "code",
      "source": [
        "comments = {}\n",
        "\n",
        "def add_comment():\n",
        "    name = input(\"Введите название предмета: \")\n",
        "    rating = int(input(\"Введите оценку (от 1 до 5): \"))\n",
        "    text = input(\"Введите текст отзыва: \")\n",
        "\n",
        "    if name not in comments:\n",
        "        comments[name] = []\n",
        "    comments[name].append({\"rating\": rating, \"comment\": text})\n",
        "\n",
        "def view_comment():\n",
        "    name = input(\"Введите название предмета для просмотра отзывов: \")\n",
        "\n",
        "    if name in comments:\n",
        "        for i, comment in enumerate(comments[name]):\n",
        "            print(f\"{i}: Оценка: {comment['rating']}, Отзыв: {comment['comment']}\")\n",
        "    else:\n",
        "        print(\"Отзывов нет.\")\n",
        "\n",
        "def delete_comment():\n",
        "    name = input(\"Введите название предмета для удаления отзыва: \")\n",
        "\n",
        "    if name in comments:\n",
        "        view_comment()\n",
        "        index = int(input(\"Введите индекс отзыва для удаления: \"))\n",
        "        if 0 <= index < len(comments[name]):\n",
        "            del comments[name][index]\n",
        "            print(\"Отзыв удален.\")\n",
        "        else:\n",
        "            print(\"Неверный индекс.\")\n",
        "    else:\n",
        "        print(\"Отзывов нет.\")\n",
        "\n",
        "def rating():\n",
        "    name = input(\"Введите название предмета для вычисления среднего балла: \")\n",
        "\n",
        "    if name in comments and comments[name]:\n",
        "        total = sum(review['rating'] for review in comments[name])\n",
        "        average = total / len(comments[name])\n",
        "        print(f\"Средний балл по предмету '{name}': {average:.2f}\")\n",
        "    else:\n",
        "        print(\"Отзывов нет.\")\n",
        "\n",
        "def main():\n",
        "    while True:\n",
        "        print(\"1. Добавить отзыв\")\n",
        "        print(\"2. Просмотреть отзывы\")\n",
        "        print(\"3. Удалить отзыв\")\n",
        "        print(\"4. Вычислить средний балл\")\n",
        "        print(\"5. Выход\")\n",
        "        vvod = input(\"Что хотите сделать?: \")\n",
        "        if vvod == '1':\n",
        "            add_comment()\n",
        "        elif vvod == '2':\n",
        "            view_comment()\n",
        "        elif vvod == '3':\n",
        "            delete_comment()\n",
        "        elif vvod == '4':\n",
        "            rating()\n",
        "        elif vvod == '5':\n",
        "            break\n",
        "        else:\n",
        "            print(\"Неверный ввод.\")\n",
        "\n",
        "main()\n"
      ],
      "metadata": {
        "id": "eIYFmgVSODR8",
        "colab": {
          "base_uri": "https://localhost:8080/",
          "height": 894
        },
        "outputId": "79bb6a75-e24b-40f7-dc62-fcbf546c5ac9"
      },
      "execution_count": null,
      "outputs": [
        {
          "output_type": "stream",
          "name": "stdout",
          "text": [
            "1. Добавить отзыв\n",
            "2. Просмотреть отзывы\n",
            "3. Удалить отзыв\n",
            "4. Вычислить средний балл\n",
            "5. Выход\n",
            "Что хотите сделать?: 3\n",
            "Введите название предмета для удаления отзыва: vfvf\n",
            "Отзывов нет.\n",
            "1. Добавить отзыв\n",
            "2. Просмотреть отзывы\n",
            "3. Удалить отзыв\n",
            "4. Вычислить средний балл\n",
            "5. Выход\n",
            "Что хотите сделать?: 1\n",
            "Введите название предмета: vf\n",
            "Введите оценку (от 1 до 5): 1\n",
            "Введите текст отзыва: lliji\n",
            "1. Добавить отзыв\n",
            "2. Просмотреть отзывы\n",
            "3. Удалить отзыв\n",
            "4. Вычислить средний балл\n",
            "5. Выход\n",
            "Что хотите сделать?: 3\n",
            "Введите название предмета для удаления отзыва: vf\n",
            "Введите название предмета для просмотра отзывов: vf\n",
            "0: Оценка: 1, Отзыв: lliji\n",
            "Введите индекс отзыва для удаления: 0\n",
            "Отзыв удален.\n",
            "1. Добавить отзыв\n",
            "2. Просмотреть отзывы\n",
            "3. Удалить отзыв\n",
            "4. Вычислить средний балл\n",
            "5. Выход\n"
          ]
        },
        {
          "output_type": "error",
          "ename": "KeyboardInterrupt",
          "evalue": "Interrupted by user",
          "traceback": [
            "\u001b[0;31m---------------------------------------------------------------------------\u001b[0m",
            "\u001b[0;31mKeyboardInterrupt\u001b[0m                         Traceback (most recent call last)",
            "\u001b[0;32m<ipython-input-10-f8d54c094784>\u001b[0m in \u001b[0;36m<cell line: 66>\u001b[0;34m()\u001b[0m\n\u001b[1;32m     64\u001b[0m             \u001b[0mprint\u001b[0m\u001b[0;34m(\u001b[0m\u001b[0;34m\"Неверный ввод.\"\u001b[0m\u001b[0;34m)\u001b[0m\u001b[0;34m\u001b[0m\u001b[0;34m\u001b[0m\u001b[0m\n\u001b[1;32m     65\u001b[0m \u001b[0;34m\u001b[0m\u001b[0m\n\u001b[0;32m---> 66\u001b[0;31m \u001b[0mmain\u001b[0m\u001b[0;34m(\u001b[0m\u001b[0;34m)\u001b[0m\u001b[0;34m\u001b[0m\u001b[0;34m\u001b[0m\u001b[0m\n\u001b[0m",
            "\u001b[0;32m<ipython-input-10-f8d54c094784>\u001b[0m in \u001b[0;36mmain\u001b[0;34m()\u001b[0m\n\u001b[1;32m     50\u001b[0m         \u001b[0mprint\u001b[0m\u001b[0;34m(\u001b[0m\u001b[0;34m\"4. Вычислить средний балл\"\u001b[0m\u001b[0;34m)\u001b[0m\u001b[0;34m\u001b[0m\u001b[0;34m\u001b[0m\u001b[0m\n\u001b[1;32m     51\u001b[0m         \u001b[0mprint\u001b[0m\u001b[0;34m(\u001b[0m\u001b[0;34m\"5. Выход\"\u001b[0m\u001b[0;34m)\u001b[0m\u001b[0;34m\u001b[0m\u001b[0;34m\u001b[0m\u001b[0m\n\u001b[0;32m---> 52\u001b[0;31m         \u001b[0mvvod\u001b[0m \u001b[0;34m=\u001b[0m \u001b[0minput\u001b[0m\u001b[0;34m(\u001b[0m\u001b[0;34m\"Что хотите сделать?: \"\u001b[0m\u001b[0;34m)\u001b[0m\u001b[0;34m\u001b[0m\u001b[0;34m\u001b[0m\u001b[0m\n\u001b[0m\u001b[1;32m     53\u001b[0m         \u001b[0;32mif\u001b[0m \u001b[0mvvod\u001b[0m \u001b[0;34m==\u001b[0m \u001b[0;34m'1'\u001b[0m\u001b[0;34m:\u001b[0m\u001b[0;34m\u001b[0m\u001b[0;34m\u001b[0m\u001b[0m\n\u001b[1;32m     54\u001b[0m             \u001b[0madd_comment\u001b[0m\u001b[0;34m(\u001b[0m\u001b[0;34m)\u001b[0m\u001b[0;34m\u001b[0m\u001b[0;34m\u001b[0m\u001b[0m\n",
            "\u001b[0;32m/usr/local/lib/python3.10/dist-packages/ipykernel/kernelbase.py\u001b[0m in \u001b[0;36mraw_input\u001b[0;34m(self, prompt)\u001b[0m\n\u001b[1;32m    849\u001b[0m                 \u001b[0;34m\"raw_input was called, but this frontend does not support input requests.\"\u001b[0m\u001b[0;34m\u001b[0m\u001b[0;34m\u001b[0m\u001b[0m\n\u001b[1;32m    850\u001b[0m             )\n\u001b[0;32m--> 851\u001b[0;31m         return self._input_request(str(prompt),\n\u001b[0m\u001b[1;32m    852\u001b[0m             \u001b[0mself\u001b[0m\u001b[0;34m.\u001b[0m\u001b[0m_parent_ident\u001b[0m\u001b[0;34m,\u001b[0m\u001b[0;34m\u001b[0m\u001b[0;34m\u001b[0m\u001b[0m\n\u001b[1;32m    853\u001b[0m             \u001b[0mself\u001b[0m\u001b[0;34m.\u001b[0m\u001b[0m_parent_header\u001b[0m\u001b[0;34m,\u001b[0m\u001b[0;34m\u001b[0m\u001b[0;34m\u001b[0m\u001b[0m\n",
            "\u001b[0;32m/usr/local/lib/python3.10/dist-packages/ipykernel/kernelbase.py\u001b[0m in \u001b[0;36m_input_request\u001b[0;34m(self, prompt, ident, parent, password)\u001b[0m\n\u001b[1;32m    893\u001b[0m             \u001b[0;32mexcept\u001b[0m \u001b[0mKeyboardInterrupt\u001b[0m\u001b[0;34m:\u001b[0m\u001b[0;34m\u001b[0m\u001b[0;34m\u001b[0m\u001b[0m\n\u001b[1;32m    894\u001b[0m                 \u001b[0;31m# re-raise KeyboardInterrupt, to truncate traceback\u001b[0m\u001b[0;34m\u001b[0m\u001b[0;34m\u001b[0m\u001b[0m\n\u001b[0;32m--> 895\u001b[0;31m                 \u001b[0;32mraise\u001b[0m \u001b[0mKeyboardInterrupt\u001b[0m\u001b[0;34m(\u001b[0m\u001b[0;34m\"Interrupted by user\"\u001b[0m\u001b[0;34m)\u001b[0m \u001b[0;32mfrom\u001b[0m \u001b[0;32mNone\u001b[0m\u001b[0;34m\u001b[0m\u001b[0;34m\u001b[0m\u001b[0m\n\u001b[0m\u001b[1;32m    896\u001b[0m             \u001b[0;32mexcept\u001b[0m \u001b[0mException\u001b[0m \u001b[0;32mas\u001b[0m \u001b[0me\u001b[0m\u001b[0;34m:\u001b[0m\u001b[0;34m\u001b[0m\u001b[0;34m\u001b[0m\u001b[0m\n\u001b[1;32m    897\u001b[0m                 \u001b[0mself\u001b[0m\u001b[0;34m.\u001b[0m\u001b[0mlog\u001b[0m\u001b[0;34m.\u001b[0m\u001b[0mwarning\u001b[0m\u001b[0;34m(\u001b[0m\u001b[0;34m\"Invalid Message:\"\u001b[0m\u001b[0;34m,\u001b[0m \u001b[0mexc_info\u001b[0m\u001b[0;34m=\u001b[0m\u001b[0;32mTrue\u001b[0m\u001b[0;34m)\u001b[0m\u001b[0;34m\u001b[0m\u001b[0;34m\u001b[0m\u001b[0m\n",
            "\u001b[0;31mKeyboardInterrupt\u001b[0m: Interrupted by user"
          ]
        }
      ]
    }
  ]
}